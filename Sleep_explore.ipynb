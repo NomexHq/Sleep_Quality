{
 "cells": [
  {
   "cell_type": "markdown",
   "metadata": {},
   "source": [
    "# Importing the libraries"
   ]
  },
  {
   "cell_type": "code",
   "execution_count": 303,
   "metadata": {},
   "outputs": [],
   "source": [
    "import pandas as pd\n",
    "from datetime import datetime\n",
    "import seaborn as sns\n",
    "import matplotlib.pyplot as plt\n",
    "import numpy as np\n",
    "import missingno as msno\n",
    "from statsmodels.formula.api import ols\n",
    "import scipy\n",
    "from scipy import stats\n",
    "from scipy.stats import norm\n",
    "%matplotlib inline"
   ]
  },
  {
   "cell_type": "markdown",
   "metadata": {},
   "source": [
    "# Loading and understanding data"
   ]
  },
  {
   "cell_type": "code",
   "execution_count": 233,
   "metadata": {},
   "outputs": [],
   "source": [
    "# loading the file\n",
    "\n",
    "data = pd.read_csv('sleepdata.csv', delimiter = ';')"
   ]
  },
  {
   "cell_type": "code",
   "execution_count": 234,
   "metadata": {},
   "outputs": [
    {
     "data": {
      "text/plain": [
       "(270, 8)"
      ]
     },
     "execution_count": 234,
     "metadata": {},
     "output_type": "execute_result"
    }
   ],
   "source": [
    "# checking the shape of dataframe\n",
    "\n",
    "data.shape"
   ]
  },
  {
   "cell_type": "code",
   "execution_count": 235,
   "metadata": {},
   "outputs": [
    {
     "data": {
      "text/html": [
       "<div>\n",
       "<style scoped>\n",
       "    .dataframe tbody tr th:only-of-type {\n",
       "        vertical-align: middle;\n",
       "    }\n",
       "\n",
       "    .dataframe tbody tr th {\n",
       "        vertical-align: top;\n",
       "    }\n",
       "\n",
       "    .dataframe thead th {\n",
       "        text-align: right;\n",
       "    }\n",
       "</style>\n",
       "<table border=\"1\" class=\"dataframe\">\n",
       "  <thead>\n",
       "    <tr style=\"text-align: right;\">\n",
       "      <th></th>\n",
       "      <th>Start</th>\n",
       "      <th>End</th>\n",
       "      <th>Sleep quality</th>\n",
       "      <th>Time in bed</th>\n",
       "      <th>Wake up</th>\n",
       "      <th>Sleep Notes</th>\n",
       "      <th>Heart rate</th>\n",
       "      <th>Activity (steps)</th>\n",
       "    </tr>\n",
       "  </thead>\n",
       "  <tbody>\n",
       "    <tr>\n",
       "      <th>0</th>\n",
       "      <td>2013-03-10 11:41:32</td>\n",
       "      <td>2013-03-10 17:33:33</td>\n",
       "      <td>63%</td>\n",
       "      <td>5:52</td>\n",
       "      <td>NaN</td>\n",
       "      <td>NaN</td>\n",
       "      <td>NaN</td>\n",
       "      <td>0</td>\n",
       "    </tr>\n",
       "    <tr>\n",
       "      <th>1</th>\n",
       "      <td>2013-03-11 10:09:53</td>\n",
       "      <td>2013-03-11 17:49:49</td>\n",
       "      <td>82%</td>\n",
       "      <td>7:39</td>\n",
       "      <td>NaN</td>\n",
       "      <td>NaN</td>\n",
       "      <td>NaN</td>\n",
       "      <td>0</td>\n",
       "    </tr>\n",
       "    <tr>\n",
       "      <th>2</th>\n",
       "      <td>2013-03-12 10:35:15</td>\n",
       "      <td>2013-03-12 10:51:50</td>\n",
       "      <td>3%</td>\n",
       "      <td>0:16</td>\n",
       "      <td>NaN</td>\n",
       "      <td>NaN</td>\n",
       "      <td>NaN</td>\n",
       "      <td>0</td>\n",
       "    </tr>\n",
       "    <tr>\n",
       "      <th>3</th>\n",
       "      <td>2013-03-12 11:08:14</td>\n",
       "      <td>2013-03-12 11:24:05</td>\n",
       "      <td>3%</td>\n",
       "      <td>0:15</td>\n",
       "      <td>NaN</td>\n",
       "      <td>NaN</td>\n",
       "      <td>NaN</td>\n",
       "      <td>0</td>\n",
       "    </tr>\n",
       "    <tr>\n",
       "      <th>4</th>\n",
       "      <td>2013-03-12 11:24:19</td>\n",
       "      <td>2013-03-12 17:53:05</td>\n",
       "      <td>69%</td>\n",
       "      <td>6:28</td>\n",
       "      <td>NaN</td>\n",
       "      <td>NaN</td>\n",
       "      <td>NaN</td>\n",
       "      <td>0</td>\n",
       "    </tr>\n",
       "  </tbody>\n",
       "</table>\n",
       "</div>"
      ],
      "text/plain": [
       "                 Start                  End Sleep quality Time in bed Wake up  \\\n",
       "0  2013-03-10 11:41:32  2013-03-10 17:33:33           63%        5:52     NaN   \n",
       "1  2013-03-11 10:09:53  2013-03-11 17:49:49           82%        7:39     NaN   \n",
       "2  2013-03-12 10:35:15  2013-03-12 10:51:50            3%        0:16     NaN   \n",
       "3  2013-03-12 11:08:14  2013-03-12 11:24:05            3%        0:15     NaN   \n",
       "4  2013-03-12 11:24:19  2013-03-12 17:53:05           69%        6:28     NaN   \n",
       "\n",
       "  Sleep Notes  Heart rate  Activity (steps)  \n",
       "0         NaN         NaN                 0  \n",
       "1         NaN         NaN                 0  \n",
       "2         NaN         NaN                 0  \n",
       "3         NaN         NaN                 0  \n",
       "4         NaN         NaN                 0  "
      ]
     },
     "execution_count": 235,
     "metadata": {},
     "output_type": "execute_result"
    }
   ],
   "source": [
    "# quick peek at the top 5 rows\n",
    "\n",
    "data.head()"
   ]
  },
  {
   "cell_type": "code",
   "execution_count": 236,
   "metadata": {},
   "outputs": [
    {
     "name": "stdout",
     "output_type": "stream",
     "text": [
      "<class 'pandas.core.frame.DataFrame'>\n",
      "RangeIndex: 270 entries, 0 to 269\n",
      "Data columns (total 8 columns):\n",
      "Start               270 non-null object\n",
      "End                 270 non-null object\n",
      "Sleep quality       270 non-null object\n",
      "Time in bed         270 non-null object\n",
      "Wake up             107 non-null object\n",
      "Sleep Notes         108 non-null object\n",
      "Heart rate          99 non-null float64\n",
      "Activity (steps)    270 non-null int64\n",
      "dtypes: float64(1), int64(1), object(6)\n",
      "memory usage: 17.0+ KB\n"
     ]
    }
   ],
   "source": [
    "# variables and their types\n",
    "\n",
    "data.info()"
   ]
  },
  {
   "cell_type": "markdown",
   "metadata": {},
   "source": [
    "# Cleaning and Validation"
   ]
  },
  {
   "cell_type": "code",
   "execution_count": 237,
   "metadata": {},
   "outputs": [
    {
     "data": {
      "text/html": [
       "<div>\n",
       "<style scoped>\n",
       "    .dataframe tbody tr th:only-of-type {\n",
       "        vertical-align: middle;\n",
       "    }\n",
       "\n",
       "    .dataframe tbody tr th {\n",
       "        vertical-align: top;\n",
       "    }\n",
       "\n",
       "    .dataframe thead th {\n",
       "        text-align: right;\n",
       "    }\n",
       "</style>\n",
       "<table border=\"1\" class=\"dataframe\">\n",
       "  <thead>\n",
       "    <tr style=\"text-align: right;\">\n",
       "      <th></th>\n",
       "      <th>Start</th>\n",
       "      <th>End</th>\n",
       "      <th>Sleep_quality</th>\n",
       "      <th>Time_in_bed</th>\n",
       "      <th>Wake_up</th>\n",
       "      <th>Sleep_Notes</th>\n",
       "      <th>Heart_rate</th>\n",
       "      <th>Activity_steps</th>\n",
       "    </tr>\n",
       "  </thead>\n",
       "  <tbody>\n",
       "    <tr>\n",
       "      <th>0</th>\n",
       "      <td>2013-03-10 11:41:32</td>\n",
       "      <td>2013-03-10 17:33:33</td>\n",
       "      <td>63%</td>\n",
       "      <td>5:52</td>\n",
       "      <td>NaN</td>\n",
       "      <td>NaN</td>\n",
       "      <td>NaN</td>\n",
       "      <td>0</td>\n",
       "    </tr>\n",
       "    <tr>\n",
       "      <th>1</th>\n",
       "      <td>2013-03-11 10:09:53</td>\n",
       "      <td>2013-03-11 17:49:49</td>\n",
       "      <td>82%</td>\n",
       "      <td>7:39</td>\n",
       "      <td>NaN</td>\n",
       "      <td>NaN</td>\n",
       "      <td>NaN</td>\n",
       "      <td>0</td>\n",
       "    </tr>\n",
       "    <tr>\n",
       "      <th>2</th>\n",
       "      <td>2013-03-12 10:35:15</td>\n",
       "      <td>2013-03-12 10:51:50</td>\n",
       "      <td>3%</td>\n",
       "      <td>0:16</td>\n",
       "      <td>NaN</td>\n",
       "      <td>NaN</td>\n",
       "      <td>NaN</td>\n",
       "      <td>0</td>\n",
       "    </tr>\n",
       "    <tr>\n",
       "      <th>3</th>\n",
       "      <td>2013-03-12 11:08:14</td>\n",
       "      <td>2013-03-12 11:24:05</td>\n",
       "      <td>3%</td>\n",
       "      <td>0:15</td>\n",
       "      <td>NaN</td>\n",
       "      <td>NaN</td>\n",
       "      <td>NaN</td>\n",
       "      <td>0</td>\n",
       "    </tr>\n",
       "    <tr>\n",
       "      <th>4</th>\n",
       "      <td>2013-03-12 11:24:19</td>\n",
       "      <td>2013-03-12 17:53:05</td>\n",
       "      <td>69%</td>\n",
       "      <td>6:28</td>\n",
       "      <td>NaN</td>\n",
       "      <td>NaN</td>\n",
       "      <td>NaN</td>\n",
       "      <td>0</td>\n",
       "    </tr>\n",
       "  </tbody>\n",
       "</table>\n",
       "</div>"
      ],
      "text/plain": [
       "                 Start                  End Sleep_quality Time_in_bed Wake_up  \\\n",
       "0  2013-03-10 11:41:32  2013-03-10 17:33:33           63%        5:52     NaN   \n",
       "1  2013-03-11 10:09:53  2013-03-11 17:49:49           82%        7:39     NaN   \n",
       "2  2013-03-12 10:35:15  2013-03-12 10:51:50            3%        0:16     NaN   \n",
       "3  2013-03-12 11:08:14  2013-03-12 11:24:05            3%        0:15     NaN   \n",
       "4  2013-03-12 11:24:19  2013-03-12 17:53:05           69%        6:28     NaN   \n",
       "\n",
       "  Sleep_Notes  Heart_rate  Activity_steps  \n",
       "0         NaN         NaN               0  \n",
       "1         NaN         NaN               0  \n",
       "2         NaN         NaN               0  \n",
       "3         NaN         NaN               0  \n",
       "4         NaN         NaN               0  "
      ]
     },
     "execution_count": 237,
     "metadata": {},
     "output_type": "execute_result"
    }
   ],
   "source": [
    "# removing spaces from the column names\n",
    "\n",
    "data.rename(\n",
    "  columns={\n",
    "    'Sleep quality' : 'Sleep_quality',\n",
    "    'Time in bed' : 'Time_in_bed',\n",
    "    'Wake up' : 'Wake_up',\n",
    "    'Sleep Notes' : 'Sleep_Notes',\n",
    "    'Heart rate' : 'Heart_rate',\n",
    "    'Activity (steps)' : 'Activity_steps',  \n",
    "  },\n",
    "  inplace=True\n",
    ")\n",
    "data.head()"
   ]
  },
  {
   "cell_type": "code",
   "execution_count": 238,
   "metadata": {},
   "outputs": [
    {
     "data": {
      "text/plain": [
       "(270, 7)"
      ]
     },
     "execution_count": 238,
     "metadata": {},
     "output_type": "execute_result"
    }
   ],
   "source": [
    "# removing unwanted columns\n",
    "\n",
    "df = data.drop(columns = ['Wake_up'])\n",
    "df.shape"
   ]
  },
  {
   "cell_type": "code",
   "execution_count": 239,
   "metadata": {},
   "outputs": [
    {
     "data": {
      "image/png": "[encoded data removed]",
      "text/plain": [
       "<Figure size 1800x720 with 2 Axes>"
      ]
     },
     "metadata": {
      "needs_background": "light"
     },
     "output_type": "display_data"
    }
   ],
   "source": [
    "# cheking for missing data\n",
    "\n",
    "msno.matrix(df);\n",
    "\n",
    "# sleep_notes and heart-rate columns are missing values"
   ]
  },
  {
   "cell_type": "code",
   "execution_count": 240,
   "metadata": {},
   "outputs": [
    {
     "name": "stdout",
     "output_type": "stream",
     "text": [
      "(135, 7)\n"
     ]
    },
    {
     "data": {
      "text/html": [
       "<div>\n",
       "<style scoped>\n",
       "    .dataframe tbody tr th:only-of-type {\n",
       "        vertical-align: middle;\n",
       "    }\n",
       "\n",
       "    .dataframe tbody tr th {\n",
       "        vertical-align: top;\n",
       "    }\n",
       "\n",
       "    .dataframe thead th {\n",
       "        text-align: right;\n",
       "    }\n",
       "</style>\n",
       "<table border=\"1\" class=\"dataframe\">\n",
       "  <thead>\n",
       "    <tr style=\"text-align: right;\">\n",
       "      <th></th>\n",
       "      <th>Start</th>\n",
       "      <th>End</th>\n",
       "      <th>Sleep_quality</th>\n",
       "      <th>Time_in_bed</th>\n",
       "      <th>Sleep_Notes</th>\n",
       "      <th>Heart_rate</th>\n",
       "      <th>Activity_steps</th>\n",
       "    </tr>\n",
       "  </thead>\n",
       "  <tbody>\n",
       "    <tr>\n",
       "      <th>115</th>\n",
       "      <td>2016-11-17 11:34:54</td>\n",
       "      <td>2016-11-17 18:13:30</td>\n",
       "      <td>70%</td>\n",
       "      <td>6:38</td>\n",
       "      <td>NaN</td>\n",
       "      <td>58.0</td>\n",
       "      <td>10583</td>\n",
       "    </tr>\n",
       "    <tr>\n",
       "      <th>116</th>\n",
       "      <td>2016-11-18 10:22:23</td>\n",
       "      <td>2016-11-18 17:31:49</td>\n",
       "      <td>73%</td>\n",
       "      <td>7:09</td>\n",
       "      <td>Stressful day</td>\n",
       "      <td>52.0</td>\n",
       "      <td>16053</td>\n",
       "    </tr>\n",
       "    <tr>\n",
       "      <th>117</th>\n",
       "      <td>2016-11-19 11:20:36</td>\n",
       "      <td>2016-11-19 19:00:07</td>\n",
       "      <td>80%</td>\n",
       "      <td>7:39</td>\n",
       "      <td>NaN</td>\n",
       "      <td>97.0</td>\n",
       "      <td>8794</td>\n",
       "    </tr>\n",
       "    <tr>\n",
       "      <th>118</th>\n",
       "      <td>2016-11-20 10:51:09</td>\n",
       "      <td>2016-11-20 18:00:29</td>\n",
       "      <td>75%</td>\n",
       "      <td>7:09</td>\n",
       "      <td>NaN</td>\n",
       "      <td>77.0</td>\n",
       "      <td>2622</td>\n",
       "    </tr>\n",
       "    <tr>\n",
       "      <th>119</th>\n",
       "      <td>2016-11-21 09:42:40</td>\n",
       "      <td>2016-11-21 18:02:36</td>\n",
       "      <td>88%</td>\n",
       "      <td>8:19</td>\n",
       "      <td>Stressful day</td>\n",
       "      <td>54.0</td>\n",
       "      <td>11744</td>\n",
       "    </tr>\n",
       "  </tbody>\n",
       "</table>\n",
       "</div>"
      ],
      "text/plain": [
       "                   Start                  End Sleep_quality Time_in_bed  \\\n",
       "115  2016-11-17 11:34:54  2016-11-17 18:13:30           70%        6:38   \n",
       "116  2016-11-18 10:22:23  2016-11-18 17:31:49           73%        7:09   \n",
       "117  2016-11-19 11:20:36  2016-11-19 19:00:07           80%        7:39   \n",
       "118  2016-11-20 10:51:09  2016-11-20 18:00:29           75%        7:09   \n",
       "119  2016-11-21 09:42:40  2016-11-21 18:02:36           88%        8:19   \n",
       "\n",
       "       Sleep_Notes  Heart_rate  Activity_steps  \n",
       "115            NaN        58.0           10583  \n",
       "116  Stressful day        52.0           16053  \n",
       "117            NaN        97.0            8794  \n",
       "118            NaN        77.0            2622  \n",
       "119  Stressful day        54.0           11744  "
      ]
     },
     "execution_count": 240,
     "metadata": {},
     "output_type": "execute_result"
    }
   ],
   "source": [
    "# choosing only valid values in steps (min 1000 steps/day)\n",
    "\n",
    "df = df.loc[df[\"Activity_steps\"]>1000]\n",
    "print(df.shape)\n",
    "df.head()"
   ]
  },
  {
   "cell_type": "code",
   "execution_count": 241,
   "metadata": {},
   "outputs": [],
   "source": [
    "# removing the % sign and moving into numerical values for sleep_quality column\n",
    "\n",
    "df['Sleep_quality'] = [x.strip('\\%') for x in df['Sleep_quality']]\n",
    "df['Sleep_quality'] = pd.to_numeric(df['Sleep_quality'])"
   ]
  },
  {
   "cell_type": "code",
   "execution_count": 242,
   "metadata": {},
   "outputs": [
    {
     "name": "stdout",
     "output_type": "stream",
     "text": [
      "<class 'pandas.core.frame.DataFrame'>\n",
      "Int64Index: 135 entries, 115 to 269\n",
      "Data columns (total 7 columns):\n",
      "Start             135 non-null object\n",
      "End               135 non-null object\n",
      "Sleep_quality     135 non-null int64\n",
      "Time_in_bed       135 non-null object\n",
      "Sleep_Notes       96 non-null object\n",
      "Heart_rate        45 non-null float64\n",
      "Activity_steps    135 non-null int64\n",
      "dtypes: float64(1), int64(2), object(4)\n",
      "memory usage: 8.4+ KB\n"
     ]
    }
   ],
   "source": [
    "df.info()"
   ]
  },
  {
   "cell_type": "code",
   "execution_count": 243,
   "metadata": {},
   "outputs": [
    {
     "data": {
      "text/html": [
       "<div>\n",
       "<style scoped>\n",
       "    .dataframe tbody tr th:only-of-type {\n",
       "        vertical-align: middle;\n",
       "    }\n",
       "\n",
       "    .dataframe tbody tr th {\n",
       "        vertical-align: top;\n",
       "    }\n",
       "\n",
       "    .dataframe thead th {\n",
       "        text-align: right;\n",
       "    }\n",
       "</style>\n",
       "<table border=\"1\" class=\"dataframe\">\n",
       "  <thead>\n",
       "    <tr style=\"text-align: right;\">\n",
       "      <th></th>\n",
       "      <th>Start</th>\n",
       "      <th>End</th>\n",
       "      <th>Sleep_quality</th>\n",
       "      <th>Time_in_bed</th>\n",
       "      <th>Sleep_Notes</th>\n",
       "      <th>Heart_rate</th>\n",
       "      <th>Activity_steps</th>\n",
       "    </tr>\n",
       "  </thead>\n",
       "  <tbody>\n",
       "    <tr>\n",
       "      <th>115</th>\n",
       "      <td>2016-11-17 11:34:54</td>\n",
       "      <td>2016-11-17 18:13:30</td>\n",
       "      <td>70</td>\n",
       "      <td>398</td>\n",
       "      <td>NaN</td>\n",
       "      <td>58.0</td>\n",
       "      <td>10583</td>\n",
       "    </tr>\n",
       "    <tr>\n",
       "      <th>116</th>\n",
       "      <td>2016-11-18 10:22:23</td>\n",
       "      <td>2016-11-18 17:31:49</td>\n",
       "      <td>73</td>\n",
       "      <td>429</td>\n",
       "      <td>Stressful day</td>\n",
       "      <td>52.0</td>\n",
       "      <td>16053</td>\n",
       "    </tr>\n",
       "    <tr>\n",
       "      <th>117</th>\n",
       "      <td>2016-11-19 11:20:36</td>\n",
       "      <td>2016-11-19 19:00:07</td>\n",
       "      <td>80</td>\n",
       "      <td>459</td>\n",
       "      <td>NaN</td>\n",
       "      <td>97.0</td>\n",
       "      <td>8794</td>\n",
       "    </tr>\n",
       "    <tr>\n",
       "      <th>118</th>\n",
       "      <td>2016-11-20 10:51:09</td>\n",
       "      <td>2016-11-20 18:00:29</td>\n",
       "      <td>75</td>\n",
       "      <td>429</td>\n",
       "      <td>NaN</td>\n",
       "      <td>77.0</td>\n",
       "      <td>2622</td>\n",
       "    </tr>\n",
       "    <tr>\n",
       "      <th>119</th>\n",
       "      <td>2016-11-21 09:42:40</td>\n",
       "      <td>2016-11-21 18:02:36</td>\n",
       "      <td>88</td>\n",
       "      <td>499</td>\n",
       "      <td>Stressful day</td>\n",
       "      <td>54.0</td>\n",
       "      <td>11744</td>\n",
       "    </tr>\n",
       "  </tbody>\n",
       "</table>\n",
       "</div>"
      ],
      "text/plain": [
       "                   Start                  End  Sleep_quality  Time_in_bed  \\\n",
       "115  2016-11-17 11:34:54  2016-11-17 18:13:30             70          398   \n",
       "116  2016-11-18 10:22:23  2016-11-18 17:31:49             73          429   \n",
       "117  2016-11-19 11:20:36  2016-11-19 19:00:07             80          459   \n",
       "118  2016-11-20 10:51:09  2016-11-20 18:00:29             75          429   \n",
       "119  2016-11-21 09:42:40  2016-11-21 18:02:36             88          499   \n",
       "\n",
       "       Sleep_Notes  Heart_rate  Activity_steps  \n",
       "115            NaN        58.0           10583  \n",
       "116  Stressful day        52.0           16053  \n",
       "117            NaN        97.0            8794  \n",
       "118            NaN        77.0            2622  \n",
       "119  Stressful day        54.0           11744  "
      ]
     },
     "execution_count": 243,
     "metadata": {},
     "output_type": "execute_result"
    }
   ],
   "source": [
    "# transforming the time in bed column into minutes\n",
    "\n",
    "df['Time_in_bed'] = df['Time_in_bed'].str.split(':').apply(lambda x: int(x[0]) * 60 + int(x[1]))\n",
    "df.head()"
   ]
  },
  {
   "cell_type": "code",
   "execution_count": 244,
   "metadata": {},
   "outputs": [
    {
     "data": {
      "text/plain": [
       "(133, 7)"
      ]
     },
     "execution_count": 244,
     "metadata": {},
     "output_type": "execute_result"
    }
   ],
   "source": [
    "# removing non-informative values for sleep quality\n",
    "\n",
    "df = df.loc[df[\"Sleep_quality\"]>10]\n",
    "df.shape"
   ]
  },
  {
   "cell_type": "code",
   "execution_count": 245,
   "metadata": {},
   "outputs": [
    {
     "data": {
      "text/html": [
       "<div>\n",
       "<style scoped>\n",
       "    .dataframe tbody tr th:only-of-type {\n",
       "        vertical-align: middle;\n",
       "    }\n",
       "\n",
       "    .dataframe tbody tr th {\n",
       "        vertical-align: top;\n",
       "    }\n",
       "\n",
       "    .dataframe thead th {\n",
       "        text-align: right;\n",
       "    }\n",
       "</style>\n",
       "<table border=\"1\" class=\"dataframe\">\n",
       "  <thead>\n",
       "    <tr style=\"text-align: right;\">\n",
       "      <th></th>\n",
       "      <th>Start</th>\n",
       "      <th>End</th>\n",
       "      <th>Sleep_quality</th>\n",
       "      <th>Time_in_bed</th>\n",
       "      <th>Sleep_Notes</th>\n",
       "      <th>Heart_rate</th>\n",
       "      <th>Activity_steps</th>\n",
       "      <th>Start_date</th>\n",
       "      <th>Start_time</th>\n",
       "    </tr>\n",
       "  </thead>\n",
       "  <tbody>\n",
       "    <tr>\n",
       "      <th>115</th>\n",
       "      <td>2016-11-17 11:34:54</td>\n",
       "      <td>2016-11-17 18:13:30</td>\n",
       "      <td>70</td>\n",
       "      <td>398</td>\n",
       "      <td>NaN</td>\n",
       "      <td>58.0</td>\n",
       "      <td>10583</td>\n",
       "      <td>2016-11-17</td>\n",
       "      <td>11:34:54</td>\n",
       "    </tr>\n",
       "    <tr>\n",
       "      <th>116</th>\n",
       "      <td>2016-11-18 10:22:23</td>\n",
       "      <td>2016-11-18 17:31:49</td>\n",
       "      <td>73</td>\n",
       "      <td>429</td>\n",
       "      <td>Stressful day</td>\n",
       "      <td>52.0</td>\n",
       "      <td>16053</td>\n",
       "      <td>2016-11-18</td>\n",
       "      <td>10:22:23</td>\n",
       "    </tr>\n",
       "    <tr>\n",
       "      <th>117</th>\n",
       "      <td>2016-11-19 11:20:36</td>\n",
       "      <td>2016-11-19 19:00:07</td>\n",
       "      <td>80</td>\n",
       "      <td>459</td>\n",
       "      <td>NaN</td>\n",
       "      <td>97.0</td>\n",
       "      <td>8794</td>\n",
       "      <td>2016-11-19</td>\n",
       "      <td>11:20:36</td>\n",
       "    </tr>\n",
       "    <tr>\n",
       "      <th>118</th>\n",
       "      <td>2016-11-20 10:51:09</td>\n",
       "      <td>2016-11-20 18:00:29</td>\n",
       "      <td>75</td>\n",
       "      <td>429</td>\n",
       "      <td>NaN</td>\n",
       "      <td>77.0</td>\n",
       "      <td>2622</td>\n",
       "      <td>2016-11-20</td>\n",
       "      <td>10:51:09</td>\n",
       "    </tr>\n",
       "    <tr>\n",
       "      <th>119</th>\n",
       "      <td>2016-11-21 09:42:40</td>\n",
       "      <td>2016-11-21 18:02:36</td>\n",
       "      <td>88</td>\n",
       "      <td>499</td>\n",
       "      <td>Stressful day</td>\n",
       "      <td>54.0</td>\n",
       "      <td>11744</td>\n",
       "      <td>2016-11-21</td>\n",
       "      <td>09:42:40</td>\n",
       "    </tr>\n",
       "  </tbody>\n",
       "</table>\n",
       "</div>"
      ],
      "text/plain": [
       "                   Start                  End  Sleep_quality  Time_in_bed  \\\n",
       "115  2016-11-17 11:34:54  2016-11-17 18:13:30             70          398   \n",
       "116  2016-11-18 10:22:23  2016-11-18 17:31:49             73          429   \n",
       "117  2016-11-19 11:20:36  2016-11-19 19:00:07             80          459   \n",
       "118  2016-11-20 10:51:09  2016-11-20 18:00:29             75          429   \n",
       "119  2016-11-21 09:42:40  2016-11-21 18:02:36             88          499   \n",
       "\n",
       "       Sleep_Notes  Heart_rate  Activity_steps  Start_date Start_time  \n",
       "115            NaN        58.0           10583  2016-11-17   11:34:54  \n",
       "116  Stressful day        52.0           16053  2016-11-18   10:22:23  \n",
       "117            NaN        97.0            8794  2016-11-19   11:20:36  \n",
       "118            NaN        77.0            2622  2016-11-20   10:51:09  \n",
       "119  Stressful day        54.0           11744  2016-11-21   09:42:40  "
      ]
     },
     "execution_count": 245,
     "metadata": {},
     "output_type": "execute_result"
    }
   ],
   "source": [
    "# sparating date and time into two separate columns\n",
    "\n",
    "df['Start_date'], df['Start_time'] = df['Start'].str.split(' ', 1).str\n",
    "\n",
    "df.head()"
   ]
  },
  {
   "cell_type": "code",
   "execution_count": 246,
   "metadata": {},
   "outputs": [
    {
     "data": {
      "text/html": [
       "<div>\n",
       "<style scoped>\n",
       "    .dataframe tbody tr th:only-of-type {\n",
       "        vertical-align: middle;\n",
       "    }\n",
       "\n",
       "    .dataframe tbody tr th {\n",
       "        vertical-align: top;\n",
       "    }\n",
       "\n",
       "    .dataframe thead th {\n",
       "        text-align: right;\n",
       "    }\n",
       "</style>\n",
       "<table border=\"1\" class=\"dataframe\">\n",
       "  <thead>\n",
       "    <tr style=\"text-align: right;\">\n",
       "      <th></th>\n",
       "      <th>Sleep_quality</th>\n",
       "      <th>Time_in_bed</th>\n",
       "      <th>Sleep_Notes</th>\n",
       "      <th>Heart_rate</th>\n",
       "      <th>Activity_steps</th>\n",
       "      <th>Start_date</th>\n",
       "      <th>Start_time</th>\n",
       "    </tr>\n",
       "  </thead>\n",
       "  <tbody>\n",
       "    <tr>\n",
       "      <th>115</th>\n",
       "      <td>70</td>\n",
       "      <td>398</td>\n",
       "      <td>NaN</td>\n",
       "      <td>58.0</td>\n",
       "      <td>10583</td>\n",
       "      <td>2016-11-17</td>\n",
       "      <td>11:34:54</td>\n",
       "    </tr>\n",
       "    <tr>\n",
       "      <th>116</th>\n",
       "      <td>73</td>\n",
       "      <td>429</td>\n",
       "      <td>Stressful day</td>\n",
       "      <td>52.0</td>\n",
       "      <td>16053</td>\n",
       "      <td>2016-11-18</td>\n",
       "      <td>10:22:23</td>\n",
       "    </tr>\n",
       "    <tr>\n",
       "      <th>117</th>\n",
       "      <td>80</td>\n",
       "      <td>459</td>\n",
       "      <td>NaN</td>\n",
       "      <td>97.0</td>\n",
       "      <td>8794</td>\n",
       "      <td>2016-11-19</td>\n",
       "      <td>11:20:36</td>\n",
       "    </tr>\n",
       "    <tr>\n",
       "      <th>118</th>\n",
       "      <td>75</td>\n",
       "      <td>429</td>\n",
       "      <td>NaN</td>\n",
       "      <td>77.0</td>\n",
       "      <td>2622</td>\n",
       "      <td>2016-11-20</td>\n",
       "      <td>10:51:09</td>\n",
       "    </tr>\n",
       "    <tr>\n",
       "      <th>119</th>\n",
       "      <td>88</td>\n",
       "      <td>499</td>\n",
       "      <td>Stressful day</td>\n",
       "      <td>54.0</td>\n",
       "      <td>11744</td>\n",
       "      <td>2016-11-21</td>\n",
       "      <td>09:42:40</td>\n",
       "    </tr>\n",
       "  </tbody>\n",
       "</table>\n",
       "</div>"
      ],
      "text/plain": [
       "     Sleep_quality  Time_in_bed    Sleep_Notes  Heart_rate  Activity_steps  \\\n",
       "115             70          398            NaN        58.0           10583   \n",
       "116             73          429  Stressful day        52.0           16053   \n",
       "117             80          459            NaN        97.0            8794   \n",
       "118             75          429            NaN        77.0            2622   \n",
       "119             88          499  Stressful day        54.0           11744   \n",
       "\n",
       "     Start_date Start_time  \n",
       "115  2016-11-17   11:34:54  \n",
       "116  2016-11-18   10:22:23  \n",
       "117  2016-11-19   11:20:36  \n",
       "118  2016-11-20   10:51:09  \n",
       "119  2016-11-21   09:42:40  "
      ]
     },
     "execution_count": 246,
     "metadata": {},
     "output_type": "execute_result"
    }
   ],
   "source": [
    "# removing the start and end columns\n",
    "\n",
    "df = df.drop([\"Start\", \"End\"], axis=1)\n",
    "df.head()"
   ]
  },
  {
   "cell_type": "code",
   "execution_count": 247,
   "metadata": {},
   "outputs": [],
   "source": [
    "# converting to_datetime format\n",
    "\n",
    "df.Start_date = pd.to_datetime(df.Start_date)"
   ]
  },
  {
   "cell_type": "code",
   "execution_count": 248,
   "metadata": {},
   "outputs": [
    {
     "data": {
      "text/html": [
       "<div>\n",
       "<style scoped>\n",
       "    .dataframe tbody tr th:only-of-type {\n",
       "        vertical-align: middle;\n",
       "    }\n",
       "\n",
       "    .dataframe tbody tr th {\n",
       "        vertical-align: top;\n",
       "    }\n",
       "\n",
       "    .dataframe thead th {\n",
       "        text-align: right;\n",
       "    }\n",
       "</style>\n",
       "<table border=\"1\" class=\"dataframe\">\n",
       "  <thead>\n",
       "    <tr style=\"text-align: right;\">\n",
       "      <th></th>\n",
       "      <th>Sleep_quality</th>\n",
       "      <th>Time_in_bed</th>\n",
       "      <th>Sleep_Notes</th>\n",
       "      <th>Heart_rate</th>\n",
       "      <th>Activity_steps</th>\n",
       "      <th>Start_date</th>\n",
       "      <th>Start_time</th>\n",
       "      <th>Start_Dayofweek</th>\n",
       "    </tr>\n",
       "  </thead>\n",
       "  <tbody>\n",
       "    <tr>\n",
       "      <th>115</th>\n",
       "      <td>70</td>\n",
       "      <td>398</td>\n",
       "      <td>NaN</td>\n",
       "      <td>58.0</td>\n",
       "      <td>10583</td>\n",
       "      <td>2016-11-17</td>\n",
       "      <td>11:34:54</td>\n",
       "      <td>Thursday</td>\n",
       "    </tr>\n",
       "    <tr>\n",
       "      <th>116</th>\n",
       "      <td>73</td>\n",
       "      <td>429</td>\n",
       "      <td>Stressful day</td>\n",
       "      <td>52.0</td>\n",
       "      <td>16053</td>\n",
       "      <td>2016-11-18</td>\n",
       "      <td>10:22:23</td>\n",
       "      <td>Friday</td>\n",
       "    </tr>\n",
       "    <tr>\n",
       "      <th>117</th>\n",
       "      <td>80</td>\n",
       "      <td>459</td>\n",
       "      <td>NaN</td>\n",
       "      <td>97.0</td>\n",
       "      <td>8794</td>\n",
       "      <td>2016-11-19</td>\n",
       "      <td>11:20:36</td>\n",
       "      <td>Saturday</td>\n",
       "    </tr>\n",
       "    <tr>\n",
       "      <th>118</th>\n",
       "      <td>75</td>\n",
       "      <td>429</td>\n",
       "      <td>NaN</td>\n",
       "      <td>77.0</td>\n",
       "      <td>2622</td>\n",
       "      <td>2016-11-20</td>\n",
       "      <td>10:51:09</td>\n",
       "      <td>Sunday</td>\n",
       "    </tr>\n",
       "    <tr>\n",
       "      <th>119</th>\n",
       "      <td>88</td>\n",
       "      <td>499</td>\n",
       "      <td>Stressful day</td>\n",
       "      <td>54.0</td>\n",
       "      <td>11744</td>\n",
       "      <td>2016-11-21</td>\n",
       "      <td>09:42:40</td>\n",
       "      <td>Monday</td>\n",
       "    </tr>\n",
       "  </tbody>\n",
       "</table>\n",
       "</div>"
      ],
      "text/plain": [
       "     Sleep_quality  Time_in_bed    Sleep_Notes  Heart_rate  Activity_steps  \\\n",
       "115             70          398            NaN        58.0           10583   \n",
       "116             73          429  Stressful day        52.0           16053   \n",
       "117             80          459            NaN        97.0            8794   \n",
       "118             75          429            NaN        77.0            2622   \n",
       "119             88          499  Stressful day        54.0           11744   \n",
       "\n",
       "    Start_date Start_time Start_Dayofweek  \n",
       "115 2016-11-17   11:34:54        Thursday  \n",
       "116 2016-11-18   10:22:23          Friday  \n",
       "117 2016-11-19   11:20:36        Saturday  \n",
       "118 2016-11-20   10:51:09          Sunday  \n",
       "119 2016-11-21   09:42:40          Monday  "
      ]
     },
     "execution_count": 248,
     "metadata": {},
     "output_type": "execute_result"
    }
   ],
   "source": [
    "# adding Dayofweek column\n",
    "\n",
    "df['Start_Dayofweek'] = df.Start_date.dt.day_name()\n",
    "df.head()"
   ]
  },
  {
   "cell_type": "code",
   "execution_count": 249,
   "metadata": {},
   "outputs": [
    {
     "data": {
      "text/html": [
       "<div>\n",
       "<style scoped>\n",
       "    .dataframe tbody tr th:only-of-type {\n",
       "        vertical-align: middle;\n",
       "    }\n",
       "\n",
       "    .dataframe tbody tr th {\n",
       "        vertical-align: top;\n",
       "    }\n",
       "\n",
       "    .dataframe thead th {\n",
       "        text-align: right;\n",
       "    }\n",
       "</style>\n",
       "<table border=\"1\" class=\"dataframe\">\n",
       "  <thead>\n",
       "    <tr style=\"text-align: right;\">\n",
       "      <th></th>\n",
       "      <th>Sleep_quality</th>\n",
       "      <th>Time_in_bed</th>\n",
       "      <th>Sleep_Notes</th>\n",
       "      <th>Heart_rate</th>\n",
       "      <th>Activity_steps</th>\n",
       "      <th>Start_date</th>\n",
       "      <th>Start_time</th>\n",
       "      <th>Start_Dayofweek</th>\n",
       "    </tr>\n",
       "  </thead>\n",
       "  <tbody>\n",
       "    <tr>\n",
       "      <th>115</th>\n",
       "      <td>70</td>\n",
       "      <td>398</td>\n",
       "      <td>NaN</td>\n",
       "      <td>58.0</td>\n",
       "      <td>10583</td>\n",
       "      <td>2016-11-17</td>\n",
       "      <td>11</td>\n",
       "      <td>Thursday</td>\n",
       "    </tr>\n",
       "    <tr>\n",
       "      <th>116</th>\n",
       "      <td>73</td>\n",
       "      <td>429</td>\n",
       "      <td>Stressful day</td>\n",
       "      <td>52.0</td>\n",
       "      <td>16053</td>\n",
       "      <td>2016-11-18</td>\n",
       "      <td>10</td>\n",
       "      <td>Friday</td>\n",
       "    </tr>\n",
       "    <tr>\n",
       "      <th>117</th>\n",
       "      <td>80</td>\n",
       "      <td>459</td>\n",
       "      <td>NaN</td>\n",
       "      <td>97.0</td>\n",
       "      <td>8794</td>\n",
       "      <td>2016-11-19</td>\n",
       "      <td>11</td>\n",
       "      <td>Saturday</td>\n",
       "    </tr>\n",
       "    <tr>\n",
       "      <th>118</th>\n",
       "      <td>75</td>\n",
       "      <td>429</td>\n",
       "      <td>NaN</td>\n",
       "      <td>77.0</td>\n",
       "      <td>2622</td>\n",
       "      <td>2016-11-20</td>\n",
       "      <td>10</td>\n",
       "      <td>Sunday</td>\n",
       "    </tr>\n",
       "    <tr>\n",
       "      <th>119</th>\n",
       "      <td>88</td>\n",
       "      <td>499</td>\n",
       "      <td>Stressful day</td>\n",
       "      <td>54.0</td>\n",
       "      <td>11744</td>\n",
       "      <td>2016-11-21</td>\n",
       "      <td>9</td>\n",
       "      <td>Monday</td>\n",
       "    </tr>\n",
       "  </tbody>\n",
       "</table>\n",
       "</div>"
      ],
      "text/plain": [
       "     Sleep_quality  Time_in_bed    Sleep_Notes  Heart_rate  Activity_steps  \\\n",
       "115             70          398            NaN        58.0           10583   \n",
       "116             73          429  Stressful day        52.0           16053   \n",
       "117             80          459            NaN        97.0            8794   \n",
       "118             75          429            NaN        77.0            2622   \n",
       "119             88          499  Stressful day        54.0           11744   \n",
       "\n",
       "    Start_date  Start_time Start_Dayofweek  \n",
       "115 2016-11-17          11        Thursday  \n",
       "116 2016-11-18          10          Friday  \n",
       "117 2016-11-19          11        Saturday  \n",
       "118 2016-11-20          10          Sunday  \n",
       "119 2016-11-21           9          Monday  "
      ]
     },
     "execution_count": 249,
     "metadata": {},
     "output_type": "execute_result"
    }
   ],
   "source": [
    "# cleaning the start_time column values\n",
    "\n",
    "df.Start_time = df.Start_time.map(lambda x: str(x)[:2])\n",
    "df[\"Start_time\"] = pd.to_numeric(df[\"Start_time\"])\n",
    "df.head()"
   ]
  },
  {
   "cell_type": "code",
   "execution_count": 250,
   "metadata": {},
   "outputs": [
    {
     "data": {
      "text/plain": [
       "Index(['Sleep_Notes'], dtype='object')"
      ]
     },
     "execution_count": 250,
     "metadata": {},
     "output_type": "execute_result"
    }
   ],
   "source": [
    "# separating the notes column to crrate dummy variables\n",
    "\n",
    "data_dummy_column=df[['Sleep_Notes']]\n",
    "data_dummy_column.columns"
   ]
  },
  {
   "cell_type": "code",
   "execution_count": 251,
   "metadata": {},
   "outputs": [
    {
     "name": "stderr",
     "output_type": "stream",
     "text": [
      "/anaconda3/lib/python3.7/site-packages/ipykernel_launcher.py:1: SettingWithCopyWarning: \n",
      "A value is trying to be set on a copy of a slice from a DataFrame.\n",
      "Try using .loc[row_indexer,col_indexer] = value instead\n",
      "\n",
      "See the caveats in the documentation: http://pandas.pydata.org/pandas-docs/stable/indexing.html#indexing-view-versus-copy\n",
      "  \"\"\"Entry point for launching an IPython kernel.\n"
     ]
    }
   ],
   "source": [
    "data_dummy_column['Sleep_Notes'] = data_dummy_column['Sleep_Notes'].fillna(0)"
   ]
  },
  {
   "cell_type": "code",
   "execution_count": 252,
   "metadata": {},
   "outputs": [
    {
     "data": {
      "text/html": [
       "<div>\n",
       "<style scoped>\n",
       "    .dataframe tbody tr th:only-of-type {\n",
       "        vertical-align: middle;\n",
       "    }\n",
       "\n",
       "    .dataframe tbody tr th {\n",
       "        vertical-align: top;\n",
       "    }\n",
       "\n",
       "    .dataframe thead th {\n",
       "        text-align: right;\n",
       "    }\n",
       "</style>\n",
       "<table border=\"1\" class=\"dataframe\">\n",
       "  <thead>\n",
       "    <tr style=\"text-align: right;\">\n",
       "      <th></th>\n",
       "      <th>0</th>\n",
       "      <th>Ate late</th>\n",
       "      <th>Drank coffee</th>\n",
       "      <th>Drank tea</th>\n",
       "      <th>Stressful day</th>\n",
       "      <th>Worked out</th>\n",
       "    </tr>\n",
       "  </thead>\n",
       "  <tbody>\n",
       "    <tr>\n",
       "      <th>115</th>\n",
       "      <td>1</td>\n",
       "      <td>0</td>\n",
       "      <td>0</td>\n",
       "      <td>0</td>\n",
       "      <td>0</td>\n",
       "      <td>0</td>\n",
       "    </tr>\n",
       "    <tr>\n",
       "      <th>116</th>\n",
       "      <td>0</td>\n",
       "      <td>0</td>\n",
       "      <td>0</td>\n",
       "      <td>0</td>\n",
       "      <td>1</td>\n",
       "      <td>0</td>\n",
       "    </tr>\n",
       "    <tr>\n",
       "      <th>117</th>\n",
       "      <td>1</td>\n",
       "      <td>0</td>\n",
       "      <td>0</td>\n",
       "      <td>0</td>\n",
       "      <td>0</td>\n",
       "      <td>0</td>\n",
       "    </tr>\n",
       "    <tr>\n",
       "      <th>118</th>\n",
       "      <td>1</td>\n",
       "      <td>0</td>\n",
       "      <td>0</td>\n",
       "      <td>0</td>\n",
       "      <td>0</td>\n",
       "      <td>0</td>\n",
       "    </tr>\n",
       "    <tr>\n",
       "      <th>119</th>\n",
       "      <td>0</td>\n",
       "      <td>0</td>\n",
       "      <td>0</td>\n",
       "      <td>0</td>\n",
       "      <td>1</td>\n",
       "      <td>0</td>\n",
       "    </tr>\n",
       "  </tbody>\n",
       "</table>\n",
       "</div>"
      ],
      "text/plain": [
       "     0  Ate late  Drank coffee  Drank tea  Stressful day  Worked out\n",
       "115  1         0             0          0              0           0\n",
       "116  0         0             0          0              1           0\n",
       "117  1         0             0          0              0           0\n",
       "118  1         0             0          0              0           0\n",
       "119  0         0             0          0              1           0"
      ]
     },
     "execution_count": 252,
     "metadata": {},
     "output_type": "execute_result"
    }
   ],
   "source": [
    "#creating dummie variables\n",
    "\n",
    "dummies = data_dummy_column['Sleep_Notes'].str.get_dummies(sep=':')\n",
    "dummies.head()"
   ]
  },
  {
   "cell_type": "code",
   "execution_count": 253,
   "metadata": {},
   "outputs": [
    {
     "data": {
      "text/plain": [
       "Index(['Sleep_quality', 'Time_in_bed', 'Sleep_Notes', 'Heart_rate',\n",
       "       'Activity_steps', 'Start_date', 'Start_time', 'Start_Dayofweek', '0',\n",
       "       'Ate late', 'Drank coffee', 'Drank tea', 'Stressful day', 'Worked out'],\n",
       "      dtype='object')"
      ]
     },
     "execution_count": 253,
     "metadata": {},
     "output_type": "execute_result"
    }
   ],
   "source": [
    "# adding dummies to the main dataframe and creating the final version\n",
    "\n",
    "df_full = df.join(dummies)\n",
    "df_full.columns"
   ]
  },
  {
   "cell_type": "code",
   "execution_count": 254,
   "metadata": {},
   "outputs": [
    {
     "data": {
      "image/png": "[encoded data removed]",
      "text/plain": [
       "<Figure size 1800x720 with 2 Axes>"
      ]
     },
     "metadata": {
      "needs_background": "light"
     },
     "output_type": "display_data"
    }
   ],
   "source": [
    "# assessing missing values in the full dataframe\n",
    "\n",
    "msno.matrix(df_full);"
   ]
  },
  {
   "cell_type": "code",
   "execution_count": 255,
   "metadata": {
    "scrolled": false
   },
   "outputs": [],
   "source": [
    "# removing the 'Worked out', 'Drank tea' column since all entries are not informative; also removing 0 column \n",
    "\n",
    "df_full= df_full.drop(['Worked out', '0', 'Drank tea', 'Sleep_Notes', 'Heart_rate'], axis=1)             "
   ]
  },
  {
   "cell_type": "code",
   "execution_count": 256,
   "metadata": {},
   "outputs": [
    {
     "data": {
      "text/html": [
       "<div>\n",
       "<style scoped>\n",
       "    .dataframe tbody tr th:only-of-type {\n",
       "        vertical-align: middle;\n",
       "    }\n",
       "\n",
       "    .dataframe tbody tr th {\n",
       "        vertical-align: top;\n",
       "    }\n",
       "\n",
       "    .dataframe thead th {\n",
       "        text-align: right;\n",
       "    }\n",
       "</style>\n",
       "<table border=\"1\" class=\"dataframe\">\n",
       "  <thead>\n",
       "    <tr style=\"text-align: right;\">\n",
       "      <th></th>\n",
       "      <th>Sleep_quality</th>\n",
       "      <th>Time_in_bed</th>\n",
       "      <th>Activity_steps</th>\n",
       "      <th>Start_date</th>\n",
       "      <th>Start_time</th>\n",
       "      <th>Start_Dayofweek</th>\n",
       "      <th>Ate late</th>\n",
       "      <th>Drank coffee</th>\n",
       "      <th>Stressful day</th>\n",
       "    </tr>\n",
       "  </thead>\n",
       "  <tbody>\n",
       "    <tr>\n",
       "      <th>115</th>\n",
       "      <td>70</td>\n",
       "      <td>398</td>\n",
       "      <td>10583</td>\n",
       "      <td>2016-11-17</td>\n",
       "      <td>11</td>\n",
       "      <td>Thursday</td>\n",
       "      <td>0</td>\n",
       "      <td>0</td>\n",
       "      <td>0</td>\n",
       "    </tr>\n",
       "    <tr>\n",
       "      <th>116</th>\n",
       "      <td>73</td>\n",
       "      <td>429</td>\n",
       "      <td>16053</td>\n",
       "      <td>2016-11-18</td>\n",
       "      <td>10</td>\n",
       "      <td>Friday</td>\n",
       "      <td>0</td>\n",
       "      <td>0</td>\n",
       "      <td>1</td>\n",
       "    </tr>\n",
       "    <tr>\n",
       "      <th>117</th>\n",
       "      <td>80</td>\n",
       "      <td>459</td>\n",
       "      <td>8794</td>\n",
       "      <td>2016-11-19</td>\n",
       "      <td>11</td>\n",
       "      <td>Saturday</td>\n",
       "      <td>0</td>\n",
       "      <td>0</td>\n",
       "      <td>0</td>\n",
       "    </tr>\n",
       "    <tr>\n",
       "      <th>118</th>\n",
       "      <td>75</td>\n",
       "      <td>429</td>\n",
       "      <td>2622</td>\n",
       "      <td>2016-11-20</td>\n",
       "      <td>10</td>\n",
       "      <td>Sunday</td>\n",
       "      <td>0</td>\n",
       "      <td>0</td>\n",
       "      <td>0</td>\n",
       "    </tr>\n",
       "    <tr>\n",
       "      <th>119</th>\n",
       "      <td>88</td>\n",
       "      <td>499</td>\n",
       "      <td>11744</td>\n",
       "      <td>2016-11-21</td>\n",
       "      <td>9</td>\n",
       "      <td>Monday</td>\n",
       "      <td>0</td>\n",
       "      <td>0</td>\n",
       "      <td>1</td>\n",
       "    </tr>\n",
       "  </tbody>\n",
       "</table>\n",
       "</div>"
      ],
      "text/plain": [
       "     Sleep_quality  Time_in_bed  Activity_steps Start_date  Start_time  \\\n",
       "115             70          398           10583 2016-11-17          11   \n",
       "116             73          429           16053 2016-11-18          10   \n",
       "117             80          459            8794 2016-11-19          11   \n",
       "118             75          429            2622 2016-11-20          10   \n",
       "119             88          499           11744 2016-11-21           9   \n",
       "\n",
       "    Start_Dayofweek  Ate late  Drank coffee  Stressful day  \n",
       "115        Thursday         0             0              0  \n",
       "116          Friday         0             0              1  \n",
       "117        Saturday         0             0              0  \n",
       "118          Sunday         0             0              0  \n",
       "119          Monday         0             0              1  "
      ]
     },
     "execution_count": 256,
     "metadata": {},
     "output_type": "execute_result"
    }
   ],
   "source": [
    "df_full.head() "
   ]
  },
  {
   "cell_type": "code",
   "execution_count": 257,
   "metadata": {
    "scrolled": true
   },
   "outputs": [
    {
     "data": {
      "text/html": [
       "<div>\n",
       "<style scoped>\n",
       "    .dataframe tbody tr th:only-of-type {\n",
       "        vertical-align: middle;\n",
       "    }\n",
       "\n",
       "    .dataframe tbody tr th {\n",
       "        vertical-align: top;\n",
       "    }\n",
       "\n",
       "    .dataframe thead th {\n",
       "        text-align: right;\n",
       "    }\n",
       "</style>\n",
       "<table border=\"1\" class=\"dataframe\">\n",
       "  <thead>\n",
       "    <tr style=\"text-align: right;\">\n",
       "      <th></th>\n",
       "      <th>Sleep_quality</th>\n",
       "      <th>Time_in_bed</th>\n",
       "      <th>Activity_steps</th>\n",
       "      <th>Start_date</th>\n",
       "      <th>Start_time</th>\n",
       "      <th>Start_Dayofweek</th>\n",
       "      <th>Ate_late</th>\n",
       "      <th>Drank_coffee</th>\n",
       "      <th>Stressful_day</th>\n",
       "    </tr>\n",
       "  </thead>\n",
       "  <tbody>\n",
       "    <tr>\n",
       "      <th>115</th>\n",
       "      <td>70</td>\n",
       "      <td>398</td>\n",
       "      <td>10583</td>\n",
       "      <td>2016-11-17</td>\n",
       "      <td>11</td>\n",
       "      <td>Thursday</td>\n",
       "      <td>0</td>\n",
       "      <td>0</td>\n",
       "      <td>0</td>\n",
       "    </tr>\n",
       "    <tr>\n",
       "      <th>116</th>\n",
       "      <td>73</td>\n",
       "      <td>429</td>\n",
       "      <td>16053</td>\n",
       "      <td>2016-11-18</td>\n",
       "      <td>10</td>\n",
       "      <td>Friday</td>\n",
       "      <td>0</td>\n",
       "      <td>0</td>\n",
       "      <td>1</td>\n",
       "    </tr>\n",
       "    <tr>\n",
       "      <th>117</th>\n",
       "      <td>80</td>\n",
       "      <td>459</td>\n",
       "      <td>8794</td>\n",
       "      <td>2016-11-19</td>\n",
       "      <td>11</td>\n",
       "      <td>Saturday</td>\n",
       "      <td>0</td>\n",
       "      <td>0</td>\n",
       "      <td>0</td>\n",
       "    </tr>\n",
       "    <tr>\n",
       "      <th>118</th>\n",
       "      <td>75</td>\n",
       "      <td>429</td>\n",
       "      <td>2622</td>\n",
       "      <td>2016-11-20</td>\n",
       "      <td>10</td>\n",
       "      <td>Sunday</td>\n",
       "      <td>0</td>\n",
       "      <td>0</td>\n",
       "      <td>0</td>\n",
       "    </tr>\n",
       "    <tr>\n",
       "      <th>119</th>\n",
       "      <td>88</td>\n",
       "      <td>499</td>\n",
       "      <td>11744</td>\n",
       "      <td>2016-11-21</td>\n",
       "      <td>9</td>\n",
       "      <td>Monday</td>\n",
       "      <td>0</td>\n",
       "      <td>0</td>\n",
       "      <td>1</td>\n",
       "    </tr>\n",
       "    <tr>\n",
       "      <th>120</th>\n",
       "      <td>82</td>\n",
       "      <td>466</td>\n",
       "      <td>10437</td>\n",
       "      <td>2016-11-22</td>\n",
       "      <td>10</td>\n",
       "      <td>Tuesday</td>\n",
       "      <td>0</td>\n",
       "      <td>0</td>\n",
       "      <td>0</td>\n",
       "    </tr>\n",
       "    <tr>\n",
       "      <th>121</th>\n",
       "      <td>79</td>\n",
       "      <td>450</td>\n",
       "      <td>11113</td>\n",
       "      <td>2016-11-23</td>\n",
       "      <td>10</td>\n",
       "      <td>Wednesday</td>\n",
       "      <td>0</td>\n",
       "      <td>0</td>\n",
       "      <td>0</td>\n",
       "    </tr>\n",
       "    <tr>\n",
       "      <th>122</th>\n",
       "      <td>84</td>\n",
       "      <td>484</td>\n",
       "      <td>10919</td>\n",
       "      <td>2016-11-24</td>\n",
       "      <td>10</td>\n",
       "      <td>Thursday</td>\n",
       "      <td>0</td>\n",
       "      <td>0</td>\n",
       "      <td>0</td>\n",
       "    </tr>\n",
       "    <tr>\n",
       "      <th>123</th>\n",
       "      <td>86</td>\n",
       "      <td>490</td>\n",
       "      <td>9250</td>\n",
       "      <td>2016-11-25</td>\n",
       "      <td>9</td>\n",
       "      <td>Friday</td>\n",
       "      <td>0</td>\n",
       "      <td>0</td>\n",
       "      <td>0</td>\n",
       "    </tr>\n",
       "    <tr>\n",
       "      <th>124</th>\n",
       "      <td>68</td>\n",
       "      <td>365</td>\n",
       "      <td>13595</td>\n",
       "      <td>2016-11-26</td>\n",
       "      <td>11</td>\n",
       "      <td>Saturday</td>\n",
       "      <td>0</td>\n",
       "      <td>0</td>\n",
       "      <td>0</td>\n",
       "    </tr>\n",
       "    <tr>\n",
       "      <th>125</th>\n",
       "      <td>87</td>\n",
       "      <td>484</td>\n",
       "      <td>7323</td>\n",
       "      <td>2016-11-27</td>\n",
       "      <td>9</td>\n",
       "      <td>Sunday</td>\n",
       "      <td>0</td>\n",
       "      <td>0</td>\n",
       "      <td>0</td>\n",
       "    </tr>\n",
       "    <tr>\n",
       "      <th>126</th>\n",
       "      <td>86</td>\n",
       "      <td>477</td>\n",
       "      <td>10917</td>\n",
       "      <td>2016-11-28</td>\n",
       "      <td>10</td>\n",
       "      <td>Monday</td>\n",
       "      <td>0</td>\n",
       "      <td>0</td>\n",
       "      <td>0</td>\n",
       "    </tr>\n",
       "    <tr>\n",
       "      <th>127</th>\n",
       "      <td>87</td>\n",
       "      <td>474</td>\n",
       "      <td>7594</td>\n",
       "      <td>2016-11-29</td>\n",
       "      <td>10</td>\n",
       "      <td>Tuesday</td>\n",
       "      <td>0</td>\n",
       "      <td>0</td>\n",
       "      <td>0</td>\n",
       "    </tr>\n",
       "    <tr>\n",
       "      <th>128</th>\n",
       "      <td>78</td>\n",
       "      <td>531</td>\n",
       "      <td>10429</td>\n",
       "      <td>2016-11-30</td>\n",
       "      <td>8</td>\n",
       "      <td>Wednesday</td>\n",
       "      <td>0</td>\n",
       "      <td>0</td>\n",
       "      <td>0</td>\n",
       "    </tr>\n",
       "    <tr>\n",
       "      <th>129</th>\n",
       "      <td>83</td>\n",
       "      <td>451</td>\n",
       "      <td>8809</td>\n",
       "      <td>2016-12-01</td>\n",
       "      <td>10</td>\n",
       "      <td>Thursday</td>\n",
       "      <td>0</td>\n",
       "      <td>0</td>\n",
       "      <td>0</td>\n",
       "    </tr>\n",
       "    <tr>\n",
       "      <th>130</th>\n",
       "      <td>73</td>\n",
       "      <td>416</td>\n",
       "      <td>11637</td>\n",
       "      <td>2016-12-02</td>\n",
       "      <td>11</td>\n",
       "      <td>Friday</td>\n",
       "      <td>0</td>\n",
       "      <td>0</td>\n",
       "      <td>0</td>\n",
       "    </tr>\n",
       "    <tr>\n",
       "      <th>131</th>\n",
       "      <td>71</td>\n",
       "      <td>395</td>\n",
       "      <td>8340</td>\n",
       "      <td>2016-12-03</td>\n",
       "      <td>11</td>\n",
       "      <td>Saturday</td>\n",
       "      <td>0</td>\n",
       "      <td>0</td>\n",
       "      <td>0</td>\n",
       "    </tr>\n",
       "    <tr>\n",
       "      <th>132</th>\n",
       "      <td>80</td>\n",
       "      <td>517</td>\n",
       "      <td>2204</td>\n",
       "      <td>2016-12-04</td>\n",
       "      <td>9</td>\n",
       "      <td>Sunday</td>\n",
       "      <td>0</td>\n",
       "      <td>0</td>\n",
       "      <td>0</td>\n",
       "    </tr>\n",
       "    <tr>\n",
       "      <th>133</th>\n",
       "      <td>73</td>\n",
       "      <td>495</td>\n",
       "      <td>7723</td>\n",
       "      <td>2016-12-05</td>\n",
       "      <td>11</td>\n",
       "      <td>Monday</td>\n",
       "      <td>0</td>\n",
       "      <td>0</td>\n",
       "      <td>0</td>\n",
       "    </tr>\n",
       "    <tr>\n",
       "      <th>134</th>\n",
       "      <td>76</td>\n",
       "      <td>408</td>\n",
       "      <td>6149</td>\n",
       "      <td>2016-12-06</td>\n",
       "      <td>11</td>\n",
       "      <td>Tuesday</td>\n",
       "      <td>0</td>\n",
       "      <td>0</td>\n",
       "      <td>0</td>\n",
       "    </tr>\n",
       "    <tr>\n",
       "      <th>136</th>\n",
       "      <td>91</td>\n",
       "      <td>487</td>\n",
       "      <td>8772</td>\n",
       "      <td>2016-12-07</td>\n",
       "      <td>9</td>\n",
       "      <td>Wednesday</td>\n",
       "      <td>0</td>\n",
       "      <td>0</td>\n",
       "      <td>0</td>\n",
       "    </tr>\n",
       "    <tr>\n",
       "      <th>137</th>\n",
       "      <td>85</td>\n",
       "      <td>502</td>\n",
       "      <td>10570</td>\n",
       "      <td>2016-12-08</td>\n",
       "      <td>10</td>\n",
       "      <td>Thursday</td>\n",
       "      <td>0</td>\n",
       "      <td>0</td>\n",
       "      <td>0</td>\n",
       "    </tr>\n",
       "    <tr>\n",
       "      <th>138</th>\n",
       "      <td>79</td>\n",
       "      <td>519</td>\n",
       "      <td>6468</td>\n",
       "      <td>2016-12-09</td>\n",
       "      <td>10</td>\n",
       "      <td>Friday</td>\n",
       "      <td>0</td>\n",
       "      <td>0</td>\n",
       "      <td>0</td>\n",
       "    </tr>\n",
       "    <tr>\n",
       "      <th>139</th>\n",
       "      <td>81</td>\n",
       "      <td>433</td>\n",
       "      <td>9372</td>\n",
       "      <td>2016-12-10</td>\n",
       "      <td>11</td>\n",
       "      <td>Saturday</td>\n",
       "      <td>0</td>\n",
       "      <td>0</td>\n",
       "      <td>0</td>\n",
       "    </tr>\n",
       "    <tr>\n",
       "      <th>140</th>\n",
       "      <td>56</td>\n",
       "      <td>584</td>\n",
       "      <td>3804</td>\n",
       "      <td>2016-12-11</td>\n",
       "      <td>9</td>\n",
       "      <td>Sunday</td>\n",
       "      <td>0</td>\n",
       "      <td>0</td>\n",
       "      <td>0</td>\n",
       "    </tr>\n",
       "    <tr>\n",
       "      <th>142</th>\n",
       "      <td>82</td>\n",
       "      <td>475</td>\n",
       "      <td>7191</td>\n",
       "      <td>2016-12-13</td>\n",
       "      <td>11</td>\n",
       "      <td>Tuesday</td>\n",
       "      <td>0</td>\n",
       "      <td>0</td>\n",
       "      <td>0</td>\n",
       "    </tr>\n",
       "    <tr>\n",
       "      <th>143</th>\n",
       "      <td>68</td>\n",
       "      <td>388</td>\n",
       "      <td>10047</td>\n",
       "      <td>2017-08-05</td>\n",
       "      <td>11</td>\n",
       "      <td>Saturday</td>\n",
       "      <td>1</td>\n",
       "      <td>0</td>\n",
       "      <td>0</td>\n",
       "    </tr>\n",
       "    <tr>\n",
       "      <th>145</th>\n",
       "      <td>64</td>\n",
       "      <td>388</td>\n",
       "      <td>12075</td>\n",
       "      <td>2017-08-07</td>\n",
       "      <td>10</td>\n",
       "      <td>Monday</td>\n",
       "      <td>0</td>\n",
       "      <td>0</td>\n",
       "      <td>0</td>\n",
       "    </tr>\n",
       "    <tr>\n",
       "      <th>146</th>\n",
       "      <td>62</td>\n",
       "      <td>389</td>\n",
       "      <td>7037</td>\n",
       "      <td>2017-08-08</td>\n",
       "      <td>10</td>\n",
       "      <td>Tuesday</td>\n",
       "      <td>0</td>\n",
       "      <td>1</td>\n",
       "      <td>0</td>\n",
       "    </tr>\n",
       "    <tr>\n",
       "      <th>147</th>\n",
       "      <td>67</td>\n",
       "      <td>383</td>\n",
       "      <td>4663</td>\n",
       "      <td>2017-08-09</td>\n",
       "      <td>10</td>\n",
       "      <td>Wednesday</td>\n",
       "      <td>0</td>\n",
       "      <td>0</td>\n",
       "      <td>0</td>\n",
       "    </tr>\n",
       "    <tr>\n",
       "      <th>...</th>\n",
       "      <td>...</td>\n",
       "      <td>...</td>\n",
       "      <td>...</td>\n",
       "      <td>...</td>\n",
       "      <td>...</td>\n",
       "      <td>...</td>\n",
       "      <td>...</td>\n",
       "      <td>...</td>\n",
       "      <td>...</td>\n",
       "    </tr>\n",
       "    <tr>\n",
       "      <th>230</th>\n",
       "      <td>75</td>\n",
       "      <td>414</td>\n",
       "      <td>5432</td>\n",
       "      <td>2018-06-21</td>\n",
       "      <td>10</td>\n",
       "      <td>Thursday</td>\n",
       "      <td>0</td>\n",
       "      <td>0</td>\n",
       "      <td>1</td>\n",
       "    </tr>\n",
       "    <tr>\n",
       "      <th>231</th>\n",
       "      <td>62</td>\n",
       "      <td>355</td>\n",
       "      <td>14389</td>\n",
       "      <td>2018-06-22</td>\n",
       "      <td>11</td>\n",
       "      <td>Friday</td>\n",
       "      <td>0</td>\n",
       "      <td>0</td>\n",
       "      <td>1</td>\n",
       "    </tr>\n",
       "    <tr>\n",
       "      <th>232</th>\n",
       "      <td>34</td>\n",
       "      <td>234</td>\n",
       "      <td>8876</td>\n",
       "      <td>2018-06-23</td>\n",
       "      <td>14</td>\n",
       "      <td>Saturday</td>\n",
       "      <td>0</td>\n",
       "      <td>1</td>\n",
       "      <td>1</td>\n",
       "    </tr>\n",
       "    <tr>\n",
       "      <th>233</th>\n",
       "      <td>95</td>\n",
       "      <td>515</td>\n",
       "      <td>6065</td>\n",
       "      <td>2018-06-24</td>\n",
       "      <td>8</td>\n",
       "      <td>Sunday</td>\n",
       "      <td>0</td>\n",
       "      <td>0</td>\n",
       "      <td>1</td>\n",
       "    </tr>\n",
       "    <tr>\n",
       "      <th>234</th>\n",
       "      <td>64</td>\n",
       "      <td>356</td>\n",
       "      <td>8389</td>\n",
       "      <td>2018-06-25</td>\n",
       "      <td>11</td>\n",
       "      <td>Monday</td>\n",
       "      <td>1</td>\n",
       "      <td>0</td>\n",
       "      <td>1</td>\n",
       "    </tr>\n",
       "    <tr>\n",
       "      <th>235</th>\n",
       "      <td>73</td>\n",
       "      <td>438</td>\n",
       "      <td>10987</td>\n",
       "      <td>2018-06-26</td>\n",
       "      <td>10</td>\n",
       "      <td>Tuesday</td>\n",
       "      <td>0</td>\n",
       "      <td>1</td>\n",
       "      <td>1</td>\n",
       "    </tr>\n",
       "    <tr>\n",
       "      <th>236</th>\n",
       "      <td>58</td>\n",
       "      <td>334</td>\n",
       "      <td>6568</td>\n",
       "      <td>2018-06-27</td>\n",
       "      <td>12</td>\n",
       "      <td>Wednesday</td>\n",
       "      <td>0</td>\n",
       "      <td>0</td>\n",
       "      <td>0</td>\n",
       "    </tr>\n",
       "    <tr>\n",
       "      <th>237</th>\n",
       "      <td>62</td>\n",
       "      <td>344</td>\n",
       "      <td>8780</td>\n",
       "      <td>2018-06-28</td>\n",
       "      <td>12</td>\n",
       "      <td>Thursday</td>\n",
       "      <td>0</td>\n",
       "      <td>0</td>\n",
       "      <td>1</td>\n",
       "    </tr>\n",
       "    <tr>\n",
       "      <th>238</th>\n",
       "      <td>55</td>\n",
       "      <td>305</td>\n",
       "      <td>6954</td>\n",
       "      <td>2018-06-29</td>\n",
       "      <td>13</td>\n",
       "      <td>Friday</td>\n",
       "      <td>0</td>\n",
       "      <td>1</td>\n",
       "      <td>1</td>\n",
       "    </tr>\n",
       "    <tr>\n",
       "      <th>239</th>\n",
       "      <td>50</td>\n",
       "      <td>304</td>\n",
       "      <td>6860</td>\n",
       "      <td>2018-06-30</td>\n",
       "      <td>13</td>\n",
       "      <td>Saturday</td>\n",
       "      <td>0</td>\n",
       "      <td>1</td>\n",
       "      <td>1</td>\n",
       "    </tr>\n",
       "    <tr>\n",
       "      <th>240</th>\n",
       "      <td>64</td>\n",
       "      <td>359</td>\n",
       "      <td>7523</td>\n",
       "      <td>2018-07-01</td>\n",
       "      <td>12</td>\n",
       "      <td>Sunday</td>\n",
       "      <td>0</td>\n",
       "      <td>0</td>\n",
       "      <td>0</td>\n",
       "    </tr>\n",
       "    <tr>\n",
       "      <th>241</th>\n",
       "      <td>65</td>\n",
       "      <td>358</td>\n",
       "      <td>10369</td>\n",
       "      <td>2018-07-02</td>\n",
       "      <td>11</td>\n",
       "      <td>Monday</td>\n",
       "      <td>0</td>\n",
       "      <td>0</td>\n",
       "      <td>1</td>\n",
       "    </tr>\n",
       "    <tr>\n",
       "      <th>242</th>\n",
       "      <td>73</td>\n",
       "      <td>410</td>\n",
       "      <td>10249</td>\n",
       "      <td>2018-07-03</td>\n",
       "      <td>10</td>\n",
       "      <td>Tuesday</td>\n",
       "      <td>0</td>\n",
       "      <td>0</td>\n",
       "      <td>1</td>\n",
       "    </tr>\n",
       "    <tr>\n",
       "      <th>243</th>\n",
       "      <td>27</td>\n",
       "      <td>378</td>\n",
       "      <td>15297</td>\n",
       "      <td>2018-07-04</td>\n",
       "      <td>14</td>\n",
       "      <td>Wednesday</td>\n",
       "      <td>0</td>\n",
       "      <td>0</td>\n",
       "      <td>0</td>\n",
       "    </tr>\n",
       "    <tr>\n",
       "      <th>244</th>\n",
       "      <td>80</td>\n",
       "      <td>452</td>\n",
       "      <td>8305</td>\n",
       "      <td>2018-07-05</td>\n",
       "      <td>10</td>\n",
       "      <td>Thursday</td>\n",
       "      <td>0</td>\n",
       "      <td>0</td>\n",
       "      <td>0</td>\n",
       "    </tr>\n",
       "    <tr>\n",
       "      <th>245</th>\n",
       "      <td>68</td>\n",
       "      <td>465</td>\n",
       "      <td>9921</td>\n",
       "      <td>2018-07-06</td>\n",
       "      <td>9</td>\n",
       "      <td>Friday</td>\n",
       "      <td>0</td>\n",
       "      <td>0</td>\n",
       "      <td>0</td>\n",
       "    </tr>\n",
       "    <tr>\n",
       "      <th>246</th>\n",
       "      <td>45</td>\n",
       "      <td>251</td>\n",
       "      <td>9960</td>\n",
       "      <td>2018-07-07</td>\n",
       "      <td>12</td>\n",
       "      <td>Saturday</td>\n",
       "      <td>0</td>\n",
       "      <td>0</td>\n",
       "      <td>0</td>\n",
       "    </tr>\n",
       "    <tr>\n",
       "      <th>247</th>\n",
       "      <td>72</td>\n",
       "      <td>411</td>\n",
       "      <td>13914</td>\n",
       "      <td>2018-07-08</td>\n",
       "      <td>10</td>\n",
       "      <td>Sunday</td>\n",
       "      <td>0</td>\n",
       "      <td>0</td>\n",
       "      <td>1</td>\n",
       "    </tr>\n",
       "    <tr>\n",
       "      <th>248</th>\n",
       "      <td>78</td>\n",
       "      <td>459</td>\n",
       "      <td>10454</td>\n",
       "      <td>2018-07-10</td>\n",
       "      <td>9</td>\n",
       "      <td>Tuesday</td>\n",
       "      <td>0</td>\n",
       "      <td>0</td>\n",
       "      <td>1</td>\n",
       "    </tr>\n",
       "    <tr>\n",
       "      <th>249</th>\n",
       "      <td>59</td>\n",
       "      <td>336</td>\n",
       "      <td>11099</td>\n",
       "      <td>2018-07-11</td>\n",
       "      <td>11</td>\n",
       "      <td>Wednesday</td>\n",
       "      <td>0</td>\n",
       "      <td>1</td>\n",
       "      <td>1</td>\n",
       "    </tr>\n",
       "    <tr>\n",
       "      <th>250</th>\n",
       "      <td>65</td>\n",
       "      <td>366</td>\n",
       "      <td>4717</td>\n",
       "      <td>2018-07-13</td>\n",
       "      <td>10</td>\n",
       "      <td>Friday</td>\n",
       "      <td>0</td>\n",
       "      <td>1</td>\n",
       "      <td>0</td>\n",
       "    </tr>\n",
       "    <tr>\n",
       "      <th>251</th>\n",
       "      <td>63</td>\n",
       "      <td>355</td>\n",
       "      <td>9833</td>\n",
       "      <td>2018-07-14</td>\n",
       "      <td>11</td>\n",
       "      <td>Saturday</td>\n",
       "      <td>0</td>\n",
       "      <td>0</td>\n",
       "      <td>1</td>\n",
       "    </tr>\n",
       "    <tr>\n",
       "      <th>252</th>\n",
       "      <td>64</td>\n",
       "      <td>365</td>\n",
       "      <td>6137</td>\n",
       "      <td>2018-07-15</td>\n",
       "      <td>11</td>\n",
       "      <td>Sunday</td>\n",
       "      <td>0</td>\n",
       "      <td>1</td>\n",
       "      <td>0</td>\n",
       "    </tr>\n",
       "    <tr>\n",
       "      <th>253</th>\n",
       "      <td>54</td>\n",
       "      <td>315</td>\n",
       "      <td>9049</td>\n",
       "      <td>2018-07-16</td>\n",
       "      <td>11</td>\n",
       "      <td>Monday</td>\n",
       "      <td>0</td>\n",
       "      <td>0</td>\n",
       "      <td>0</td>\n",
       "    </tr>\n",
       "    <tr>\n",
       "      <th>254</th>\n",
       "      <td>75</td>\n",
       "      <td>421</td>\n",
       "      <td>13012</td>\n",
       "      <td>2018-07-17</td>\n",
       "      <td>9</td>\n",
       "      <td>Tuesday</td>\n",
       "      <td>0</td>\n",
       "      <td>1</td>\n",
       "      <td>0</td>\n",
       "    </tr>\n",
       "    <tr>\n",
       "      <th>255</th>\n",
       "      <td>63</td>\n",
       "      <td>371</td>\n",
       "      <td>11545</td>\n",
       "      <td>2018-07-18</td>\n",
       "      <td>10</td>\n",
       "      <td>Wednesday</td>\n",
       "      <td>0</td>\n",
       "      <td>1</td>\n",
       "      <td>0</td>\n",
       "    </tr>\n",
       "    <tr>\n",
       "      <th>257</th>\n",
       "      <td>58</td>\n",
       "      <td>360</td>\n",
       "      <td>18162</td>\n",
       "      <td>2018-07-19</td>\n",
       "      <td>13</td>\n",
       "      <td>Thursday</td>\n",
       "      <td>0</td>\n",
       "      <td>0</td>\n",
       "      <td>0</td>\n",
       "    </tr>\n",
       "    <tr>\n",
       "      <th>258</th>\n",
       "      <td>68</td>\n",
       "      <td>405</td>\n",
       "      <td>13696</td>\n",
       "      <td>2018-07-20</td>\n",
       "      <td>12</td>\n",
       "      <td>Friday</td>\n",
       "      <td>0</td>\n",
       "      <td>0</td>\n",
       "      <td>0</td>\n",
       "    </tr>\n",
       "    <tr>\n",
       "      <th>259</th>\n",
       "      <td>40</td>\n",
       "      <td>226</td>\n",
       "      <td>21892</td>\n",
       "      <td>2018-07-21</td>\n",
       "      <td>13</td>\n",
       "      <td>Saturday</td>\n",
       "      <td>0</td>\n",
       "      <td>0</td>\n",
       "      <td>0</td>\n",
       "    </tr>\n",
       "    <tr>\n",
       "      <th>269</th>\n",
       "      <td>73</td>\n",
       "      <td>417</td>\n",
       "      <td>6598</td>\n",
       "      <td>2019-01-20</td>\n",
       "      <td>9</td>\n",
       "      <td>Sunday</td>\n",
       "      <td>0</td>\n",
       "      <td>1</td>\n",
       "      <td>0</td>\n",
       "    </tr>\n",
       "  </tbody>\n",
       "</table>\n",
       "<p>133 rows × 9 columns</p>\n",
       "</div>"
      ],
      "text/plain": [
       "     Sleep_quality  Time_in_bed  Activity_steps Start_date  Start_time  \\\n",
       "115             70          398           10583 2016-11-17          11   \n",
       "116             73          429           16053 2016-11-18          10   \n",
       "117             80          459            8794 2016-11-19          11   \n",
       "118             75          429            2622 2016-11-20          10   \n",
       "119             88          499           11744 2016-11-21           9   \n",
       "120             82          466           10437 2016-11-22          10   \n",
       "121             79          450           11113 2016-11-23          10   \n",
       "122             84          484           10919 2016-11-24          10   \n",
       "123             86          490            9250 2016-11-25           9   \n",
       "124             68          365           13595 2016-11-26          11   \n",
       "125             87          484            7323 2016-11-27           9   \n",
       "126             86          477           10917 2016-11-28          10   \n",
       "127             87          474            7594 2016-11-29          10   \n",
       "128             78          531           10429 2016-11-30           8   \n",
       "129             83          451            8809 2016-12-01          10   \n",
       "130             73          416           11637 2016-12-02          11   \n",
       "131             71          395            8340 2016-12-03          11   \n",
       "132             80          517            2204 2016-12-04           9   \n",
       "133             73          495            7723 2016-12-05          11   \n",
       "134             76          408            6149 2016-12-06          11   \n",
       "136             91          487            8772 2016-12-07           9   \n",
       "137             85          502           10570 2016-12-08          10   \n",
       "138             79          519            6468 2016-12-09          10   \n",
       "139             81          433            9372 2016-12-10          11   \n",
       "140             56          584            3804 2016-12-11           9   \n",
       "142             82          475            7191 2016-12-13          11   \n",
       "143             68          388           10047 2017-08-05          11   \n",
       "145             64          388           12075 2017-08-07          10   \n",
       "146             62          389            7037 2017-08-08          10   \n",
       "147             67          383            4663 2017-08-09          10   \n",
       "..             ...          ...             ...        ...         ...   \n",
       "230             75          414            5432 2018-06-21          10   \n",
       "231             62          355           14389 2018-06-22          11   \n",
       "232             34          234            8876 2018-06-23          14   \n",
       "233             95          515            6065 2018-06-24           8   \n",
       "234             64          356            8389 2018-06-25          11   \n",
       "235             73          438           10987 2018-06-26          10   \n",
       "236             58          334            6568 2018-06-27          12   \n",
       "237             62          344            8780 2018-06-28          12   \n",
       "238             55          305            6954 2018-06-29          13   \n",
       "239             50          304            6860 2018-06-30          13   \n",
       "240             64          359            7523 2018-07-01          12   \n",
       "241             65          358           10369 2018-07-02          11   \n",
       "242             73          410           10249 2018-07-03          10   \n",
       "243             27          378           15297 2018-07-04          14   \n",
       "244             80          452            8305 2018-07-05          10   \n",
       "245             68          465            9921 2018-07-06           9   \n",
       "246             45          251            9960 2018-07-07          12   \n",
       "247             72          411           13914 2018-07-08          10   \n",
       "248             78          459           10454 2018-07-10           9   \n",
       "249             59          336           11099 2018-07-11          11   \n",
       "250             65          366            4717 2018-07-13          10   \n",
       "251             63          355            9833 2018-07-14          11   \n",
       "252             64          365            6137 2018-07-15          11   \n",
       "253             54          315            9049 2018-07-16          11   \n",
       "254             75          421           13012 2018-07-17           9   \n",
       "255             63          371           11545 2018-07-18          10   \n",
       "257             58          360           18162 2018-07-19          13   \n",
       "258             68          405           13696 2018-07-20          12   \n",
       "259             40          226           21892 2018-07-21          13   \n",
       "269             73          417            6598 2019-01-20           9   \n",
       "\n",
       "    Start_Dayofweek  Ate_late  Drank_coffee  Stressful_day  \n",
       "115        Thursday         0             0              0  \n",
       "116          Friday         0             0              1  \n",
       "117        Saturday         0             0              0  \n",
       "118          Sunday         0             0              0  \n",
       "119          Monday         0             0              1  \n",
       "120         Tuesday         0             0              0  \n",
       "121       Wednesday         0             0              0  \n",
       "122        Thursday         0             0              0  \n",
       "123          Friday         0             0              0  \n",
       "124        Saturday         0             0              0  \n",
       "125          Sunday         0             0              0  \n",
       "126          Monday         0             0              0  \n",
       "127         Tuesday         0             0              0  \n",
       "128       Wednesday         0             0              0  \n",
       "129        Thursday         0             0              0  \n",
       "130          Friday         0             0              0  \n",
       "131        Saturday         0             0              0  \n",
       "132          Sunday         0             0              0  \n",
       "133          Monday         0             0              0  \n",
       "134         Tuesday         0             0              0  \n",
       "136       Wednesday         0             0              0  \n",
       "137        Thursday         0             0              0  \n",
       "138          Friday         0             0              0  \n",
       "139        Saturday         0             0              0  \n",
       "140          Sunday         0             0              0  \n",
       "142         Tuesday         0             0              0  \n",
       "143        Saturday         1             0              0  \n",
       "145          Monday         0             0              0  \n",
       "146         Tuesday         0             1              0  \n",
       "147       Wednesday         0             0              0  \n",
       "..              ...       ...           ...            ...  \n",
       "230        Thursday         0             0              1  \n",
       "231          Friday         0             0              1  \n",
       "232        Saturday         0             1              1  \n",
       "233          Sunday         0             0              1  \n",
       "234          Monday         1             0              1  \n",
       "235         Tuesday         0             1              1  \n",
       "236       Wednesday         0             0              0  \n",
       "237        Thursday         0             0              1  \n",
       "238          Friday         0             1              1  \n",
       "239        Saturday         0             1              1  \n",
       "240          Sunday         0             0              0  \n",
       "241          Monday         0             0              1  \n",
       "242         Tuesday         0             0              1  \n",
       "243       Wednesday         0             0              0  \n",
       "244        Thursday         0             0              0  \n",
       "245          Friday         0             0              0  \n",
       "246        Saturday         0             0              0  \n",
       "247          Sunday         0             0              1  \n",
       "248         Tuesday         0             0              1  \n",
       "249       Wednesday         0             1              1  \n",
       "250          Friday         0             1              0  \n",
       "251        Saturday         0             0              1  \n",
       "252          Sunday         0             1              0  \n",
       "253          Monday         0             0              0  \n",
       "254         Tuesday         0             1              0  \n",
       "255       Wednesday         0             1              0  \n",
       "257        Thursday         0             0              0  \n",
       "258          Friday         0             0              0  \n",
       "259        Saturday         0             0              0  \n",
       "269          Sunday         0             1              0  \n",
       "\n",
       "[133 rows x 9 columns]"
      ]
     },
     "execution_count": 257,
     "metadata": {},
     "output_type": "execute_result"
    }
   ],
   "source": [
    "# removing the spaces from the new column names\n",
    "\n",
    "df_full.rename(\n",
    "  columns={\n",
    "    'Ate late' : 'Ate_late',\n",
    "    'Drank coffee' : 'Drank_coffee',\n",
    "    'Drank tea': 'Drank_tea',\n",
    "    'Stressful day': 'Stressful_day'  \n",
    "  },\n",
    "  inplace=True\n",
    ")\n",
    "df_full"
   ]
  },
  {
   "cell_type": "code",
   "execution_count": 273,
   "metadata": {},
   "outputs": [],
   "source": [
    "# checking if stress column contain enough data for analysis\n",
    "\n",
    "stress = df_full.Stressful_day"
   ]
  },
  {
   "cell_type": "code",
   "execution_count": 281,
   "metadata": {},
   "outputs": [
    {
     "data": {
      "text/plain": [
       "0    83\n",
       "1    50\n",
       "Name: Stressful_day, dtype: int64"
      ]
     },
     "execution_count": 281,
     "metadata": {},
     "output_type": "execute_result"
    }
   ],
   "source": [
    "stress.value_counts().sort_index()   # looks ok"
   ]
  },
  {
   "cell_type": "code",
   "execution_count": 282,
   "metadata": {},
   "outputs": [],
   "source": [
    "# checking if coffee column contain enough data for analysis\n",
    "\n",
    "coffee = df_full.Drank_coffee"
   ]
  },
  {
   "cell_type": "code",
   "execution_count": 276,
   "metadata": {
    "scrolled": true
   },
   "outputs": [
    {
     "data": {
      "text/plain": [
       "0    80\n",
       "1    53\n",
       "Name: Drank_coffee, dtype: int64"
      ]
     },
     "execution_count": 276,
     "metadata": {},
     "output_type": "execute_result"
    }
   ],
   "source": [
    "coffee.value_counts().sort_index()   # looks ok"
   ]
  },
  {
   "cell_type": "code",
   "execution_count": 284,
   "metadata": {},
   "outputs": [],
   "source": [
    "# checking if ate alte column contain enough data for analysis\n",
    "\n",
    "food = df_full.Ate_late"
   ]
  },
  {
   "cell_type": "code",
   "execution_count": 283,
   "metadata": {},
   "outputs": [
    {
     "data": {
      "text/plain": [
       "0    115\n",
       "1     18\n",
       "Name: Ate_late, dtype: int64"
      ]
     },
     "execution_count": 283,
     "metadata": {},
     "output_type": "execute_result"
    }
   ],
   "source": [
    "food.value_counts().sort_index()   # small ammount of occurences can affect the regression"
   ]
  },
  {
   "cell_type": "code",
   "execution_count": 285,
   "metadata": {},
   "outputs": [
    {
     "data": {
      "text/html": [
       "<div>\n",
       "<style scoped>\n",
       "    .dataframe tbody tr th:only-of-type {\n",
       "        vertical-align: middle;\n",
       "    }\n",
       "\n",
       "    .dataframe tbody tr th {\n",
       "        vertical-align: top;\n",
       "    }\n",
       "\n",
       "    .dataframe thead th {\n",
       "        text-align: right;\n",
       "    }\n",
       "</style>\n",
       "<table border=\"1\" class=\"dataframe\">\n",
       "  <thead>\n",
       "    <tr style=\"text-align: right;\">\n",
       "      <th></th>\n",
       "      <th>Sleep_quality</th>\n",
       "      <th>Time_in_bed</th>\n",
       "      <th>Activity_steps</th>\n",
       "      <th>Start_time</th>\n",
       "      <th>Ate_late</th>\n",
       "      <th>Drank_coffee</th>\n",
       "      <th>Stressful_day</th>\n",
       "    </tr>\n",
       "  </thead>\n",
       "  <tbody>\n",
       "    <tr>\n",
       "      <th>count</th>\n",
       "      <td>133.00</td>\n",
       "      <td>133.00</td>\n",
       "      <td>133.00</td>\n",
       "      <td>133.00</td>\n",
       "      <td>133.00</td>\n",
       "      <td>133.00</td>\n",
       "      <td>133.00</td>\n",
       "    </tr>\n",
       "    <tr>\n",
       "      <th>mean</th>\n",
       "      <td>73.05</td>\n",
       "      <td>419.17</td>\n",
       "      <td>9429.39</td>\n",
       "      <td>10.50</td>\n",
       "      <td>0.14</td>\n",
       "      <td>0.40</td>\n",
       "      <td>0.38</td>\n",
       "    </tr>\n",
       "    <tr>\n",
       "      <th>std</th>\n",
       "      <td>14.31</td>\n",
       "      <td>73.78</td>\n",
       "      <td>3630.93</td>\n",
       "      <td>1.31</td>\n",
       "      <td>0.34</td>\n",
       "      <td>0.49</td>\n",
       "      <td>0.49</td>\n",
       "    </tr>\n",
       "    <tr>\n",
       "      <th>min</th>\n",
       "      <td>27.00</td>\n",
       "      <td>226.00</td>\n",
       "      <td>1222.00</td>\n",
       "      <td>7.00</td>\n",
       "      <td>0.00</td>\n",
       "      <td>0.00</td>\n",
       "      <td>0.00</td>\n",
       "    </tr>\n",
       "    <tr>\n",
       "      <th>25%</th>\n",
       "      <td>64.00</td>\n",
       "      <td>366.00</td>\n",
       "      <td>7191.00</td>\n",
       "      <td>10.00</td>\n",
       "      <td>0.00</td>\n",
       "      <td>0.00</td>\n",
       "      <td>0.00</td>\n",
       "    </tr>\n",
       "    <tr>\n",
       "      <th>50%</th>\n",
       "      <td>74.00</td>\n",
       "      <td>417.00</td>\n",
       "      <td>9049.00</td>\n",
       "      <td>10.00</td>\n",
       "      <td>0.00</td>\n",
       "      <td>0.00</td>\n",
       "      <td>0.00</td>\n",
       "    </tr>\n",
       "    <tr>\n",
       "      <th>75%</th>\n",
       "      <td>83.00</td>\n",
       "      <td>474.00</td>\n",
       "      <td>11277.00</td>\n",
       "      <td>11.00</td>\n",
       "      <td>0.00</td>\n",
       "      <td>1.00</td>\n",
       "      <td>1.00</td>\n",
       "    </tr>\n",
       "    <tr>\n",
       "      <th>max</th>\n",
       "      <td>100.00</td>\n",
       "      <td>593.00</td>\n",
       "      <td>21892.00</td>\n",
       "      <td>14.00</td>\n",
       "      <td>1.00</td>\n",
       "      <td>1.00</td>\n",
       "      <td>1.00</td>\n",
       "    </tr>\n",
       "  </tbody>\n",
       "</table>\n",
       "</div>"
      ],
      "text/plain": [
       "       Sleep_quality  Time_in_bed  Activity_steps  Start_time  Ate_late  \\\n",
       "count         133.00       133.00          133.00      133.00    133.00   \n",
       "mean           73.05       419.17         9429.39       10.50      0.14   \n",
       "std            14.31        73.78         3630.93        1.31      0.34   \n",
       "min            27.00       226.00         1222.00        7.00      0.00   \n",
       "25%            64.00       366.00         7191.00       10.00      0.00   \n",
       "50%            74.00       417.00         9049.00       10.00      0.00   \n",
       "75%            83.00       474.00        11277.00       11.00      0.00   \n",
       "max           100.00       593.00        21892.00       14.00      1.00   \n",
       "\n",
       "       Drank_coffee  Stressful_day  \n",
       "count        133.00         133.00  \n",
       "mean           0.40           0.38  \n",
       "std            0.49           0.49  \n",
       "min            0.00           0.00  \n",
       "25%            0.00           0.00  \n",
       "50%            0.00           0.00  \n",
       "75%            1.00           1.00  \n",
       "max            1.00           1.00  "
      ]
     },
     "execution_count": 285,
     "metadata": {},
     "output_type": "execute_result"
    }
   ],
   "source": [
    "# checking mins and maxs\n",
    "\n",
    "round(df_full.describe(), 2)"
   ]
  },
  {
   "cell_type": "markdown",
   "metadata": {},
   "source": [
    "# EDA & Visualisations"
   ]
  },
  {
   "cell_type": "code",
   "execution_count": 286,
   "metadata": {},
   "outputs": [
    {
     "data": {
      "text/html": [
       "<div>\n",
       "<style scoped>\n",
       "    .dataframe tbody tr th:only-of-type {\n",
       "        vertical-align: middle;\n",
       "    }\n",
       "\n",
       "    .dataframe tbody tr th {\n",
       "        vertical-align: top;\n",
       "    }\n",
       "\n",
       "    .dataframe thead th {\n",
       "        text-align: right;\n",
       "    }\n",
       "</style>\n",
       "<table border=\"1\" class=\"dataframe\">\n",
       "  <thead>\n",
       "    <tr style=\"text-align: right;\">\n",
       "      <th></th>\n",
       "      <th>Sleep_quality</th>\n",
       "      <th>Time_in_bed</th>\n",
       "      <th>Activity_steps</th>\n",
       "      <th>Start_time</th>\n",
       "      <th>Ate_late</th>\n",
       "      <th>Drank_coffee</th>\n",
       "      <th>Stressful_day</th>\n",
       "    </tr>\n",
       "  </thead>\n",
       "  <tbody>\n",
       "    <tr>\n",
       "      <th>Sleep_quality</th>\n",
       "      <td>1.00</td>\n",
       "      <td>0.81</td>\n",
       "      <td>-0.21</td>\n",
       "      <td>-0.75</td>\n",
       "      <td>0.13</td>\n",
       "      <td>-0.16</td>\n",
       "      <td>0.00</td>\n",
       "    </tr>\n",
       "    <tr>\n",
       "      <th>Time_in_bed</th>\n",
       "      <td>0.81</td>\n",
       "      <td>1.00</td>\n",
       "      <td>-0.15</td>\n",
       "      <td>-0.71</td>\n",
       "      <td>0.04</td>\n",
       "      <td>-0.15</td>\n",
       "      <td>-0.09</td>\n",
       "    </tr>\n",
       "    <tr>\n",
       "      <th>Activity_steps</th>\n",
       "      <td>-0.21</td>\n",
       "      <td>-0.15</td>\n",
       "      <td>1.00</td>\n",
       "      <td>0.21</td>\n",
       "      <td>0.05</td>\n",
       "      <td>0.01</td>\n",
       "      <td>0.03</td>\n",
       "    </tr>\n",
       "    <tr>\n",
       "      <th>Start_time</th>\n",
       "      <td>-0.75</td>\n",
       "      <td>-0.71</td>\n",
       "      <td>0.21</td>\n",
       "      <td>1.00</td>\n",
       "      <td>0.05</td>\n",
       "      <td>0.11</td>\n",
       "      <td>-0.01</td>\n",
       "    </tr>\n",
       "    <tr>\n",
       "      <th>Ate_late</th>\n",
       "      <td>0.13</td>\n",
       "      <td>0.04</td>\n",
       "      <td>0.05</td>\n",
       "      <td>0.05</td>\n",
       "      <td>1.00</td>\n",
       "      <td>0.17</td>\n",
       "      <td>0.10</td>\n",
       "    </tr>\n",
       "    <tr>\n",
       "      <th>Drank_coffee</th>\n",
       "      <td>-0.16</td>\n",
       "      <td>-0.15</td>\n",
       "      <td>0.01</td>\n",
       "      <td>0.11</td>\n",
       "      <td>0.17</td>\n",
       "      <td>1.00</td>\n",
       "      <td>0.03</td>\n",
       "    </tr>\n",
       "    <tr>\n",
       "      <th>Stressful_day</th>\n",
       "      <td>0.00</td>\n",
       "      <td>-0.09</td>\n",
       "      <td>0.03</td>\n",
       "      <td>-0.01</td>\n",
       "      <td>0.10</td>\n",
       "      <td>0.03</td>\n",
       "      <td>1.00</td>\n",
       "    </tr>\n",
       "  </tbody>\n",
       "</table>\n",
       "</div>"
      ],
      "text/plain": [
       "                Sleep_quality  Time_in_bed  Activity_steps  Start_time  \\\n",
       "Sleep_quality            1.00         0.81           -0.21       -0.75   \n",
       "Time_in_bed              0.81         1.00           -0.15       -0.71   \n",
       "Activity_steps          -0.21        -0.15            1.00        0.21   \n",
       "Start_time              -0.75        -0.71            0.21        1.00   \n",
       "Ate_late                 0.13         0.04            0.05        0.05   \n",
       "Drank_coffee            -0.16        -0.15            0.01        0.11   \n",
       "Stressful_day            0.00        -0.09            0.03       -0.01   \n",
       "\n",
       "                Ate_late  Drank_coffee  Stressful_day  \n",
       "Sleep_quality       0.13         -0.16           0.00  \n",
       "Time_in_bed         0.04         -0.15          -0.09  \n",
       "Activity_steps      0.05          0.01           0.03  \n",
       "Start_time          0.05          0.11          -0.01  \n",
       "Ate_late            1.00          0.17           0.10  \n",
       "Drank_coffee        0.17          1.00           0.03  \n",
       "Stressful_day       0.10          0.03           1.00  "
      ]
     },
     "execution_count": 286,
     "metadata": {},
     "output_type": "execute_result"
    }
   ],
   "source": [
    "# looking at correlation between vaiables\n",
    "\n",
    "round(df_full.corr(), 2)"
   ]
  },
  {
   "cell_type": "code",
   "execution_count": 288,
   "metadata": {},
   "outputs": [
    {
     "data": {
      "text/html": [
       "<div>\n",
       "<style scoped>\n",
       "    .dataframe tbody tr th:only-of-type {\n",
       "        vertical-align: middle;\n",
       "    }\n",
       "\n",
       "    .dataframe tbody tr th {\n",
       "        vertical-align: top;\n",
       "    }\n",
       "\n",
       "    .dataframe thead th {\n",
       "        text-align: right;\n",
       "    }\n",
       "</style>\n",
       "<table border=\"1\" class=\"dataframe\">\n",
       "  <thead>\n",
       "    <tr style=\"text-align: right;\">\n",
       "      <th></th>\n",
       "      <th>Sleep_quality</th>\n",
       "      <th>Time_in_bed</th>\n",
       "      <th>Activity_steps</th>\n",
       "      <th>Start_time</th>\n",
       "      <th>Ate_late</th>\n",
       "      <th>Drank_coffee</th>\n",
       "      <th>Stressful_day</th>\n",
       "    </tr>\n",
       "  </thead>\n",
       "  <tbody>\n",
       "    <tr>\n",
       "      <th>Sleep_quality</th>\n",
       "      <td>True</td>\n",
       "      <td>True</td>\n",
       "      <td>False</td>\n",
       "      <td>True</td>\n",
       "      <td>False</td>\n",
       "      <td>False</td>\n",
       "      <td>False</td>\n",
       "    </tr>\n",
       "    <tr>\n",
       "      <th>Time_in_bed</th>\n",
       "      <td>True</td>\n",
       "      <td>True</td>\n",
       "      <td>False</td>\n",
       "      <td>False</td>\n",
       "      <td>False</td>\n",
       "      <td>False</td>\n",
       "      <td>False</td>\n",
       "    </tr>\n",
       "    <tr>\n",
       "      <th>Activity_steps</th>\n",
       "      <td>False</td>\n",
       "      <td>False</td>\n",
       "      <td>True</td>\n",
       "      <td>False</td>\n",
       "      <td>False</td>\n",
       "      <td>False</td>\n",
       "      <td>False</td>\n",
       "    </tr>\n",
       "    <tr>\n",
       "      <th>Start_time</th>\n",
       "      <td>True</td>\n",
       "      <td>False</td>\n",
       "      <td>False</td>\n",
       "      <td>True</td>\n",
       "      <td>False</td>\n",
       "      <td>False</td>\n",
       "      <td>False</td>\n",
       "    </tr>\n",
       "    <tr>\n",
       "      <th>Ate_late</th>\n",
       "      <td>False</td>\n",
       "      <td>False</td>\n",
       "      <td>False</td>\n",
       "      <td>False</td>\n",
       "      <td>True</td>\n",
       "      <td>False</td>\n",
       "      <td>False</td>\n",
       "    </tr>\n",
       "    <tr>\n",
       "      <th>Drank_coffee</th>\n",
       "      <td>False</td>\n",
       "      <td>False</td>\n",
       "      <td>False</td>\n",
       "      <td>False</td>\n",
       "      <td>False</td>\n",
       "      <td>True</td>\n",
       "      <td>False</td>\n",
       "    </tr>\n",
       "    <tr>\n",
       "      <th>Stressful_day</th>\n",
       "      <td>False</td>\n",
       "      <td>False</td>\n",
       "      <td>False</td>\n",
       "      <td>False</td>\n",
       "      <td>False</td>\n",
       "      <td>False</td>\n",
       "      <td>True</td>\n",
       "    </tr>\n",
       "  </tbody>\n",
       "</table>\n",
       "</div>"
      ],
      "text/plain": [
       "                Sleep_quality  Time_in_bed  Activity_steps  Start_time  \\\n",
       "Sleep_quality            True         True           False        True   \n",
       "Time_in_bed              True         True           False       False   \n",
       "Activity_steps          False        False            True       False   \n",
       "Start_time               True        False           False        True   \n",
       "Ate_late                False        False           False       False   \n",
       "Drank_coffee            False        False           False       False   \n",
       "Stressful_day           False        False           False       False   \n",
       "\n",
       "                Ate_late  Drank_coffee  Stressful_day  \n",
       "Sleep_quality      False         False          False  \n",
       "Time_in_bed        False         False          False  \n",
       "Activity_steps     False         False          False  \n",
       "Start_time         False         False          False  \n",
       "Ate_late            True         False          False  \n",
       "Drank_coffee       False          True          False  \n",
       "Stressful_day      False         False           True  "
      ]
     },
     "execution_count": 288,
     "metadata": {},
     "output_type": "execute_result"
    }
   ],
   "source": [
    "# which ones are highly correlated?\n",
    "\n",
    "abs(df_full.corr()) > 0.75"
   ]
  },
  {
   "cell_type": "code",
   "execution_count": 261,
   "metadata": {},
   "outputs": [
    {
     "data": {
      "image/png": "[encoded data removed]",
      "text/plain": [
       "<Figure size 432x288 with 2 Axes>"
      ]
     },
     "metadata": {
      "needs_background": "light"
     },
     "output_type": "display_data"
    }
   ],
   "source": [
    "# corr heatmap\n",
    "\n",
    "sns.heatmap(df_full.corr(), center=0);"
   ]
  },
  {
   "cell_type": "code",
   "execution_count": 263,
   "metadata": {
    "scrolled": true
   },
   "outputs": [
    {
     "data": {
      "image/png": "[encoded data removed]",
      "text/plain": [
       "<Figure size 1260x1260 with 56 Axes>"
      ]
     },
     "metadata": {
      "needs_background": "light"
     },
     "output_type": "display_data"
    }
   ],
   "source": [
    "# a quick visualisation of corr and distributions\n",
    "\n",
    "sns.pairplot(df_full);"
   ]
  },
  {
   "cell_type": "code",
   "execution_count": 289,
   "metadata": {},
   "outputs": [
    {
     "data": {
      "image/png": "[encoded data removed]",
      "text/plain": [
       "<Figure size 432x288 with 1 Axes>"
      ]
     },
     "metadata": {
      "needs_background": "light"
     },
     "output_type": "display_data"
    }
   ],
   "source": [
    "# histogram of sleep quality index\n",
    "\n",
    "plt.hist(df_full.Sleep_quality, bins=20)\n",
    "plt.xlabel('Sleep quality')\n",
    "plt.ylabel('Number of occurances')\n",
    "plt.show()"
   ]
  },
  {
   "cell_type": "code",
   "execution_count": 324,
   "metadata": {},
   "outputs": [
    {
     "data": {
      "text/plain": [
       "Text(0, 0.5, 'PMF')"
      ]
     },
     "execution_count": 324,
     "metadata": {},
     "output_type": "execute_result"
    },
    {
     "data": {
      "image/png": "[encoded data removed]",
      "text/plain": [
       "<Figure size 432x288 with 1 Axes>"
      ]
     },
     "metadata": {
      "needs_background": "light"
     },
     "output_type": "display_data"
    }
   ],
   "source": [
    "# sleep quality PMF\n",
    "\n",
    "pmf_sleep = df_full.Sleep_quality.value_counts().sort_index() / len(df_full.Sleep_quality)\n",
    "pmf_sleep.plot(kind='bar');\n",
    "plt.xlabel('Index')\n",
    "plt.ylabel('PMF')"
   ]
  },
  {
   "cell_type": "code",
   "execution_count": 329,
   "metadata": {},
   "outputs": [
    {
     "data": {
      "image/png": "[encoded data removed]",
      "text/plain": [
       "<Figure size 432x288 with 1 Axes>"
      ]
     },
     "metadata": {
      "needs_background": "light"
     },
     "output_type": "display_data"
    }
   ],
   "source": [
    "# KDE plot \n",
    "\n",
    "sns.kdeplot(df_full.Sleep_quality);"
   ]
  },
  {
   "cell_type": "code",
   "execution_count": 292,
   "metadata": {
    "scrolled": false
   },
   "outputs": [
    {
     "data": {
      "image/png": "[encoded data removed]",
      "text/plain": [
       "<Figure size 432x288 with 1 Axes>"
      ]
     },
     "metadata": {
      "needs_background": "light"
     },
     "output_type": "display_data"
    }
   ],
   "source": [
    "# histogram of going to bed hours\n",
    "\n",
    "plt.hist(df_full.Start_time, bins=20)\n",
    "plt.xlabel('Times')\n",
    "plt.ylabel('Number of occurances')\n",
    "plt.show()"
   ]
  },
  {
   "cell_type": "code",
   "execution_count": 325,
   "metadata": {},
   "outputs": [
    {
     "data": {
      "text/plain": [
       "Text(0, 0.5, 'PMF')"
      ]
     },
     "execution_count": 325,
     "metadata": {},
     "output_type": "execute_result"
    },
    {
     "data": {
      "image/png": "[encoded data removed]",
      "text/plain": [
       "<Figure size 432x288 with 1 Axes>"
      ]
     },
     "metadata": {
      "needs_background": "light"
     },
     "output_type": "display_data"
    }
   ],
   "source": [
    "# going to bed times PMF\n",
    "\n",
    "pmf_times = df_full.Start_time.value_counts().sort_index() / len(df_full.Start_time)\n",
    "pmf_times.plot(kind='bar');\n",
    "plt.xlabel('Times')\n",
    "plt.ylabel('PMF')"
   ]
  },
  {
   "cell_type": "code",
   "execution_count": 295,
   "metadata": {},
   "outputs": [
    {
     "data": {
      "image/png": "[encoded data removed]",
      "text/plain": [
       "<Figure size 432x288 with 1 Axes>"
      ]
     },
     "metadata": {
      "needs_background": "light"
     },
     "output_type": "display_data"
    }
   ],
   "source": [
    "# histogram of number of steps\n",
    "\n",
    "plt.hist(df_full.Activity_steps, bins=20)\n",
    "plt.xlabel('Steps')\n",
    "plt.ylabel('Number of occurances')\n",
    "plt.show()"
   ]
  },
  {
   "cell_type": "code",
   "execution_count": 298,
   "metadata": {},
   "outputs": [
    {
     "data": {
      "image/png": "[encoded data removed]",
      "text/plain": [
       "<Figure size 432x288 with 1 Axes>"
      ]
     },
     "metadata": {
      "needs_background": "light"
     },
     "output_type": "display_data"
    }
   ],
   "source": [
    "# histogram of number of hours spent in bed\n",
    "\n",
    "plt.hist(df_full.Time_in_bed, bins=20, histtype='step') # changing the histtype for fun\n",
    "plt.xlabel('Minutes')\n",
    "plt.ylabel('Number of occurances')\n",
    "plt.show()"
   ]
  },
  {
   "cell_type": "code",
   "execution_count": 326,
   "metadata": {},
   "outputs": [
    {
     "data": {
      "text/plain": [
       "Text(0, 0.5, 'PMF')"
      ]
     },
     "execution_count": 326,
     "metadata": {},
     "output_type": "execute_result"
    },
    {
     "data": {
      "image/png": "[encoded data removed]",
      "text/plain": [
       "<Figure size 432x288 with 1 Axes>"
      ]
     },
     "metadata": {
      "needs_background": "light"
     },
     "output_type": "display_data"
    }
   ],
   "source": [
    "# hours spent in bed PMF\n",
    "\n",
    "pmf_len = df_full.Time_in_bed.value_counts().sort_index() / len(df_full.Time_in_bed)\n",
    "pmf_len.plot(kind='bar');\n",
    "plt.xlabel('Minutes')\n",
    "plt.ylabel('PMF')"
   ]
  },
  {
   "cell_type": "code",
   "execution_count": 330,
   "metadata": {},
   "outputs": [
    {
     "data": {
      "image/png": "[encoded data removed]",
      "text/plain": [
       "<Figure size 432x288 with 1 Axes>"
      ]
     },
     "metadata": {
      "needs_background": "light"
     },
     "output_type": "display_data"
    }
   ],
   "source": [
    "# KDE plot \n",
    "\n",
    "sns.kdeplot(df_full.Time_in_bed);"
   ]
  },
  {
   "cell_type": "code",
   "execution_count": 264,
   "metadata": {},
   "outputs": [
    {
     "name": "stderr",
     "output_type": "stream",
     "text": [
      "/anaconda3/lib/python3.7/site-packages/scipy/stats/stats.py:1713: FutureWarning: Using a non-tuple sequence for multidimensional indexing is deprecated; use `arr[tuple(seq)]` instead of `arr[seq]`. In the future this will be interpreted as an array index, `arr[np.array(seq)]`, which will result either in an error or a different result.\n",
      "  return np.add.reduce(sorted[indexer] * weights, axis=axis) / sumval\n"
     ]
    },
    {
     "data": {
      "image/png": "[encoded data removed]",
      "text/plain": [
       "<Figure size 432x288 with 1 Axes>"
      ]
     },
     "metadata": {
      "needs_background": "light"
     },
     "output_type": "display_data"
    }
   ],
   "source": [
    "# quality of sleep by day of the week\n",
    "\n",
    "sns.barplot(x=df_full['Sleep_quality'], y=df_full['Start_Dayofweek'], data=df_full);"
   ]
  },
  {
   "cell_type": "code",
   "execution_count": 266,
   "metadata": {
    "scrolled": true
   },
   "outputs": [
    {
     "name": "stderr",
     "output_type": "stream",
     "text": [
      "/anaconda3/lib/python3.7/site-packages/scipy/stats/stats.py:1713: FutureWarning: Using a non-tuple sequence for multidimensional indexing is deprecated; use `arr[tuple(seq)]` instead of `arr[seq]`. In the future this will be interpreted as an array index, `arr[np.array(seq)]`, which will result either in an error or a different result.\n",
      "  return np.add.reduce(sorted[indexer] * weights, axis=axis) / sumval\n"
     ]
    },
    {
     "data": {
      "image/png": "[encoded data removed]",
      "text/plain": [
       "<Figure size 432x288 with 1 Axes>"
      ]
     },
     "metadata": {
      "needs_background": "light"
     },
     "output_type": "display_data"
    }
   ],
   "source": [
    "# sleep quality by times\n",
    "\n",
    "sns.barplot(x=df_full['Sleep_quality'], y=df_full['Start_time'], data=df_full, orient='h');"
   ]
  },
  {
   "cell_type": "markdown",
   "metadata": {},
   "source": [
    "## See if any of the variable's log's fit normal distribution"
   ]
  },
  {
   "cell_type": "code",
   "execution_count": null,
   "metadata": {},
   "outputs": [],
   "source": []
  },
  {
   "cell_type": "markdown",
   "metadata": {},
   "source": [
    "# Single variable regression"
   ]
  },
  {
   "cell_type": "code",
   "execution_count": 335,
   "metadata": {},
   "outputs": [
    {
     "data": {
      "text/plain": [
       "LinregressResult(slope=0.15650489648429158, intercept=7.443673127046836, rvalue=0.8066229586727994, pvalue=1.0433099091152846e-31, stderr=0.010019773882471607)"
      ]
     },
     "execution_count": 335,
     "metadata": {},
     "output_type": "execute_result"
    }
   ],
   "source": [
    "# quick regression\n",
    "\n",
    "xs = df_full.Time_in_bed\n",
    "ys = df_full.Sleep_quality\n",
    "res = scipy.stats.linregress(xs, ys)\n",
    "res"
   ]
  },
  {
   "cell_type": "code",
   "execution_count": 338,
   "metadata": {},
   "outputs": [
    {
     "name": "stderr",
     "output_type": "stream",
     "text": [
      "/anaconda3/lib/python3.7/site-packages/scipy/stats/stats.py:1713: FutureWarning: Using a non-tuple sequence for multidimensional indexing is deprecated; use `arr[tuple(seq)]` instead of `arr[seq]`. In the future this will be interpreted as an array index, `arr[np.array(seq)]`, which will result either in an error or a different result.\n",
      "  return np.add.reduce(sorted[indexer] * weights, axis=axis) / sumval\n"
     ]
    },
    {
     "data": {
      "text/plain": [
       "<matplotlib.axes._subplots.AxesSubplot at 0x1a3a30a5c0>"
      ]
     },
     "execution_count": 338,
     "metadata": {},
     "output_type": "execute_result"
    },
    {
     "data": {
      "image/png": "[encoded data removed]",
      "text/plain": [
       "<Figure size 432x288 with 1 Axes>"
      ]
     },
     "metadata": {
      "needs_background": "light"
     },
     "output_type": "display_data"
    }
   ],
   "source": [
    "# plotting the line of best fit\n",
    "\n",
    "sns.regplot(xs, ys)"
   ]
  },
  {
   "cell_type": "markdown",
   "metadata": {},
   "source": [
    "### Building the model"
   ]
  },
  {
   "cell_type": "code",
   "execution_count": 271,
   "metadata": {
    "scrolled": false
   },
   "outputs": [
    {
     "data": {
      "text/html": [
       "<table class=\"simpletable\">\n",
       "<caption>OLS Regression Results</caption>\n",
       "<tr>\n",
       "  <th>Dep. Variable:</th>      <td>Sleep_quality</td>  <th>  R-squared:         </th> <td>   0.651</td>\n",
       "</tr>\n",
       "<tr>\n",
       "  <th>Model:</th>                   <td>OLS</td>       <th>  Adj. R-squared:    </th> <td>   0.648</td>\n",
       "</tr>\n",
       "<tr>\n",
       "  <th>Method:</th>             <td>Least Squares</td>  <th>  F-statistic:       </th> <td>   244.0</td>\n",
       "</tr>\n",
       "<tr>\n",
       "  <th>Date:</th>             <td>Tue, 16 Apr 2019</td> <th>  Prob (F-statistic):</th> <td>1.04e-31</td>\n",
       "</tr>\n",
       "<tr>\n",
       "  <th>Time:</th>                 <td>14:36:03</td>     <th>  Log-Likelihood:    </th> <td> -472.23</td>\n",
       "</tr>\n",
       "<tr>\n",
       "  <th>No. Observations:</th>      <td>   133</td>      <th>  AIC:               </th> <td>   948.5</td>\n",
       "</tr>\n",
       "<tr>\n",
       "  <th>Df Residuals:</th>          <td>   131</td>      <th>  BIC:               </th> <td>   954.2</td>\n",
       "</tr>\n",
       "<tr>\n",
       "  <th>Df Model:</th>              <td>     1</td>      <th>                     </th>     <td> </td>   \n",
       "</tr>\n",
       "<tr>\n",
       "  <th>Covariance Type:</th>      <td>nonrobust</td>    <th>                     </th>     <td> </td>   \n",
       "</tr>\n",
       "</table>\n",
       "<table class=\"simpletable\">\n",
       "<tr>\n",
       "       <td></td>          <th>coef</th>     <th>std err</th>      <th>t</th>      <th>P>|t|</th>  <th>[0.025</th>    <th>0.975]</th>  \n",
       "</tr>\n",
       "<tr>\n",
       "  <th>Intercept</th>   <td>    7.4437</td> <td>    4.264</td> <td>    1.746</td> <td> 0.083</td> <td>   -0.992</td> <td>   15.879</td>\n",
       "</tr>\n",
       "<tr>\n",
       "  <th>Time_in_bed</th> <td>    0.1565</td> <td>    0.010</td> <td>   15.620</td> <td> 0.000</td> <td>    0.137</td> <td>    0.176</td>\n",
       "</tr>\n",
       "</table>\n",
       "<table class=\"simpletable\">\n",
       "<tr>\n",
       "  <th>Omnibus:</th>       <td>116.898</td> <th>  Durbin-Watson:     </th> <td>   1.858</td> \n",
       "</tr>\n",
       "<tr>\n",
       "  <th>Prob(Omnibus):</th> <td> 0.000</td>  <th>  Jarque-Bera (JB):  </th> <td>1311.123</td> \n",
       "</tr>\n",
       "<tr>\n",
       "  <th>Skew:</th>          <td>-3.099</td>  <th>  Prob(JB):          </th> <td>1.96e-285</td>\n",
       "</tr>\n",
       "<tr>\n",
       "  <th>Kurtosis:</th>      <td>17.078</td>  <th>  Cond. No.          </th> <td>2.46e+03</td> \n",
       "</tr>\n",
       "</table><br/><br/>Warnings:<br/>[1] Standard Errors assume that the covariance matrix of the errors is correctly specified.<br/>[2] The condition number is large, 2.46e+03. This might indicate that there are<br/>strong multicollinearity or other numerical problems."
      ],
      "text/plain": [
       "<class 'statsmodels.iolib.summary.Summary'>\n",
       "\"\"\"\n",
       "                            OLS Regression Results                            \n",
       "==============================================================================\n",
       "Dep. Variable:          Sleep_quality   R-squared:                       0.651\n",
       "Model:                            OLS   Adj. R-squared:                  0.648\n",
       "Method:                 Least Squares   F-statistic:                     244.0\n",
       "Date:                Tue, 16 Apr 2019   Prob (F-statistic):           1.04e-31\n",
       "Time:                        14:36:03   Log-Likelihood:                -472.23\n",
       "No. Observations:                 133   AIC:                             948.5\n",
       "Df Residuals:                     131   BIC:                             954.2\n",
       "Df Model:                           1                                         \n",
       "Covariance Type:            nonrobust                                         \n",
       "===============================================================================\n",
       "                  coef    std err          t      P>|t|      [0.025      0.975]\n",
       "-------------------------------------------------------------------------------\n",
       "Intercept       7.4437      4.264      1.746      0.083      -0.992      15.879\n",
       "Time_in_bed     0.1565      0.010     15.620      0.000       0.137       0.176\n",
       "==============================================================================\n",
       "Omnibus:                      116.898   Durbin-Watson:                   1.858\n",
       "Prob(Omnibus):                  0.000   Jarque-Bera (JB):             1311.123\n",
       "Skew:                          -3.099   Prob(JB):                    1.96e-285\n",
       "Kurtosis:                      17.078   Cond. No.                     2.46e+03\n",
       "==============================================================================\n",
       "\n",
       "Warnings:\n",
       "[1] Standard Errors assume that the covariance matrix of the errors is correctly specified.\n",
       "[2] The condition number is large, 2.46e+03. This might indicate that there are\n",
       "strong multicollinearity or other numerical problems.\n",
       "\"\"\""
      ]
     },
     "execution_count": 271,
     "metadata": {},
     "output_type": "execute_result"
    }
   ],
   "source": [
    "# constructing linear model \n",
    "\n",
    "lr_model = ols(formula='Sleep_quality~Time_in_bed', data=df_full).fit()\n",
    "lr_model.summary()\n",
    "\n",
    "# warns about multicollinearity even though one variable?"
   ]
  },
  {
   "cell_type": "markdown",
   "metadata": {},
   "source": [
    "### Assessing the model"
   ]
  },
  {
   "cell_type": "code",
   "execution_count": 269,
   "metadata": {},
   "outputs": [
    {
     "data": {
      "image/png": "[encoded data removed]",
      "text/plain": [
       "<Figure size 432x288 with 1 Axes>"
      ]
     },
     "metadata": {
      "needs_background": "light"
     },
     "output_type": "display_data"
    }
   ],
   "source": [
    "# residuals plot for quality vs duration\n",
    "\n",
    "sns.residplot(df_full['Sleep_quality'], df_full['Time_in_bed'], lowess=True, color=\"g\");"
   ]
  },
  {
   "cell_type": "code",
   "execution_count": 36,
   "metadata": {},
   "outputs": [],
   "source": [
    "# checking for ... :\n",
    "\n",
    "pred_val = lr_model.fittedvalues.copy()\n",
    "true_val = df_full['Sleep_quality'].values.copy()\n",
    "residual = true_val - pred_val"
   ]
  },
  {
   "cell_type": "code",
   "execution_count": 37,
   "metadata": {},
   "outputs": [
    {
     "data": {
      "text/plain": [
       "<matplotlib.collections.PathCollection at 0x1a246b0080>"
      ]
     },
     "execution_count": 37,
     "metadata": {},
     "output_type": "execute_result"
    },
    {
     "data": {
      "image/png": "[encoded data removed]",
      "text/plain": [
       "<Figure size 432x180 with 1 Axes>"
      ]
     },
     "metadata": {
      "needs_background": "light"
     },
     "output_type": "display_data"
    }
   ],
   "source": [
    "fig, ax = plt.subplots(figsize=(6,2.5))\n",
    "ax.scatter(df_full['Sleep_quality'],residual)"
   ]
  },
  {
   "cell_type": "code",
   "execution_count": 38,
   "metadata": {
    "scrolled": true
   },
   "outputs": [
    {
     "data": {
      "text/plain": [
       "0.9523990893322951"
      ]
     },
     "execution_count": 38,
     "metadata": {},
     "output_type": "execute_result"
    },
    {
     "data": {
      "image/png": "[encoded data removed]",
      "text/plain": [
       "<Figure size 432x180 with 1 Axes>"
      ]
     },
     "metadata": {
      "needs_background": "light"
     },
     "output_type": "display_data"
    }
   ],
   "source": [
    "# checking for normality - QQ plot \n",
    "\n",
    "import scipy as sp\n",
    "fig, ax = plt.subplots(figsize=(6,2.5))\n",
    "sp.stats.probplot(residual, plot=ax, fit=True)\n",
    "#r**2\n",
    "0.9523990893322951\n",
    "\n",
    "\n",
    "# obviously not normally distributed"
   ]
  },
  {
   "cell_type": "markdown",
   "metadata": {},
   "source": [
    "## Data transformation "
   ]
  },
  {
   "cell_type": "markdown",
   "metadata": {},
   "source": [
    "### Log"
   ]
  },
  {
   "cell_type": "code",
   "execution_count": 97,
   "metadata": {},
   "outputs": [
    {
     "data": {
      "text/html": [
       "<div>\n",
       "<style scoped>\n",
       "    .dataframe tbody tr th:only-of-type {\n",
       "        vertical-align: middle;\n",
       "    }\n",
       "\n",
       "    .dataframe tbody tr th {\n",
       "        vertical-align: top;\n",
       "    }\n",
       "\n",
       "    .dataframe thead th {\n",
       "        text-align: right;\n",
       "    }\n",
       "</style>\n",
       "<table border=\"1\" class=\"dataframe\">\n",
       "  <thead>\n",
       "    <tr style=\"text-align: right;\">\n",
       "      <th></th>\n",
       "      <th>Sleep_quality</th>\n",
       "      <th>Time_in_bed</th>\n",
       "    </tr>\n",
       "  </thead>\n",
       "  <tbody>\n",
       "    <tr>\n",
       "      <th>115</th>\n",
       "      <td>70</td>\n",
       "      <td>398</td>\n",
       "    </tr>\n",
       "    <tr>\n",
       "      <th>116</th>\n",
       "      <td>73</td>\n",
       "      <td>429</td>\n",
       "    </tr>\n",
       "    <tr>\n",
       "      <th>117</th>\n",
       "      <td>80</td>\n",
       "      <td>459</td>\n",
       "    </tr>\n",
       "    <tr>\n",
       "      <th>118</th>\n",
       "      <td>75</td>\n",
       "      <td>429</td>\n",
       "    </tr>\n",
       "    <tr>\n",
       "      <th>119</th>\n",
       "      <td>88</td>\n",
       "      <td>499</td>\n",
       "    </tr>\n",
       "  </tbody>\n",
       "</table>\n",
       "</div>"
      ],
      "text/plain": [
       "     Sleep_quality  Time_in_bed\n",
       "115             70          398\n",
       "116             73          429\n",
       "117             80          459\n",
       "118             75          429\n",
       "119             88          499"
      ]
     },
     "execution_count": 97,
     "metadata": {},
     "output_type": "execute_result"
    }
   ],
   "source": [
    "# subseting variables for logging to see if works\n",
    "\n",
    "sub_logged = df_full[['Sleep_quality', 'Time_in_bed']]\n",
    "sub_logged.head()"
   ]
  },
  {
   "cell_type": "code",
   "execution_count": 99,
   "metadata": {},
   "outputs": [
    {
     "name": "stderr",
     "output_type": "stream",
     "text": [
      "/anaconda3/lib/python3.7/site-packages/ipykernel_launcher.py:1: RuntimeWarning: divide by zero encountered in log\n",
      "  \"\"\"Entry point for launching an IPython kernel.\n",
      "/anaconda3/lib/python3.7/site-packages/ipykernel_launcher.py:1: SettingWithCopyWarning: \n",
      "A value is trying to be set on a copy of a slice from a DataFrame.\n",
      "Try using .loc[row_indexer,col_indexer] = value instead\n",
      "\n",
      "See the caveats in the documentation: http://pandas.pydata.org/pandas-docs/stable/indexing.html#indexing-view-versus-copy\n",
      "  \"\"\"Entry point for launching an IPython kernel.\n",
      "/anaconda3/lib/python3.7/site-packages/ipykernel_launcher.py:2: RuntimeWarning: divide by zero encountered in log\n",
      "  \n",
      "/anaconda3/lib/python3.7/site-packages/ipykernel_launcher.py:2: SettingWithCopyWarning: \n",
      "A value is trying to be set on a copy of a slice from a DataFrame.\n",
      "Try using .loc[row_indexer,col_indexer] = value instead\n",
      "\n",
      "See the caveats in the documentation: http://pandas.pydata.org/pandas-docs/stable/indexing.html#indexing-view-versus-copy\n",
      "  \n"
     ]
    },
    {
     "data": {
      "text/html": [
       "<div>\n",
       "<style scoped>\n",
       "    .dataframe tbody tr th:only-of-type {\n",
       "        vertical-align: middle;\n",
       "    }\n",
       "\n",
       "    .dataframe tbody tr th {\n",
       "        vertical-align: top;\n",
       "    }\n",
       "\n",
       "    .dataframe thead th {\n",
       "        text-align: right;\n",
       "    }\n",
       "</style>\n",
       "<table border=\"1\" class=\"dataframe\">\n",
       "  <thead>\n",
       "    <tr style=\"text-align: right;\">\n",
       "      <th></th>\n",
       "      <th>Sleep_quality</th>\n",
       "      <th>Time_in_bed</th>\n",
       "      <th>Sleep_quality_log</th>\n",
       "      <th>Time_in_bed_log</th>\n",
       "    </tr>\n",
       "  </thead>\n",
       "  <tbody>\n",
       "    <tr>\n",
       "      <th>115</th>\n",
       "      <td>70</td>\n",
       "      <td>398</td>\n",
       "      <td>4.248495</td>\n",
       "      <td>5.986452</td>\n",
       "    </tr>\n",
       "    <tr>\n",
       "      <th>116</th>\n",
       "      <td>73</td>\n",
       "      <td>429</td>\n",
       "      <td>4.290459</td>\n",
       "      <td>6.061457</td>\n",
       "    </tr>\n",
       "    <tr>\n",
       "      <th>117</th>\n",
       "      <td>80</td>\n",
       "      <td>459</td>\n",
       "      <td>4.382027</td>\n",
       "      <td>6.129050</td>\n",
       "    </tr>\n",
       "    <tr>\n",
       "      <th>118</th>\n",
       "      <td>75</td>\n",
       "      <td>429</td>\n",
       "      <td>4.317488</td>\n",
       "      <td>6.061457</td>\n",
       "    </tr>\n",
       "    <tr>\n",
       "      <th>119</th>\n",
       "      <td>88</td>\n",
       "      <td>499</td>\n",
       "      <td>4.477337</td>\n",
       "      <td>6.212606</td>\n",
       "    </tr>\n",
       "  </tbody>\n",
       "</table>\n",
       "</div>"
      ],
      "text/plain": [
       "     Sleep_quality  Time_in_bed  Sleep_quality_log  Time_in_bed_log\n",
       "115             70          398           4.248495         5.986452\n",
       "116             73          429           4.290459         6.061457\n",
       "117             80          459           4.382027         6.129050\n",
       "118             75          429           4.317488         6.061457\n",
       "119             88          499           4.477337         6.212606"
      ]
     },
     "execution_count": 99,
     "metadata": {},
     "output_type": "execute_result"
    }
   ],
   "source": [
    "sub_logged['Sleep_quality_log'] = np.log(df_full['Sleep_quality'])\n",
    "sub_logged['Time_in_bed_log'] = np.log(df_full['Time_in_bed'])\n",
    "sub_logged.head()"
   ]
  },
  {
   "cell_type": "code",
   "execution_count": 41,
   "metadata": {},
   "outputs": [
    {
     "data": {
      "text/html": [
       "<table class=\"simpletable\">\n",
       "<caption>OLS Regression Results</caption>\n",
       "<tr>\n",
       "  <th>Dep. Variable:</th>    <td>Sleep_quality_log</td> <th>  R-squared:         </th> <td>   0.645</td>\n",
       "</tr>\n",
       "<tr>\n",
       "  <th>Model:</th>                   <td>OLS</td>        <th>  Adj. R-squared:    </th> <td>   0.642</td>\n",
       "</tr>\n",
       "<tr>\n",
       "  <th>Method:</th>             <td>Least Squares</td>   <th>  F-statistic:       </th> <td>   238.1</td>\n",
       "</tr>\n",
       "<tr>\n",
       "  <th>Date:</th>             <td>Sat, 13 Apr 2019</td>  <th>  Prob (F-statistic):</th> <td>2.96e-31</td>\n",
       "</tr>\n",
       "<tr>\n",
       "  <th>Time:</th>                 <td>13:33:32</td>      <th>  Log-Likelihood:    </th> <td>  81.097</td>\n",
       "</tr>\n",
       "<tr>\n",
       "  <th>No. Observations:</th>      <td>   133</td>       <th>  AIC:               </th> <td>  -158.2</td>\n",
       "</tr>\n",
       "<tr>\n",
       "  <th>Df Residuals:</th>          <td>   131</td>       <th>  BIC:               </th> <td>  -152.4</td>\n",
       "</tr>\n",
       "<tr>\n",
       "  <th>Df Model:</th>              <td>     1</td>       <th>                     </th>     <td> </td>   \n",
       "</tr>\n",
       "<tr>\n",
       "  <th>Covariance Type:</th>      <td>nonrobust</td>     <th>                     </th>     <td> </td>   \n",
       "</tr>\n",
       "</table>\n",
       "<table class=\"simpletable\">\n",
       "<tr>\n",
       "         <td></td>            <th>coef</th>     <th>std err</th>      <th>t</th>      <th>P>|t|</th>  <th>[0.025</th>    <th>0.975]</th>  \n",
       "</tr>\n",
       "<tr>\n",
       "  <th>Intercept</th>       <td>   -1.4708</td> <td>    0.372</td> <td>   -3.952</td> <td> 0.000</td> <td>   -2.207</td> <td>   -0.735</td>\n",
       "</tr>\n",
       "<tr>\n",
       "  <th>Time_in_bed_log</th> <td>    0.9532</td> <td>    0.062</td> <td>   15.429</td> <td> 0.000</td> <td>    0.831</td> <td>    1.075</td>\n",
       "</tr>\n",
       "</table>\n",
       "<table class=\"simpletable\">\n",
       "<tr>\n",
       "  <th>Omnibus:</th>       <td>146.888</td> <th>  Durbin-Watson:     </th> <td>   1.960</td>\n",
       "</tr>\n",
       "<tr>\n",
       "  <th>Prob(Omnibus):</th> <td> 0.000</td>  <th>  Jarque-Bera (JB):  </th> <td>2850.354</td>\n",
       "</tr>\n",
       "<tr>\n",
       "  <th>Skew:</th>          <td>-4.072</td>  <th>  Prob(JB):          </th> <td>    0.00</td>\n",
       "</tr>\n",
       "<tr>\n",
       "  <th>Kurtosis:</th>      <td>24.166</td>  <th>  Cond. No.          </th> <td>    201.</td>\n",
       "</tr>\n",
       "</table><br/><br/>Warnings:<br/>[1] Standard Errors assume that the covariance matrix of the errors is correctly specified."
      ],
      "text/plain": [
       "<class 'statsmodels.iolib.summary.Summary'>\n",
       "\"\"\"\n",
       "                            OLS Regression Results                            \n",
       "==============================================================================\n",
       "Dep. Variable:      Sleep_quality_log   R-squared:                       0.645\n",
       "Model:                            OLS   Adj. R-squared:                  0.642\n",
       "Method:                 Least Squares   F-statistic:                     238.1\n",
       "Date:                Sat, 13 Apr 2019   Prob (F-statistic):           2.96e-31\n",
       "Time:                        13:33:32   Log-Likelihood:                 81.097\n",
       "No. Observations:                 133   AIC:                            -158.2\n",
       "Df Residuals:                     131   BIC:                            -152.4\n",
       "Df Model:                           1                                         \n",
       "Covariance Type:            nonrobust                                         \n",
       "===================================================================================\n",
       "                      coef    std err          t      P>|t|      [0.025      0.975]\n",
       "-----------------------------------------------------------------------------------\n",
       "Intercept          -1.4708      0.372     -3.952      0.000      -2.207      -0.735\n",
       "Time_in_bed_log     0.9532      0.062     15.429      0.000       0.831       1.075\n",
       "==============================================================================\n",
       "Omnibus:                      146.888   Durbin-Watson:                   1.960\n",
       "Prob(Omnibus):                  0.000   Jarque-Bera (JB):             2850.354\n",
       "Skew:                          -4.072   Prob(JB):                         0.00\n",
       "Kurtosis:                      24.166   Cond. No.                         201.\n",
       "==============================================================================\n",
       "\n",
       "Warnings:\n",
       "[1] Standard Errors assume that the covariance matrix of the errors is correctly specified.\n",
       "\"\"\""
      ]
     },
     "execution_count": 41,
     "metadata": {},
     "output_type": "execute_result"
    }
   ],
   "source": [
    "# performing logged regression\n",
    "\n",
    "lr_model_reg = ols(formula='Sleep_quality_log~Time_in_bed_log', data=sub_logged).fit()\n",
    "lr_model_reg.summary()"
   ]
  },
  {
   "cell_type": "code",
   "execution_count": 42,
   "metadata": {},
   "outputs": [],
   "source": [
    "# residuals of logged model\n",
    "\n",
    "pred_val_log = lr_model_reg.fittedvalues.copy()\n",
    "true_val_log = sub_logged['Sleep_quality_log'].values.copy()\n",
    "residual_log = true_val_log - pred_val_log"
   ]
  },
  {
   "cell_type": "code",
   "execution_count": 43,
   "metadata": {},
   "outputs": [
    {
     "data": {
      "text/plain": [
       "<matplotlib.collections.PathCollection at 0x1a24736f60>"
      ]
     },
     "execution_count": 43,
     "metadata": {},
     "output_type": "execute_result"
    },
    {
     "data": {
      "image/png": "[encoded data removed]",
      "text/plain": [
       "<Figure size 432x180 with 1 Axes>"
      ]
     },
     "metadata": {
      "needs_background": "light"
     },
     "output_type": "display_data"
    }
   ],
   "source": [
    "# visualising logged residuals\n",
    "\n",
    "fig, ax = plt.subplots(figsize=(6,2.5))\n",
    "ax.scatter(sub_logged['Sleep_quality_log'],residual_log)"
   ]
  },
  {
   "cell_type": "code",
   "execution_count": 101,
   "metadata": {},
   "outputs": [
    {
     "data": {
      "text/plain": [
       "0.9523990893322951"
      ]
     },
     "execution_count": 101,
     "metadata": {},
     "output_type": "execute_result"
    },
    {
     "data": {
      "image/png": "[encoded data removed]",
      "text/plain": [
       "<Figure size 432x180 with 1 Axes>"
      ]
     },
     "metadata": {
      "needs_background": "light"
     },
     "output_type": "display_data"
    }
   ],
   "source": [
    "# checking for log normality - QQ plot \n",
    "\n",
    "fig, ax = plt.subplots(figsize=(6,2.5))\n",
    "sp.stats.probplot(residual_log, plot=ax, fit=True)\n",
    "#r**2\n",
    "0.9523990893322951\n",
    "\n",
    "# still not normal :("
   ]
  },
  {
   "cell_type": "code",
   "execution_count": null,
   "metadata": {},
   "outputs": [],
   "source": []
  }
 ],
 "metadata": {
  "kernelspec": {
   "display_name": "Python 3",
   "language": "python",
   "name": "python3"
  },
  "language_info": {
   "codemirror_mode": {
    "name": "ipython",
    "version": 3
   },
   "file_extension": ".py",
   "mimetype": "text/x-python",
   "name": "python",
   "nbconvert_exporter": "python",
   "pygments_lexer": "ipython3",
   "version": "3.7.1"
  }
 },
 "nbformat": 4,
 "nbformat_minor": 2
}
