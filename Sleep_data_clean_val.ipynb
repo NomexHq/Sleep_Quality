{
 "cells": [
  {
   "cell_type": "markdown",
   "metadata": {},
   "source": [
    "# Importing the libraries"
   ]
  },
  {
   "cell_type": "code",
   "execution_count": 1,
   "metadata": {},
   "outputs": [],
   "source": [
    "import pandas as pd\n",
    "from datetime import datetime\n",
    "import seaborn as sns\n",
    "import matplotlib.pyplot as plt\n",
    "import numpy as np\n",
    "import missingno as msno\n",
    "from statsmodels.formula.api import ols\n",
    "import statsmodels.api as sm\n",
    "import statsmodels.stats.api as sms\n",
    "import scipy\n",
    "from scipy import stats\n",
    "from scipy.stats import norm\n",
    "from scipy.stats import ttest_1samp\n",
    "%matplotlib inline"
   ]
  },
  {
   "cell_type": "markdown",
   "metadata": {},
   "source": [
    "# Loading and understanding data"
   ]
  },
  {
   "cell_type": "code",
   "execution_count": 2,
   "metadata": {},
   "outputs": [],
   "source": [
    "# loading the file\n",
    "\n",
    "data = pd.read_csv('sleepdata.csv', delimiter = ';')"
   ]
  },
  {
   "cell_type": "code",
   "execution_count": 3,
   "metadata": {},
   "outputs": [
    {
     "data": {
      "text/plain": [
       "(270, 8)"
      ]
     },
     "execution_count": 3,
     "metadata": {},
     "output_type": "execute_result"
    }
   ],
   "source": [
    "# checking the shape of dataframe\n",
    "\n",
    "data.shape"
   ]
  },
  {
   "cell_type": "code",
   "execution_count": 4,
   "metadata": {},
   "outputs": [
    {
     "data": {
      "text/html": [
       "<div>\n",
       "<style scoped>\n",
       "    .dataframe tbody tr th:only-of-type {\n",
       "        vertical-align: middle;\n",
       "    }\n",
       "\n",
       "    .dataframe tbody tr th {\n",
       "        vertical-align: top;\n",
       "    }\n",
       "\n",
       "    .dataframe thead th {\n",
       "        text-align: right;\n",
       "    }\n",
       "</style>\n",
       "<table border=\"1\" class=\"dataframe\">\n",
       "  <thead>\n",
       "    <tr style=\"text-align: right;\">\n",
       "      <th></th>\n",
       "      <th>Start</th>\n",
       "      <th>End</th>\n",
       "      <th>Sleep quality</th>\n",
       "      <th>Time in bed</th>\n",
       "      <th>Wake up</th>\n",
       "      <th>Sleep Notes</th>\n",
       "      <th>Heart rate</th>\n",
       "      <th>Activity (steps)</th>\n",
       "    </tr>\n",
       "  </thead>\n",
       "  <tbody>\n",
       "    <tr>\n",
       "      <th>0</th>\n",
       "      <td>2013-03-10 11:41:32</td>\n",
       "      <td>2013-03-10 17:33:33</td>\n",
       "      <td>63%</td>\n",
       "      <td>5:52</td>\n",
       "      <td>NaN</td>\n",
       "      <td>NaN</td>\n",
       "      <td>NaN</td>\n",
       "      <td>0</td>\n",
       "    </tr>\n",
       "    <tr>\n",
       "      <th>1</th>\n",
       "      <td>2013-03-11 10:09:53</td>\n",
       "      <td>2013-03-11 17:49:49</td>\n",
       "      <td>82%</td>\n",
       "      <td>7:39</td>\n",
       "      <td>NaN</td>\n",
       "      <td>NaN</td>\n",
       "      <td>NaN</td>\n",
       "      <td>0</td>\n",
       "    </tr>\n",
       "    <tr>\n",
       "      <th>2</th>\n",
       "      <td>2013-03-12 10:35:15</td>\n",
       "      <td>2013-03-12 10:51:50</td>\n",
       "      <td>3%</td>\n",
       "      <td>0:16</td>\n",
       "      <td>NaN</td>\n",
       "      <td>NaN</td>\n",
       "      <td>NaN</td>\n",
       "      <td>0</td>\n",
       "    </tr>\n",
       "    <tr>\n",
       "      <th>3</th>\n",
       "      <td>2013-03-12 11:08:14</td>\n",
       "      <td>2013-03-12 11:24:05</td>\n",
       "      <td>3%</td>\n",
       "      <td>0:15</td>\n",
       "      <td>NaN</td>\n",
       "      <td>NaN</td>\n",
       "      <td>NaN</td>\n",
       "      <td>0</td>\n",
       "    </tr>\n",
       "    <tr>\n",
       "      <th>4</th>\n",
       "      <td>2013-03-12 11:24:19</td>\n",
       "      <td>2013-03-12 17:53:05</td>\n",
       "      <td>69%</td>\n",
       "      <td>6:28</td>\n",
       "      <td>NaN</td>\n",
       "      <td>NaN</td>\n",
       "      <td>NaN</td>\n",
       "      <td>0</td>\n",
       "    </tr>\n",
       "  </tbody>\n",
       "</table>\n",
       "</div>"
      ],
      "text/plain": [
       "                 Start                  End Sleep quality Time in bed Wake up  \\\n",
       "0  2013-03-10 11:41:32  2013-03-10 17:33:33           63%        5:52     NaN   \n",
       "1  2013-03-11 10:09:53  2013-03-11 17:49:49           82%        7:39     NaN   \n",
       "2  2013-03-12 10:35:15  2013-03-12 10:51:50            3%        0:16     NaN   \n",
       "3  2013-03-12 11:08:14  2013-03-12 11:24:05            3%        0:15     NaN   \n",
       "4  2013-03-12 11:24:19  2013-03-12 17:53:05           69%        6:28     NaN   \n",
       "\n",
       "  Sleep Notes  Heart rate  Activity (steps)  \n",
       "0         NaN         NaN                 0  \n",
       "1         NaN         NaN                 0  \n",
       "2         NaN         NaN                 0  \n",
       "3         NaN         NaN                 0  \n",
       "4         NaN         NaN                 0  "
      ]
     },
     "execution_count": 4,
     "metadata": {},
     "output_type": "execute_result"
    }
   ],
   "source": [
    "# quick peek at the top 5 rows\n",
    "\n",
    "data.head()"
   ]
  },
  {
   "cell_type": "code",
   "execution_count": 5,
   "metadata": {},
   "outputs": [
    {
     "name": "stdout",
     "output_type": "stream",
     "text": [
      "<class 'pandas.core.frame.DataFrame'>\n",
      "RangeIndex: 270 entries, 0 to 269\n",
      "Data columns (total 8 columns):\n",
      "Start               270 non-null object\n",
      "End                 270 non-null object\n",
      "Sleep quality       270 non-null object\n",
      "Time in bed         270 non-null object\n",
      "Wake up             107 non-null object\n",
      "Sleep Notes         108 non-null object\n",
      "Heart rate          99 non-null float64\n",
      "Activity (steps)    270 non-null int64\n",
      "dtypes: float64(1), int64(1), object(6)\n",
      "memory usage: 17.0+ KB\n"
     ]
    }
   ],
   "source": [
    "# variables and their types\n",
    "\n",
    "data.info()"
   ]
  },
  {
   "cell_type": "markdown",
   "metadata": {},
   "source": [
    "# Cleaning and Validation"
   ]
  },
  {
   "cell_type": "code",
   "execution_count": 6,
   "metadata": {},
   "outputs": [
    {
     "data": {
      "text/html": [
       "<div>\n",
       "<style scoped>\n",
       "    .dataframe tbody tr th:only-of-type {\n",
       "        vertical-align: middle;\n",
       "    }\n",
       "\n",
       "    .dataframe tbody tr th {\n",
       "        vertical-align: top;\n",
       "    }\n",
       "\n",
       "    .dataframe thead th {\n",
       "        text-align: right;\n",
       "    }\n",
       "</style>\n",
       "<table border=\"1\" class=\"dataframe\">\n",
       "  <thead>\n",
       "    <tr style=\"text-align: right;\">\n",
       "      <th></th>\n",
       "      <th>Start</th>\n",
       "      <th>End</th>\n",
       "      <th>Sleep_quality</th>\n",
       "      <th>Time_in_bed</th>\n",
       "      <th>Wake_up</th>\n",
       "      <th>Sleep_Notes</th>\n",
       "      <th>Heart_rate</th>\n",
       "      <th>Activity_steps</th>\n",
       "    </tr>\n",
       "  </thead>\n",
       "  <tbody>\n",
       "    <tr>\n",
       "      <th>0</th>\n",
       "      <td>2013-03-10 11:41:32</td>\n",
       "      <td>2013-03-10 17:33:33</td>\n",
       "      <td>63%</td>\n",
       "      <td>5:52</td>\n",
       "      <td>NaN</td>\n",
       "      <td>NaN</td>\n",
       "      <td>NaN</td>\n",
       "      <td>0</td>\n",
       "    </tr>\n",
       "    <tr>\n",
       "      <th>1</th>\n",
       "      <td>2013-03-11 10:09:53</td>\n",
       "      <td>2013-03-11 17:49:49</td>\n",
       "      <td>82%</td>\n",
       "      <td>7:39</td>\n",
       "      <td>NaN</td>\n",
       "      <td>NaN</td>\n",
       "      <td>NaN</td>\n",
       "      <td>0</td>\n",
       "    </tr>\n",
       "    <tr>\n",
       "      <th>2</th>\n",
       "      <td>2013-03-12 10:35:15</td>\n",
       "      <td>2013-03-12 10:51:50</td>\n",
       "      <td>3%</td>\n",
       "      <td>0:16</td>\n",
       "      <td>NaN</td>\n",
       "      <td>NaN</td>\n",
       "      <td>NaN</td>\n",
       "      <td>0</td>\n",
       "    </tr>\n",
       "    <tr>\n",
       "      <th>3</th>\n",
       "      <td>2013-03-12 11:08:14</td>\n",
       "      <td>2013-03-12 11:24:05</td>\n",
       "      <td>3%</td>\n",
       "      <td>0:15</td>\n",
       "      <td>NaN</td>\n",
       "      <td>NaN</td>\n",
       "      <td>NaN</td>\n",
       "      <td>0</td>\n",
       "    </tr>\n",
       "    <tr>\n",
       "      <th>4</th>\n",
       "      <td>2013-03-12 11:24:19</td>\n",
       "      <td>2013-03-12 17:53:05</td>\n",
       "      <td>69%</td>\n",
       "      <td>6:28</td>\n",
       "      <td>NaN</td>\n",
       "      <td>NaN</td>\n",
       "      <td>NaN</td>\n",
       "      <td>0</td>\n",
       "    </tr>\n",
       "  </tbody>\n",
       "</table>\n",
       "</div>"
      ],
      "text/plain": [
       "                 Start                  End Sleep_quality Time_in_bed Wake_up  \\\n",
       "0  2013-03-10 11:41:32  2013-03-10 17:33:33           63%        5:52     NaN   \n",
       "1  2013-03-11 10:09:53  2013-03-11 17:49:49           82%        7:39     NaN   \n",
       "2  2013-03-12 10:35:15  2013-03-12 10:51:50            3%        0:16     NaN   \n",
       "3  2013-03-12 11:08:14  2013-03-12 11:24:05            3%        0:15     NaN   \n",
       "4  2013-03-12 11:24:19  2013-03-12 17:53:05           69%        6:28     NaN   \n",
       "\n",
       "  Sleep_Notes  Heart_rate  Activity_steps  \n",
       "0         NaN         NaN               0  \n",
       "1         NaN         NaN               0  \n",
       "2         NaN         NaN               0  \n",
       "3         NaN         NaN               0  \n",
       "4         NaN         NaN               0  "
      ]
     },
     "execution_count": 6,
     "metadata": {},
     "output_type": "execute_result"
    }
   ],
   "source": [
    "# removing spaces from the column names\n",
    "\n",
    "data.rename(\n",
    "  columns={\n",
    "    'Sleep quality' : 'Sleep_quality',\n",
    "    'Time in bed' : 'Time_in_bed',\n",
    "    'Wake up' : 'Wake_up',\n",
    "    'Sleep Notes' : 'Sleep_Notes',\n",
    "    'Heart rate' : 'Heart_rate',\n",
    "    'Activity (steps)' : 'Activity_steps',  \n",
    "  },\n",
    "  inplace=True\n",
    ")\n",
    "data.head()"
   ]
  },
  {
   "cell_type": "code",
   "execution_count": 7,
   "metadata": {},
   "outputs": [
    {
     "data": {
      "text/plain": [
       "(270, 7)"
      ]
     },
     "execution_count": 7,
     "metadata": {},
     "output_type": "execute_result"
    }
   ],
   "source": [
    "# removing unwanted columns\n",
    "\n",
    "df = data.drop(columns = ['Wake_up'])\n",
    "df.shape"
   ]
  },
  {
   "cell_type": "code",
   "execution_count": 8,
   "metadata": {},
   "outputs": [
    {
     "data": {
      "image/png": "[encoded data removed]",
      "text/plain": [
       "<Figure size 1800x720 with 2 Axes>"
      ]
     },
     "metadata": {
      "needs_background": "light"
     },
     "output_type": "display_data"
    }
   ],
   "source": [
    "# cheking for missing data\n",
    "\n",
    "msno.matrix(df);\n",
    "\n",
    "# sleep_notes and heart-rate columns are missing values"
   ]
  },
  {
   "cell_type": "code",
   "execution_count": 9,
   "metadata": {},
   "outputs": [
    {
     "name": "stdout",
     "output_type": "stream",
     "text": [
      "(135, 7)\n"
     ]
    },
    {
     "data": {
      "text/html": [
       "<div>\n",
       "<style scoped>\n",
       "    .dataframe tbody tr th:only-of-type {\n",
       "        vertical-align: middle;\n",
       "    }\n",
       "\n",
       "    .dataframe tbody tr th {\n",
       "        vertical-align: top;\n",
       "    }\n",
       "\n",
       "    .dataframe thead th {\n",
       "        text-align: right;\n",
       "    }\n",
       "</style>\n",
       "<table border=\"1\" class=\"dataframe\">\n",
       "  <thead>\n",
       "    <tr style=\"text-align: right;\">\n",
       "      <th></th>\n",
       "      <th>Start</th>\n",
       "      <th>End</th>\n",
       "      <th>Sleep_quality</th>\n",
       "      <th>Time_in_bed</th>\n",
       "      <th>Sleep_Notes</th>\n",
       "      <th>Heart_rate</th>\n",
       "      <th>Activity_steps</th>\n",
       "    </tr>\n",
       "  </thead>\n",
       "  <tbody>\n",
       "    <tr>\n",
       "      <th>115</th>\n",
       "      <td>2016-11-17 11:34:54</td>\n",
       "      <td>2016-11-17 18:13:30</td>\n",
       "      <td>70%</td>\n",
       "      <td>6:38</td>\n",
       "      <td>NaN</td>\n",
       "      <td>58.0</td>\n",
       "      <td>10583</td>\n",
       "    </tr>\n",
       "    <tr>\n",
       "      <th>116</th>\n",
       "      <td>2016-11-18 10:22:23</td>\n",
       "      <td>2016-11-18 17:31:49</td>\n",
       "      <td>73%</td>\n",
       "      <td>7:09</td>\n",
       "      <td>Stressful day</td>\n",
       "      <td>52.0</td>\n",
       "      <td>16053</td>\n",
       "    </tr>\n",
       "    <tr>\n",
       "      <th>117</th>\n",
       "      <td>2016-11-19 11:20:36</td>\n",
       "      <td>2016-11-19 19:00:07</td>\n",
       "      <td>80%</td>\n",
       "      <td>7:39</td>\n",
       "      <td>NaN</td>\n",
       "      <td>97.0</td>\n",
       "      <td>8794</td>\n",
       "    </tr>\n",
       "    <tr>\n",
       "      <th>118</th>\n",
       "      <td>2016-11-20 10:51:09</td>\n",
       "      <td>2016-11-20 18:00:29</td>\n",
       "      <td>75%</td>\n",
       "      <td>7:09</td>\n",
       "      <td>NaN</td>\n",
       "      <td>77.0</td>\n",
       "      <td>2622</td>\n",
       "    </tr>\n",
       "    <tr>\n",
       "      <th>119</th>\n",
       "      <td>2016-11-21 09:42:40</td>\n",
       "      <td>2016-11-21 18:02:36</td>\n",
       "      <td>88%</td>\n",
       "      <td>8:19</td>\n",
       "      <td>Stressful day</td>\n",
       "      <td>54.0</td>\n",
       "      <td>11744</td>\n",
       "    </tr>\n",
       "  </tbody>\n",
       "</table>\n",
       "</div>"
      ],
      "text/plain": [
       "                   Start                  End Sleep_quality Time_in_bed  \\\n",
       "115  2016-11-17 11:34:54  2016-11-17 18:13:30           70%        6:38   \n",
       "116  2016-11-18 10:22:23  2016-11-18 17:31:49           73%        7:09   \n",
       "117  2016-11-19 11:20:36  2016-11-19 19:00:07           80%        7:39   \n",
       "118  2016-11-20 10:51:09  2016-11-20 18:00:29           75%        7:09   \n",
       "119  2016-11-21 09:42:40  2016-11-21 18:02:36           88%        8:19   \n",
       "\n",
       "       Sleep_Notes  Heart_rate  Activity_steps  \n",
       "115            NaN        58.0           10583  \n",
       "116  Stressful day        52.0           16053  \n",
       "117            NaN        97.0            8794  \n",
       "118            NaN        77.0            2622  \n",
       "119  Stressful day        54.0           11744  "
      ]
     },
     "execution_count": 9,
     "metadata": {},
     "output_type": "execute_result"
    }
   ],
   "source": [
    "# choosing only valid values in steps (min 1000 steps/day)\n",
    "\n",
    "df = df.loc[df[\"Activity_steps\"]>1000]\n",
    "print(df.shape)\n",
    "df.head()"
   ]
  },
  {
   "cell_type": "code",
   "execution_count": 10,
   "metadata": {},
   "outputs": [],
   "source": [
    "# removing the % sign and moving into numerical values for sleep_quality column\n",
    "\n",
    "df['Sleep_quality'] = [x.strip('\\%') for x in df['Sleep_quality']]\n",
    "df['Sleep_quality'] = pd.to_numeric(df['Sleep_quality'])"
   ]
  },
  {
   "cell_type": "code",
   "execution_count": 11,
   "metadata": {},
   "outputs": [
    {
     "name": "stdout",
     "output_type": "stream",
     "text": [
      "<class 'pandas.core.frame.DataFrame'>\n",
      "Int64Index: 135 entries, 115 to 269\n",
      "Data columns (total 7 columns):\n",
      "Start             135 non-null object\n",
      "End               135 non-null object\n",
      "Sleep_quality     135 non-null int64\n",
      "Time_in_bed       135 non-null object\n",
      "Sleep_Notes       96 non-null object\n",
      "Heart_rate        45 non-null float64\n",
      "Activity_steps    135 non-null int64\n",
      "dtypes: float64(1), int64(2), object(4)\n",
      "memory usage: 8.4+ KB\n"
     ]
    }
   ],
   "source": [
    "df.info()"
   ]
  },
  {
   "cell_type": "code",
   "execution_count": 12,
   "metadata": {},
   "outputs": [
    {
     "data": {
      "text/html": [
       "<div>\n",
       "<style scoped>\n",
       "    .dataframe tbody tr th:only-of-type {\n",
       "        vertical-align: middle;\n",
       "    }\n",
       "\n",
       "    .dataframe tbody tr th {\n",
       "        vertical-align: top;\n",
       "    }\n",
       "\n",
       "    .dataframe thead th {\n",
       "        text-align: right;\n",
       "    }\n",
       "</style>\n",
       "<table border=\"1\" class=\"dataframe\">\n",
       "  <thead>\n",
       "    <tr style=\"text-align: right;\">\n",
       "      <th></th>\n",
       "      <th>Start</th>\n",
       "      <th>End</th>\n",
       "      <th>Sleep_quality</th>\n",
       "      <th>Time_in_bed</th>\n",
       "      <th>Sleep_Notes</th>\n",
       "      <th>Heart_rate</th>\n",
       "      <th>Activity_steps</th>\n",
       "    </tr>\n",
       "  </thead>\n",
       "  <tbody>\n",
       "    <tr>\n",
       "      <th>115</th>\n",
       "      <td>2016-11-17 11:34:54</td>\n",
       "      <td>2016-11-17 18:13:30</td>\n",
       "      <td>70</td>\n",
       "      <td>398</td>\n",
       "      <td>NaN</td>\n",
       "      <td>58.0</td>\n",
       "      <td>10583</td>\n",
       "    </tr>\n",
       "    <tr>\n",
       "      <th>116</th>\n",
       "      <td>2016-11-18 10:22:23</td>\n",
       "      <td>2016-11-18 17:31:49</td>\n",
       "      <td>73</td>\n",
       "      <td>429</td>\n",
       "      <td>Stressful day</td>\n",
       "      <td>52.0</td>\n",
       "      <td>16053</td>\n",
       "    </tr>\n",
       "    <tr>\n",
       "      <th>117</th>\n",
       "      <td>2016-11-19 11:20:36</td>\n",
       "      <td>2016-11-19 19:00:07</td>\n",
       "      <td>80</td>\n",
       "      <td>459</td>\n",
       "      <td>NaN</td>\n",
       "      <td>97.0</td>\n",
       "      <td>8794</td>\n",
       "    </tr>\n",
       "    <tr>\n",
       "      <th>118</th>\n",
       "      <td>2016-11-20 10:51:09</td>\n",
       "      <td>2016-11-20 18:00:29</td>\n",
       "      <td>75</td>\n",
       "      <td>429</td>\n",
       "      <td>NaN</td>\n",
       "      <td>77.0</td>\n",
       "      <td>2622</td>\n",
       "    </tr>\n",
       "    <tr>\n",
       "      <th>119</th>\n",
       "      <td>2016-11-21 09:42:40</td>\n",
       "      <td>2016-11-21 18:02:36</td>\n",
       "      <td>88</td>\n",
       "      <td>499</td>\n",
       "      <td>Stressful day</td>\n",
       "      <td>54.0</td>\n",
       "      <td>11744</td>\n",
       "    </tr>\n",
       "  </tbody>\n",
       "</table>\n",
       "</div>"
      ],
      "text/plain": [
       "                   Start                  End  Sleep_quality  Time_in_bed  \\\n",
       "115  2016-11-17 11:34:54  2016-11-17 18:13:30             70          398   \n",
       "116  2016-11-18 10:22:23  2016-11-18 17:31:49             73          429   \n",
       "117  2016-11-19 11:20:36  2016-11-19 19:00:07             80          459   \n",
       "118  2016-11-20 10:51:09  2016-11-20 18:00:29             75          429   \n",
       "119  2016-11-21 09:42:40  2016-11-21 18:02:36             88          499   \n",
       "\n",
       "       Sleep_Notes  Heart_rate  Activity_steps  \n",
       "115            NaN        58.0           10583  \n",
       "116  Stressful day        52.0           16053  \n",
       "117            NaN        97.0            8794  \n",
       "118            NaN        77.0            2622  \n",
       "119  Stressful day        54.0           11744  "
      ]
     },
     "execution_count": 12,
     "metadata": {},
     "output_type": "execute_result"
    }
   ],
   "source": [
    "# transforming the time in bed column into minutes\n",
    "\n",
    "df['Time_in_bed'] = df['Time_in_bed'].str.split(':').apply(lambda x: int(x[0]) * 60 + int(x[1]))\n",
    "df.head()"
   ]
  },
  {
   "cell_type": "code",
   "execution_count": 13,
   "metadata": {},
   "outputs": [
    {
     "data": {
      "text/plain": [
       "(133, 7)"
      ]
     },
     "execution_count": 13,
     "metadata": {},
     "output_type": "execute_result"
    }
   ],
   "source": [
    "# removing non-informative values for sleep quality\n",
    "\n",
    "df = df.loc[df[\"Sleep_quality\"]>10]\n",
    "df.shape"
   ]
  },
  {
   "cell_type": "code",
   "execution_count": 14,
   "metadata": {},
   "outputs": [
    {
     "data": {
      "text/html": [
       "<div>\n",
       "<style scoped>\n",
       "    .dataframe tbody tr th:only-of-type {\n",
       "        vertical-align: middle;\n",
       "    }\n",
       "\n",
       "    .dataframe tbody tr th {\n",
       "        vertical-align: top;\n",
       "    }\n",
       "\n",
       "    .dataframe thead th {\n",
       "        text-align: right;\n",
       "    }\n",
       "</style>\n",
       "<table border=\"1\" class=\"dataframe\">\n",
       "  <thead>\n",
       "    <tr style=\"text-align: right;\">\n",
       "      <th></th>\n",
       "      <th>Start</th>\n",
       "      <th>End</th>\n",
       "      <th>Sleep_quality</th>\n",
       "      <th>Time_in_bed</th>\n",
       "      <th>Sleep_Notes</th>\n",
       "      <th>Heart_rate</th>\n",
       "      <th>Activity_steps</th>\n",
       "      <th>Start_date</th>\n",
       "      <th>Start_time</th>\n",
       "    </tr>\n",
       "  </thead>\n",
       "  <tbody>\n",
       "    <tr>\n",
       "      <th>115</th>\n",
       "      <td>2016-11-17 11:34:54</td>\n",
       "      <td>2016-11-17 18:13:30</td>\n",
       "      <td>70</td>\n",
       "      <td>398</td>\n",
       "      <td>NaN</td>\n",
       "      <td>58.0</td>\n",
       "      <td>10583</td>\n",
       "      <td>2016-11-17</td>\n",
       "      <td>11:34:54</td>\n",
       "    </tr>\n",
       "    <tr>\n",
       "      <th>116</th>\n",
       "      <td>2016-11-18 10:22:23</td>\n",
       "      <td>2016-11-18 17:31:49</td>\n",
       "      <td>73</td>\n",
       "      <td>429</td>\n",
       "      <td>Stressful day</td>\n",
       "      <td>52.0</td>\n",
       "      <td>16053</td>\n",
       "      <td>2016-11-18</td>\n",
       "      <td>10:22:23</td>\n",
       "    </tr>\n",
       "    <tr>\n",
       "      <th>117</th>\n",
       "      <td>2016-11-19 11:20:36</td>\n",
       "      <td>2016-11-19 19:00:07</td>\n",
       "      <td>80</td>\n",
       "      <td>459</td>\n",
       "      <td>NaN</td>\n",
       "      <td>97.0</td>\n",
       "      <td>8794</td>\n",
       "      <td>2016-11-19</td>\n",
       "      <td>11:20:36</td>\n",
       "    </tr>\n",
       "    <tr>\n",
       "      <th>118</th>\n",
       "      <td>2016-11-20 10:51:09</td>\n",
       "      <td>2016-11-20 18:00:29</td>\n",
       "      <td>75</td>\n",
       "      <td>429</td>\n",
       "      <td>NaN</td>\n",
       "      <td>77.0</td>\n",
       "      <td>2622</td>\n",
       "      <td>2016-11-20</td>\n",
       "      <td>10:51:09</td>\n",
       "    </tr>\n",
       "    <tr>\n",
       "      <th>119</th>\n",
       "      <td>2016-11-21 09:42:40</td>\n",
       "      <td>2016-11-21 18:02:36</td>\n",
       "      <td>88</td>\n",
       "      <td>499</td>\n",
       "      <td>Stressful day</td>\n",
       "      <td>54.0</td>\n",
       "      <td>11744</td>\n",
       "      <td>2016-11-21</td>\n",
       "      <td>09:42:40</td>\n",
       "    </tr>\n",
       "  </tbody>\n",
       "</table>\n",
       "</div>"
      ],
      "text/plain": [
       "                   Start                  End  Sleep_quality  Time_in_bed  \\\n",
       "115  2016-11-17 11:34:54  2016-11-17 18:13:30             70          398   \n",
       "116  2016-11-18 10:22:23  2016-11-18 17:31:49             73          429   \n",
       "117  2016-11-19 11:20:36  2016-11-19 19:00:07             80          459   \n",
       "118  2016-11-20 10:51:09  2016-11-20 18:00:29             75          429   \n",
       "119  2016-11-21 09:42:40  2016-11-21 18:02:36             88          499   \n",
       "\n",
       "       Sleep_Notes  Heart_rate  Activity_steps  Start_date Start_time  \n",
       "115            NaN        58.0           10583  2016-11-17   11:34:54  \n",
       "116  Stressful day        52.0           16053  2016-11-18   10:22:23  \n",
       "117            NaN        97.0            8794  2016-11-19   11:20:36  \n",
       "118            NaN        77.0            2622  2016-11-20   10:51:09  \n",
       "119  Stressful day        54.0           11744  2016-11-21   09:42:40  "
      ]
     },
     "execution_count": 14,
     "metadata": {},
     "output_type": "execute_result"
    }
   ],
   "source": [
    "# sparating date and time into two separate columns\n",
    "\n",
    "df['Start_date'], df['Start_time'] = df['Start'].str.split(' ', 1).str\n",
    "\n",
    "df.head()"
   ]
  },
  {
   "cell_type": "code",
   "execution_count": 15,
   "metadata": {},
   "outputs": [
    {
     "data": {
      "text/html": [
       "<div>\n",
       "<style scoped>\n",
       "    .dataframe tbody tr th:only-of-type {\n",
       "        vertical-align: middle;\n",
       "    }\n",
       "\n",
       "    .dataframe tbody tr th {\n",
       "        vertical-align: top;\n",
       "    }\n",
       "\n",
       "    .dataframe thead th {\n",
       "        text-align: right;\n",
       "    }\n",
       "</style>\n",
       "<table border=\"1\" class=\"dataframe\">\n",
       "  <thead>\n",
       "    <tr style=\"text-align: right;\">\n",
       "      <th></th>\n",
       "      <th>Sleep_quality</th>\n",
       "      <th>Time_in_bed</th>\n",
       "      <th>Sleep_Notes</th>\n",
       "      <th>Heart_rate</th>\n",
       "      <th>Activity_steps</th>\n",
       "      <th>Start_date</th>\n",
       "      <th>Start_time</th>\n",
       "    </tr>\n",
       "  </thead>\n",
       "  <tbody>\n",
       "    <tr>\n",
       "      <th>115</th>\n",
       "      <td>70</td>\n",
       "      <td>398</td>\n",
       "      <td>NaN</td>\n",
       "      <td>58.0</td>\n",
       "      <td>10583</td>\n",
       "      <td>2016-11-17</td>\n",
       "      <td>11:34:54</td>\n",
       "    </tr>\n",
       "    <tr>\n",
       "      <th>116</th>\n",
       "      <td>73</td>\n",
       "      <td>429</td>\n",
       "      <td>Stressful day</td>\n",
       "      <td>52.0</td>\n",
       "      <td>16053</td>\n",
       "      <td>2016-11-18</td>\n",
       "      <td>10:22:23</td>\n",
       "    </tr>\n",
       "    <tr>\n",
       "      <th>117</th>\n",
       "      <td>80</td>\n",
       "      <td>459</td>\n",
       "      <td>NaN</td>\n",
       "      <td>97.0</td>\n",
       "      <td>8794</td>\n",
       "      <td>2016-11-19</td>\n",
       "      <td>11:20:36</td>\n",
       "    </tr>\n",
       "    <tr>\n",
       "      <th>118</th>\n",
       "      <td>75</td>\n",
       "      <td>429</td>\n",
       "      <td>NaN</td>\n",
       "      <td>77.0</td>\n",
       "      <td>2622</td>\n",
       "      <td>2016-11-20</td>\n",
       "      <td>10:51:09</td>\n",
       "    </tr>\n",
       "    <tr>\n",
       "      <th>119</th>\n",
       "      <td>88</td>\n",
       "      <td>499</td>\n",
       "      <td>Stressful day</td>\n",
       "      <td>54.0</td>\n",
       "      <td>11744</td>\n",
       "      <td>2016-11-21</td>\n",
       "      <td>09:42:40</td>\n",
       "    </tr>\n",
       "  </tbody>\n",
       "</table>\n",
       "</div>"
      ],
      "text/plain": [
       "     Sleep_quality  Time_in_bed    Sleep_Notes  Heart_rate  Activity_steps  \\\n",
       "115             70          398            NaN        58.0           10583   \n",
       "116             73          429  Stressful day        52.0           16053   \n",
       "117             80          459            NaN        97.0            8794   \n",
       "118             75          429            NaN        77.0            2622   \n",
       "119             88          499  Stressful day        54.0           11744   \n",
       "\n",
       "     Start_date Start_time  \n",
       "115  2016-11-17   11:34:54  \n",
       "116  2016-11-18   10:22:23  \n",
       "117  2016-11-19   11:20:36  \n",
       "118  2016-11-20   10:51:09  \n",
       "119  2016-11-21   09:42:40  "
      ]
     },
     "execution_count": 15,
     "metadata": {},
     "output_type": "execute_result"
    }
   ],
   "source": [
    "# removing the start and end columns\n",
    "\n",
    "df = df.drop([\"Start\", \"End\"], axis=1)\n",
    "df.head()"
   ]
  },
  {
   "cell_type": "code",
   "execution_count": 16,
   "metadata": {},
   "outputs": [],
   "source": [
    "# converting to_datetime format\n",
    "\n",
    "df.Start_date = pd.to_datetime(df.Start_date)"
   ]
  },
  {
   "cell_type": "code",
   "execution_count": 17,
   "metadata": {},
   "outputs": [
    {
     "data": {
      "text/html": [
       "<div>\n",
       "<style scoped>\n",
       "    .dataframe tbody tr th:only-of-type {\n",
       "        vertical-align: middle;\n",
       "    }\n",
       "\n",
       "    .dataframe tbody tr th {\n",
       "        vertical-align: top;\n",
       "    }\n",
       "\n",
       "    .dataframe thead th {\n",
       "        text-align: right;\n",
       "    }\n",
       "</style>\n",
       "<table border=\"1\" class=\"dataframe\">\n",
       "  <thead>\n",
       "    <tr style=\"text-align: right;\">\n",
       "      <th></th>\n",
       "      <th>Sleep_quality</th>\n",
       "      <th>Time_in_bed</th>\n",
       "      <th>Sleep_Notes</th>\n",
       "      <th>Heart_rate</th>\n",
       "      <th>Activity_steps</th>\n",
       "      <th>Start_date</th>\n",
       "      <th>Start_time</th>\n",
       "      <th>Start_Dayofweek</th>\n",
       "    </tr>\n",
       "  </thead>\n",
       "  <tbody>\n",
       "    <tr>\n",
       "      <th>115</th>\n",
       "      <td>70</td>\n",
       "      <td>398</td>\n",
       "      <td>NaN</td>\n",
       "      <td>58.0</td>\n",
       "      <td>10583</td>\n",
       "      <td>2016-11-17</td>\n",
       "      <td>11:34:54</td>\n",
       "      <td>Thursday</td>\n",
       "    </tr>\n",
       "    <tr>\n",
       "      <th>116</th>\n",
       "      <td>73</td>\n",
       "      <td>429</td>\n",
       "      <td>Stressful day</td>\n",
       "      <td>52.0</td>\n",
       "      <td>16053</td>\n",
       "      <td>2016-11-18</td>\n",
       "      <td>10:22:23</td>\n",
       "      <td>Friday</td>\n",
       "    </tr>\n",
       "    <tr>\n",
       "      <th>117</th>\n",
       "      <td>80</td>\n",
       "      <td>459</td>\n",
       "      <td>NaN</td>\n",
       "      <td>97.0</td>\n",
       "      <td>8794</td>\n",
       "      <td>2016-11-19</td>\n",
       "      <td>11:20:36</td>\n",
       "      <td>Saturday</td>\n",
       "    </tr>\n",
       "    <tr>\n",
       "      <th>118</th>\n",
       "      <td>75</td>\n",
       "      <td>429</td>\n",
       "      <td>NaN</td>\n",
       "      <td>77.0</td>\n",
       "      <td>2622</td>\n",
       "      <td>2016-11-20</td>\n",
       "      <td>10:51:09</td>\n",
       "      <td>Sunday</td>\n",
       "    </tr>\n",
       "    <tr>\n",
       "      <th>119</th>\n",
       "      <td>88</td>\n",
       "      <td>499</td>\n",
       "      <td>Stressful day</td>\n",
       "      <td>54.0</td>\n",
       "      <td>11744</td>\n",
       "      <td>2016-11-21</td>\n",
       "      <td>09:42:40</td>\n",
       "      <td>Monday</td>\n",
       "    </tr>\n",
       "  </tbody>\n",
       "</table>\n",
       "</div>"
      ],
      "text/plain": [
       "     Sleep_quality  Time_in_bed    Sleep_Notes  Heart_rate  Activity_steps  \\\n",
       "115             70          398            NaN        58.0           10583   \n",
       "116             73          429  Stressful day        52.0           16053   \n",
       "117             80          459            NaN        97.0            8794   \n",
       "118             75          429            NaN        77.0            2622   \n",
       "119             88          499  Stressful day        54.0           11744   \n",
       "\n",
       "    Start_date Start_time Start_Dayofweek  \n",
       "115 2016-11-17   11:34:54        Thursday  \n",
       "116 2016-11-18   10:22:23          Friday  \n",
       "117 2016-11-19   11:20:36        Saturday  \n",
       "118 2016-11-20   10:51:09          Sunday  \n",
       "119 2016-11-21   09:42:40          Monday  "
      ]
     },
     "execution_count": 17,
     "metadata": {},
     "output_type": "execute_result"
    }
   ],
   "source": [
    "# adding Dayofweek column\n",
    "\n",
    "df['Start_Dayofweek'] = df.Start_date.dt.day_name()\n",
    "df.head()"
   ]
  },
  {
   "cell_type": "code",
   "execution_count": 18,
   "metadata": {},
   "outputs": [
    {
     "data": {
      "text/html": [
       "<div>\n",
       "<style scoped>\n",
       "    .dataframe tbody tr th:only-of-type {\n",
       "        vertical-align: middle;\n",
       "    }\n",
       "\n",
       "    .dataframe tbody tr th {\n",
       "        vertical-align: top;\n",
       "    }\n",
       "\n",
       "    .dataframe thead th {\n",
       "        text-align: right;\n",
       "    }\n",
       "</style>\n",
       "<table border=\"1\" class=\"dataframe\">\n",
       "  <thead>\n",
       "    <tr style=\"text-align: right;\">\n",
       "      <th></th>\n",
       "      <th>Sleep_quality</th>\n",
       "      <th>Time_in_bed</th>\n",
       "      <th>Sleep_Notes</th>\n",
       "      <th>Heart_rate</th>\n",
       "      <th>Activity_steps</th>\n",
       "      <th>Start_date</th>\n",
       "      <th>Start_time</th>\n",
       "      <th>Start_Dayofweek</th>\n",
       "    </tr>\n",
       "  </thead>\n",
       "  <tbody>\n",
       "    <tr>\n",
       "      <th>115</th>\n",
       "      <td>70</td>\n",
       "      <td>398</td>\n",
       "      <td>NaN</td>\n",
       "      <td>58.0</td>\n",
       "      <td>10583</td>\n",
       "      <td>2016-11-17</td>\n",
       "      <td>11</td>\n",
       "      <td>Thursday</td>\n",
       "    </tr>\n",
       "    <tr>\n",
       "      <th>116</th>\n",
       "      <td>73</td>\n",
       "      <td>429</td>\n",
       "      <td>Stressful day</td>\n",
       "      <td>52.0</td>\n",
       "      <td>16053</td>\n",
       "      <td>2016-11-18</td>\n",
       "      <td>10</td>\n",
       "      <td>Friday</td>\n",
       "    </tr>\n",
       "    <tr>\n",
       "      <th>117</th>\n",
       "      <td>80</td>\n",
       "      <td>459</td>\n",
       "      <td>NaN</td>\n",
       "      <td>97.0</td>\n",
       "      <td>8794</td>\n",
       "      <td>2016-11-19</td>\n",
       "      <td>11</td>\n",
       "      <td>Saturday</td>\n",
       "    </tr>\n",
       "    <tr>\n",
       "      <th>118</th>\n",
       "      <td>75</td>\n",
       "      <td>429</td>\n",
       "      <td>NaN</td>\n",
       "      <td>77.0</td>\n",
       "      <td>2622</td>\n",
       "      <td>2016-11-20</td>\n",
       "      <td>10</td>\n",
       "      <td>Sunday</td>\n",
       "    </tr>\n",
       "    <tr>\n",
       "      <th>119</th>\n",
       "      <td>88</td>\n",
       "      <td>499</td>\n",
       "      <td>Stressful day</td>\n",
       "      <td>54.0</td>\n",
       "      <td>11744</td>\n",
       "      <td>2016-11-21</td>\n",
       "      <td>9</td>\n",
       "      <td>Monday</td>\n",
       "    </tr>\n",
       "  </tbody>\n",
       "</table>\n",
       "</div>"
      ],
      "text/plain": [
       "     Sleep_quality  Time_in_bed    Sleep_Notes  Heart_rate  Activity_steps  \\\n",
       "115             70          398            NaN        58.0           10583   \n",
       "116             73          429  Stressful day        52.0           16053   \n",
       "117             80          459            NaN        97.0            8794   \n",
       "118             75          429            NaN        77.0            2622   \n",
       "119             88          499  Stressful day        54.0           11744   \n",
       "\n",
       "    Start_date  Start_time Start_Dayofweek  \n",
       "115 2016-11-17          11        Thursday  \n",
       "116 2016-11-18          10          Friday  \n",
       "117 2016-11-19          11        Saturday  \n",
       "118 2016-11-20          10          Sunday  \n",
       "119 2016-11-21           9          Monday  "
      ]
     },
     "execution_count": 18,
     "metadata": {},
     "output_type": "execute_result"
    }
   ],
   "source": [
    "# cleaning the start_time column values\n",
    "\n",
    "df.Start_time = df.Start_time.map(lambda x: str(x)[:2])\n",
    "df[\"Start_time\"] = pd.to_numeric(df[\"Start_time\"])\n",
    "df.head()"
   ]
  },
  {
   "cell_type": "code",
   "execution_count": 19,
   "metadata": {},
   "outputs": [
    {
     "data": {
      "text/plain": [
       "Index(['Sleep_Notes'], dtype='object')"
      ]
     },
     "execution_count": 19,
     "metadata": {},
     "output_type": "execute_result"
    }
   ],
   "source": [
    "# separating the notes column to crrate dummy variables\n",
    "\n",
    "data_dummy_column=df[['Sleep_Notes']]\n",
    "data_dummy_column.columns"
   ]
  },
  {
   "cell_type": "code",
   "execution_count": 20,
   "metadata": {},
   "outputs": [
    {
     "name": "stderr",
     "output_type": "stream",
     "text": [
      "/anaconda3/lib/python3.7/site-packages/ipykernel_launcher.py:1: SettingWithCopyWarning: \n",
      "A value is trying to be set on a copy of a slice from a DataFrame.\n",
      "Try using .loc[row_indexer,col_indexer] = value instead\n",
      "\n",
      "See the caveats in the documentation: http://pandas.pydata.org/pandas-docs/stable/indexing.html#indexing-view-versus-copy\n",
      "  \"\"\"Entry point for launching an IPython kernel.\n"
     ]
    }
   ],
   "source": [
    "data_dummy_column['Sleep_Notes'] = data_dummy_column['Sleep_Notes'].fillna(0)"
   ]
  },
  {
   "cell_type": "code",
   "execution_count": 21,
   "metadata": {},
   "outputs": [
    {
     "data": {
      "text/html": [
       "<div>\n",
       "<style scoped>\n",
       "    .dataframe tbody tr th:only-of-type {\n",
       "        vertical-align: middle;\n",
       "    }\n",
       "\n",
       "    .dataframe tbody tr th {\n",
       "        vertical-align: top;\n",
       "    }\n",
       "\n",
       "    .dataframe thead th {\n",
       "        text-align: right;\n",
       "    }\n",
       "</style>\n",
       "<table border=\"1\" class=\"dataframe\">\n",
       "  <thead>\n",
       "    <tr style=\"text-align: right;\">\n",
       "      <th></th>\n",
       "      <th>0</th>\n",
       "      <th>Ate late</th>\n",
       "      <th>Drank coffee</th>\n",
       "      <th>Drank tea</th>\n",
       "      <th>Stressful day</th>\n",
       "      <th>Worked out</th>\n",
       "    </tr>\n",
       "  </thead>\n",
       "  <tbody>\n",
       "    <tr>\n",
       "      <th>115</th>\n",
       "      <td>1</td>\n",
       "      <td>0</td>\n",
       "      <td>0</td>\n",
       "      <td>0</td>\n",
       "      <td>0</td>\n",
       "      <td>0</td>\n",
       "    </tr>\n",
       "    <tr>\n",
       "      <th>116</th>\n",
       "      <td>0</td>\n",
       "      <td>0</td>\n",
       "      <td>0</td>\n",
       "      <td>0</td>\n",
       "      <td>1</td>\n",
       "      <td>0</td>\n",
       "    </tr>\n",
       "    <tr>\n",
       "      <th>117</th>\n",
       "      <td>1</td>\n",
       "      <td>0</td>\n",
       "      <td>0</td>\n",
       "      <td>0</td>\n",
       "      <td>0</td>\n",
       "      <td>0</td>\n",
       "    </tr>\n",
       "    <tr>\n",
       "      <th>118</th>\n",
       "      <td>1</td>\n",
       "      <td>0</td>\n",
       "      <td>0</td>\n",
       "      <td>0</td>\n",
       "      <td>0</td>\n",
       "      <td>0</td>\n",
       "    </tr>\n",
       "    <tr>\n",
       "      <th>119</th>\n",
       "      <td>0</td>\n",
       "      <td>0</td>\n",
       "      <td>0</td>\n",
       "      <td>0</td>\n",
       "      <td>1</td>\n",
       "      <td>0</td>\n",
       "    </tr>\n",
       "  </tbody>\n",
       "</table>\n",
       "</div>"
      ],
      "text/plain": [
       "     0  Ate late  Drank coffee  Drank tea  Stressful day  Worked out\n",
       "115  1         0             0          0              0           0\n",
       "116  0         0             0          0              1           0\n",
       "117  1         0             0          0              0           0\n",
       "118  1         0             0          0              0           0\n",
       "119  0         0             0          0              1           0"
      ]
     },
     "execution_count": 21,
     "metadata": {},
     "output_type": "execute_result"
    }
   ],
   "source": [
    "#creating dummie variables\n",
    "\n",
    "dummies = data_dummy_column['Sleep_Notes'].str.get_dummies(sep=':')\n",
    "dummies.head()"
   ]
  },
  {
   "cell_type": "code",
   "execution_count": 22,
   "metadata": {},
   "outputs": [
    {
     "data": {
      "text/plain": [
       "Index(['Sleep_quality', 'Time_in_bed', 'Sleep_Notes', 'Heart_rate',\n",
       "       'Activity_steps', 'Start_date', 'Start_time', 'Start_Dayofweek', '0',\n",
       "       'Ate late', 'Drank coffee', 'Drank tea', 'Stressful day', 'Worked out'],\n",
       "      dtype='object')"
      ]
     },
     "execution_count": 22,
     "metadata": {},
     "output_type": "execute_result"
    }
   ],
   "source": [
    "# adding dummies to the main dataframe and creating the final version\n",
    "\n",
    "df_full = df.join(dummies)\n",
    "df_full.columns"
   ]
  },
  {
   "cell_type": "code",
   "execution_count": 23,
   "metadata": {},
   "outputs": [
    {
     "data": {
      "image/png": "[encoded data removed]",
      "text/plain": [
       "<Figure size 1800x720 with 2 Axes>"
      ]
     },
     "metadata": {
      "needs_background": "light"
     },
     "output_type": "display_data"
    }
   ],
   "source": [
    "# assessing missing values in the full dataframe\n",
    "\n",
    "msno.matrix(df_full);"
   ]
  },
  {
   "cell_type": "code",
   "execution_count": 24,
   "metadata": {
    "scrolled": false
   },
   "outputs": [],
   "source": [
    "# removing the certain columns since their entries are not informative; also removing 0 column \n",
    "\n",
    "df_full= df_full.drop([ '0', 'Drank tea', 'Sleep_Notes', 'Heart_rate'], axis=1)             "
   ]
  },
  {
   "cell_type": "code",
   "execution_count": 25,
   "metadata": {},
   "outputs": [
    {
     "data": {
      "text/html": [
       "<div>\n",
       "<style scoped>\n",
       "    .dataframe tbody tr th:only-of-type {\n",
       "        vertical-align: middle;\n",
       "    }\n",
       "\n",
       "    .dataframe tbody tr th {\n",
       "        vertical-align: top;\n",
       "    }\n",
       "\n",
       "    .dataframe thead th {\n",
       "        text-align: right;\n",
       "    }\n",
       "</style>\n",
       "<table border=\"1\" class=\"dataframe\">\n",
       "  <thead>\n",
       "    <tr style=\"text-align: right;\">\n",
       "      <th></th>\n",
       "      <th>Sleep_quality</th>\n",
       "      <th>Time_in_bed</th>\n",
       "      <th>Activity_steps</th>\n",
       "      <th>Start_date</th>\n",
       "      <th>Start_time</th>\n",
       "      <th>Start_Dayofweek</th>\n",
       "      <th>Ate late</th>\n",
       "      <th>Drank coffee</th>\n",
       "      <th>Stressful day</th>\n",
       "      <th>Worked out</th>\n",
       "    </tr>\n",
       "  </thead>\n",
       "  <tbody>\n",
       "    <tr>\n",
       "      <th>115</th>\n",
       "      <td>70</td>\n",
       "      <td>398</td>\n",
       "      <td>10583</td>\n",
       "      <td>2016-11-17</td>\n",
       "      <td>11</td>\n",
       "      <td>Thursday</td>\n",
       "      <td>0</td>\n",
       "      <td>0</td>\n",
       "      <td>0</td>\n",
       "      <td>0</td>\n",
       "    </tr>\n",
       "    <tr>\n",
       "      <th>116</th>\n",
       "      <td>73</td>\n",
       "      <td>429</td>\n",
       "      <td>16053</td>\n",
       "      <td>2016-11-18</td>\n",
       "      <td>10</td>\n",
       "      <td>Friday</td>\n",
       "      <td>0</td>\n",
       "      <td>0</td>\n",
       "      <td>1</td>\n",
       "      <td>0</td>\n",
       "    </tr>\n",
       "    <tr>\n",
       "      <th>117</th>\n",
       "      <td>80</td>\n",
       "      <td>459</td>\n",
       "      <td>8794</td>\n",
       "      <td>2016-11-19</td>\n",
       "      <td>11</td>\n",
       "      <td>Saturday</td>\n",
       "      <td>0</td>\n",
       "      <td>0</td>\n",
       "      <td>0</td>\n",
       "      <td>0</td>\n",
       "    </tr>\n",
       "    <tr>\n",
       "      <th>118</th>\n",
       "      <td>75</td>\n",
       "      <td>429</td>\n",
       "      <td>2622</td>\n",
       "      <td>2016-11-20</td>\n",
       "      <td>10</td>\n",
       "      <td>Sunday</td>\n",
       "      <td>0</td>\n",
       "      <td>0</td>\n",
       "      <td>0</td>\n",
       "      <td>0</td>\n",
       "    </tr>\n",
       "    <tr>\n",
       "      <th>119</th>\n",
       "      <td>88</td>\n",
       "      <td>499</td>\n",
       "      <td>11744</td>\n",
       "      <td>2016-11-21</td>\n",
       "      <td>9</td>\n",
       "      <td>Monday</td>\n",
       "      <td>0</td>\n",
       "      <td>0</td>\n",
       "      <td>1</td>\n",
       "      <td>0</td>\n",
       "    </tr>\n",
       "  </tbody>\n",
       "</table>\n",
       "</div>"
      ],
      "text/plain": [
       "     Sleep_quality  Time_in_bed  Activity_steps Start_date  Start_time  \\\n",
       "115             70          398           10583 2016-11-17          11   \n",
       "116             73          429           16053 2016-11-18          10   \n",
       "117             80          459            8794 2016-11-19          11   \n",
       "118             75          429            2622 2016-11-20          10   \n",
       "119             88          499           11744 2016-11-21           9   \n",
       "\n",
       "    Start_Dayofweek  Ate late  Drank coffee  Stressful day  Worked out  \n",
       "115        Thursday         0             0              0           0  \n",
       "116          Friday         0             0              1           0  \n",
       "117        Saturday         0             0              0           0  \n",
       "118          Sunday         0             0              0           0  \n",
       "119          Monday         0             0              1           0  "
      ]
     },
     "execution_count": 25,
     "metadata": {},
     "output_type": "execute_result"
    }
   ],
   "source": [
    "df_full.head() "
   ]
  },
  {
   "cell_type": "code",
   "execution_count": 26,
   "metadata": {
    "scrolled": true
   },
   "outputs": [
    {
     "name": "stdout",
     "output_type": "stream",
     "text": [
      "<class 'pandas.core.frame.DataFrame'>\n",
      "Int64Index: 133 entries, 115 to 269\n",
      "Data columns (total 10 columns):\n",
      "Sleep_quality      133 non-null int64\n",
      "Time_in_bed        133 non-null int64\n",
      "Activity_steps     133 non-null int64\n",
      "Start_date         133 non-null datetime64[ns]\n",
      "Start_time         133 non-null int64\n",
      "Start_Dayofweek    133 non-null object\n",
      "Ate_late           133 non-null int64\n",
      "Drank_coffee       133 non-null int64\n",
      "Stressful_day      133 non-null int64\n",
      "Worked_out         133 non-null int64\n",
      "dtypes: datetime64[ns](1), int64(8), object(1)\n",
      "memory usage: 11.4+ KB\n"
     ]
    }
   ],
   "source": [
    "# removing the spaces from the new column names\n",
    "\n",
    "df_full.rename(\n",
    "  columns={\n",
    "    'Ate late' : 'Ate_late',\n",
    "    'Drank coffee' : 'Drank_coffee',\n",
    "    'Drank tea': 'Drank_tea',\n",
    "    'Stressful day': 'Stressful_day',\n",
    "    'Worked out': 'Worked_out'  \n",
    "  },\n",
    "  inplace=True\n",
    ")\n",
    "df_full.info()"
   ]
  },
  {
   "cell_type": "code",
   "execution_count": 27,
   "metadata": {},
   "outputs": [],
   "source": [
    "# checking if stress column contains enough data for analysis\n",
    "\n",
    "stress = df_full.Stressful_day"
   ]
  },
  {
   "cell_type": "code",
   "execution_count": 28,
   "metadata": {},
   "outputs": [
    {
     "data": {
      "text/plain": [
       "0    83\n",
       "1    50\n",
       "Name: Stressful_day, dtype: int64"
      ]
     },
     "execution_count": 28,
     "metadata": {},
     "output_type": "execute_result"
    }
   ],
   "source": [
    "stress.value_counts().sort_index()   # looks ok"
   ]
  },
  {
   "cell_type": "code",
   "execution_count": 29,
   "metadata": {},
   "outputs": [],
   "source": [
    "# checking if coffee column contain enough data for analysis\n",
    "\n",
    "coffee = df_full.Drank_coffee"
   ]
  },
  {
   "cell_type": "code",
   "execution_count": 30,
   "metadata": {
    "scrolled": true
   },
   "outputs": [
    {
     "data": {
      "text/plain": [
       "0    80\n",
       "1    53\n",
       "Name: Drank_coffee, dtype: int64"
      ]
     },
     "execution_count": 30,
     "metadata": {},
     "output_type": "execute_result"
    }
   ],
   "source": [
    "coffee.value_counts().sort_index()   # looks ok"
   ]
  },
  {
   "cell_type": "code",
   "execution_count": 31,
   "metadata": {},
   "outputs": [],
   "source": [
    "# checking if ate alte column contain enough data for analysis\n",
    "\n",
    "food = df_full.Ate_late"
   ]
  },
  {
   "cell_type": "code",
   "execution_count": 32,
   "metadata": {},
   "outputs": [
    {
     "data": {
      "text/plain": [
       "0    115\n",
       "1     18\n",
       "Name: Ate_late, dtype: int64"
      ]
     },
     "execution_count": 32,
     "metadata": {},
     "output_type": "execute_result"
    }
   ],
   "source": [
    "food.value_counts().sort_index()   # small ammount of occurences can affect the regression"
   ]
  },
  {
   "cell_type": "code",
   "execution_count": 33,
   "metadata": {},
   "outputs": [],
   "source": [
    "exercise = df_full['Worked_out']"
   ]
  },
  {
   "cell_type": "code",
   "execution_count": 34,
   "metadata": {},
   "outputs": [
    {
     "data": {
      "text/plain": [
       "0    121\n",
       "1     12\n",
       "Name: Worked_out, dtype: int64"
      ]
     },
     "execution_count": 34,
     "metadata": {},
     "output_type": "execute_result"
    }
   ],
   "source": [
    "exercise.value_counts().sort_index()"
   ]
  },
  {
   "cell_type": "code",
   "execution_count": 35,
   "metadata": {},
   "outputs": [
    {
     "data": {
      "text/html": [
       "<div>\n",
       "<style scoped>\n",
       "    .dataframe tbody tr th:only-of-type {\n",
       "        vertical-align: middle;\n",
       "    }\n",
       "\n",
       "    .dataframe tbody tr th {\n",
       "        vertical-align: top;\n",
       "    }\n",
       "\n",
       "    .dataframe thead th {\n",
       "        text-align: right;\n",
       "    }\n",
       "</style>\n",
       "<table border=\"1\" class=\"dataframe\">\n",
       "  <thead>\n",
       "    <tr style=\"text-align: right;\">\n",
       "      <th></th>\n",
       "      <th>Sleep_quality</th>\n",
       "      <th>Time_in_bed</th>\n",
       "      <th>Activity_steps</th>\n",
       "      <th>Start_time</th>\n",
       "      <th>Ate_late</th>\n",
       "      <th>Drank_coffee</th>\n",
       "      <th>Stressful_day</th>\n",
       "      <th>Worked_out</th>\n",
       "    </tr>\n",
       "  </thead>\n",
       "  <tbody>\n",
       "    <tr>\n",
       "      <th>count</th>\n",
       "      <td>133.00</td>\n",
       "      <td>133.00</td>\n",
       "      <td>133.00</td>\n",
       "      <td>133.00</td>\n",
       "      <td>133.00</td>\n",
       "      <td>133.00</td>\n",
       "      <td>133.00</td>\n",
       "      <td>133.00</td>\n",
       "    </tr>\n",
       "    <tr>\n",
       "      <th>mean</th>\n",
       "      <td>73.05</td>\n",
       "      <td>419.17</td>\n",
       "      <td>9429.39</td>\n",
       "      <td>10.50</td>\n",
       "      <td>0.14</td>\n",
       "      <td>0.40</td>\n",
       "      <td>0.38</td>\n",
       "      <td>0.09</td>\n",
       "    </tr>\n",
       "    <tr>\n",
       "      <th>std</th>\n",
       "      <td>14.31</td>\n",
       "      <td>73.78</td>\n",
       "      <td>3630.93</td>\n",
       "      <td>1.31</td>\n",
       "      <td>0.34</td>\n",
       "      <td>0.49</td>\n",
       "      <td>0.49</td>\n",
       "      <td>0.29</td>\n",
       "    </tr>\n",
       "    <tr>\n",
       "      <th>min</th>\n",
       "      <td>27.00</td>\n",
       "      <td>226.00</td>\n",
       "      <td>1222.00</td>\n",
       "      <td>7.00</td>\n",
       "      <td>0.00</td>\n",
       "      <td>0.00</td>\n",
       "      <td>0.00</td>\n",
       "      <td>0.00</td>\n",
       "    </tr>\n",
       "    <tr>\n",
       "      <th>25%</th>\n",
       "      <td>64.00</td>\n",
       "      <td>366.00</td>\n",
       "      <td>7191.00</td>\n",
       "      <td>10.00</td>\n",
       "      <td>0.00</td>\n",
       "      <td>0.00</td>\n",
       "      <td>0.00</td>\n",
       "      <td>0.00</td>\n",
       "    </tr>\n",
       "    <tr>\n",
       "      <th>50%</th>\n",
       "      <td>74.00</td>\n",
       "      <td>417.00</td>\n",
       "      <td>9049.00</td>\n",
       "      <td>10.00</td>\n",
       "      <td>0.00</td>\n",
       "      <td>0.00</td>\n",
       "      <td>0.00</td>\n",
       "      <td>0.00</td>\n",
       "    </tr>\n",
       "    <tr>\n",
       "      <th>75%</th>\n",
       "      <td>83.00</td>\n",
       "      <td>474.00</td>\n",
       "      <td>11277.00</td>\n",
       "      <td>11.00</td>\n",
       "      <td>0.00</td>\n",
       "      <td>1.00</td>\n",
       "      <td>1.00</td>\n",
       "      <td>0.00</td>\n",
       "    </tr>\n",
       "    <tr>\n",
       "      <th>max</th>\n",
       "      <td>100.00</td>\n",
       "      <td>593.00</td>\n",
       "      <td>21892.00</td>\n",
       "      <td>14.00</td>\n",
       "      <td>1.00</td>\n",
       "      <td>1.00</td>\n",
       "      <td>1.00</td>\n",
       "      <td>1.00</td>\n",
       "    </tr>\n",
       "  </tbody>\n",
       "</table>\n",
       "</div>"
      ],
      "text/plain": [
       "       Sleep_quality  Time_in_bed  Activity_steps  Start_time  Ate_late  \\\n",
       "count         133.00       133.00          133.00      133.00    133.00   \n",
       "mean           73.05       419.17         9429.39       10.50      0.14   \n",
       "std            14.31        73.78         3630.93        1.31      0.34   \n",
       "min            27.00       226.00         1222.00        7.00      0.00   \n",
       "25%            64.00       366.00         7191.00       10.00      0.00   \n",
       "50%            74.00       417.00         9049.00       10.00      0.00   \n",
       "75%            83.00       474.00        11277.00       11.00      0.00   \n",
       "max           100.00       593.00        21892.00       14.00      1.00   \n",
       "\n",
       "       Drank_coffee  Stressful_day  Worked_out  \n",
       "count        133.00         133.00      133.00  \n",
       "mean           0.40           0.38        0.09  \n",
       "std            0.49           0.49        0.29  \n",
       "min            0.00           0.00        0.00  \n",
       "25%            0.00           0.00        0.00  \n",
       "50%            0.00           0.00        0.00  \n",
       "75%            1.00           1.00        0.00  \n",
       "max            1.00           1.00        1.00  "
      ]
     },
     "execution_count": 35,
     "metadata": {},
     "output_type": "execute_result"
    }
   ],
   "source": [
    "# checking mins and maxs\n",
    "\n",
    "round(df_full.describe(), 2)"
   ]
  },
  {
   "cell_type": "code",
   "execution_count": 122,
   "metadata": {},
   "outputs": [],
   "source": [
    "df_full.to_csv('df_full.csv')"
   ]
  }
 ],
 "metadata": {
  "kernelspec": {
   "display_name": "Python 3",
   "language": "python",
   "name": "python3"
  },
  "language_info": {
   "codemirror_mode": {
    "name": "ipython",
    "version": 3
   },
   "file_extension": ".py",
   "mimetype": "text/x-python",
   "name": "python",
   "nbconvert_exporter": "python",
   "pygments_lexer": "ipython3",
   "version": "3.7.1"
  }
 },
 "nbformat": 4,
 "nbformat_minor": 2
}
