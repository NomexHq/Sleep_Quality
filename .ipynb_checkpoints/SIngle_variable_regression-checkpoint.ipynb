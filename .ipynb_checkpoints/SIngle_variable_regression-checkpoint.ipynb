{
 "cells": [
  {
   "cell_type": "code",
   "execution_count": 1,
   "metadata": {},
   "outputs": [],
   "source": [
    "import pandas as pd\n",
    "from datetime import datetime\n",
    "import seaborn as sns\n",
    "import matplotlib.pyplot as plt\n",
    "import numpy as np\n",
    "import missingno as msno\n",
    "from statsmodels.formula.api import ols\n",
    "import statsmodels.api as sm\n",
    "import statsmodels.stats.api as sms\n",
    "import scipy\n",
    "from scipy import stats\n",
    "from scipy.stats import norm\n",
    "from scipy.stats import ttest_1samp\n",
    "%matplotlib inline"
   ]
  },
  {
   "cell_type": "code",
   "execution_count": 22,
   "metadata": {},
   "outputs": [
    {
     "data": {
      "text/html": [
       "<div>\n",
       "<style scoped>\n",
       "    .dataframe tbody tr th:only-of-type {\n",
       "        vertical-align: middle;\n",
       "    }\n",
       "\n",
       "    .dataframe tbody tr th {\n",
       "        vertical-align: top;\n",
       "    }\n",
       "\n",
       "    .dataframe thead th {\n",
       "        text-align: right;\n",
       "    }\n",
       "</style>\n",
       "<table border=\"1\" class=\"dataframe\">\n",
       "  <thead>\n",
       "    <tr style=\"text-align: right;\">\n",
       "      <th></th>\n",
       "      <th>Unnamed: 0</th>\n",
       "      <th>Unnamed: 0.1</th>\n",
       "      <th>Sleep_quality</th>\n",
       "      <th>Time_in_bed</th>\n",
       "      <th>Activity_steps</th>\n",
       "      <th>Start_date</th>\n",
       "      <th>Start_time</th>\n",
       "      <th>Start_Dayofweek</th>\n",
       "      <th>Ate_late</th>\n",
       "      <th>Drank_coffee</th>\n",
       "      <th>Stressful_day</th>\n",
       "      <th>Worked_out</th>\n",
       "      <th>Activity_steps_log</th>\n",
       "      <th>Sleep_quality_log</th>\n",
       "    </tr>\n",
       "  </thead>\n",
       "  <tbody>\n",
       "    <tr>\n",
       "      <th>0</th>\n",
       "      <td>0</td>\n",
       "      <td>115</td>\n",
       "      <td>70</td>\n",
       "      <td>398</td>\n",
       "      <td>10583</td>\n",
       "      <td>2016-11-17</td>\n",
       "      <td>11</td>\n",
       "      <td>Thursday</td>\n",
       "      <td>0</td>\n",
       "      <td>0</td>\n",
       "      <td>0</td>\n",
       "      <td>0</td>\n",
       "      <td>9.267004</td>\n",
       "      <td>4.248495</td>\n",
       "    </tr>\n",
       "    <tr>\n",
       "      <th>1</th>\n",
       "      <td>1</td>\n",
       "      <td>116</td>\n",
       "      <td>73</td>\n",
       "      <td>429</td>\n",
       "      <td>16053</td>\n",
       "      <td>2016-11-18</td>\n",
       "      <td>10</td>\n",
       "      <td>Friday</td>\n",
       "      <td>0</td>\n",
       "      <td>0</td>\n",
       "      <td>1</td>\n",
       "      <td>0</td>\n",
       "      <td>9.683651</td>\n",
       "      <td>4.290459</td>\n",
       "    </tr>\n",
       "    <tr>\n",
       "      <th>2</th>\n",
       "      <td>2</td>\n",
       "      <td>117</td>\n",
       "      <td>80</td>\n",
       "      <td>459</td>\n",
       "      <td>8794</td>\n",
       "      <td>2016-11-19</td>\n",
       "      <td>11</td>\n",
       "      <td>Saturday</td>\n",
       "      <td>0</td>\n",
       "      <td>0</td>\n",
       "      <td>0</td>\n",
       "      <td>0</td>\n",
       "      <td>9.081825</td>\n",
       "      <td>4.382027</td>\n",
       "    </tr>\n",
       "    <tr>\n",
       "      <th>3</th>\n",
       "      <td>3</td>\n",
       "      <td>118</td>\n",
       "      <td>75</td>\n",
       "      <td>429</td>\n",
       "      <td>2622</td>\n",
       "      <td>2016-11-20</td>\n",
       "      <td>10</td>\n",
       "      <td>Sunday</td>\n",
       "      <td>0</td>\n",
       "      <td>0</td>\n",
       "      <td>0</td>\n",
       "      <td>0</td>\n",
       "      <td>7.871693</td>\n",
       "      <td>4.317488</td>\n",
       "    </tr>\n",
       "    <tr>\n",
       "      <th>4</th>\n",
       "      <td>4</td>\n",
       "      <td>119</td>\n",
       "      <td>88</td>\n",
       "      <td>499</td>\n",
       "      <td>11744</td>\n",
       "      <td>2016-11-21</td>\n",
       "      <td>9</td>\n",
       "      <td>Monday</td>\n",
       "      <td>0</td>\n",
       "      <td>0</td>\n",
       "      <td>1</td>\n",
       "      <td>0</td>\n",
       "      <td>9.371098</td>\n",
       "      <td>4.477337</td>\n",
       "    </tr>\n",
       "  </tbody>\n",
       "</table>\n",
       "</div>"
      ],
      "text/plain": [
       "   Unnamed: 0  Unnamed: 0.1  Sleep_quality  Time_in_bed  Activity_steps  \\\n",
       "0           0           115             70          398           10583   \n",
       "1           1           116             73          429           16053   \n",
       "2           2           117             80          459            8794   \n",
       "3           3           118             75          429            2622   \n",
       "4           4           119             88          499           11744   \n",
       "\n",
       "   Start_date  Start_time Start_Dayofweek  Ate_late  Drank_coffee  \\\n",
       "0  2016-11-17          11        Thursday         0             0   \n",
       "1  2016-11-18          10          Friday         0             0   \n",
       "2  2016-11-19          11        Saturday         0             0   \n",
       "3  2016-11-20          10          Sunday         0             0   \n",
       "4  2016-11-21           9          Monday         0             0   \n",
       "\n",
       "   Stressful_day  Worked_out  Activity_steps_log  Sleep_quality_log  \n",
       "0              0           0            9.267004           4.248495  \n",
       "1              1           0            9.683651           4.290459  \n",
       "2              0           0            9.081825           4.382027  \n",
       "3              0           0            7.871693           4.317488  \n",
       "4              1           0            9.371098           4.477337  "
      ]
     },
     "execution_count": 22,
     "metadata": {},
     "output_type": "execute_result"
    }
   ],
   "source": [
    "data = pd.read_csv('data_ready.csv')\n",
    "data.head()"
   ]
  },
  {
   "cell_type": "markdown",
   "metadata": {},
   "source": [
    "# Single variable regression"
   ]
  },
  {
   "cell_type": "markdown",
   "metadata": {},
   "source": [
    "## Question: does the amount of steps I walk each day helps me sleep better?"
   ]
  },
  {
   "cell_type": "code",
   "execution_count": 24,
   "metadata": {},
   "outputs": [
    {
     "name": "stderr",
     "output_type": "stream",
     "text": [
      "/anaconda3/lib/python3.7/site-packages/scipy/stats/stats.py:1713: FutureWarning: Using a non-tuple sequence for multidimensional indexing is deprecated; use `arr[tuple(seq)]` instead of `arr[seq]`. In the future this will be interpreted as an array index, `arr[np.array(seq)]`, which will result either in an error or a different result.\n",
      "  return np.add.reduce(sorted[indexer] * weights, axis=axis) / sumval\n"
     ]
    },
    {
     "data": {
      "text/plain": [
       "Text(0.5, 1.0, 'Quick Regression')"
      ]
     },
     "execution_count": 24,
     "metadata": {},
     "output_type": "execute_result"
    },
    {
     "data": {
      "image/png": "[encoded data removed]",
      "text/plain": [
       "<Figure size 432x432 with 3 Axes>"
      ]
     },
     "metadata": {
      "needs_background": "light"
     },
     "output_type": "display_data"
    }
   ],
   "source": [
    "# a quick assessment #1\n",
    "\n",
    "g = sns.JointGrid(x=\"Activity_steps\", y=\"Sleep_quality\", data=data)\n",
    "g = g.plot(sns.regplot, sns.distplot)\n",
    "\n",
    "# relationship appear to be linear"
   ]
  },
  {
   "cell_type": "code",
   "execution_count": 6,
   "metadata": {},
   "outputs": [
    {
     "data": {
      "text/plain": [
       "LinregressResult(slope=-0.0005015893085962697, intercept=78.30835161387002, rvalue=-0.12795182415485182, pvalue=0.1452728488936484, stderr=0.000342312255750048)"
      ]
     },
     "execution_count": 6,
     "metadata": {},
     "output_type": "execute_result"
    }
   ],
   "source": [
    "# quick regression #2\n",
    "\n",
    "xs = data.Activity_steps\n",
    "ys = data.Sleep_quality\n",
    "res = scipy.stats.linregress(xs, ys)\n",
    "res"
   ]
  },
  {
   "cell_type": "code",
   "execution_count": 8,
   "metadata": {},
   "outputs": [
    {
     "data": {
      "image/png": "[encoded data removed]",
      "text/plain": [
       "<Figure size 432x288 with 1 Axes>"
      ]
     },
     "metadata": {
      "needs_background": "light"
     },
     "output_type": "display_data"
    }
   ],
   "source": [
    "# plotting the line of best fit #2\n",
    "\n",
    "sns.regplot(xs, ys);"
   ]
  },
  {
   "cell_type": "markdown",
   "metadata": {},
   "source": [
    "### Building a linear model"
   ]
  },
  {
   "cell_type": "code",
   "execution_count": 10,
   "metadata": {},
   "outputs": [
    {
     "data": {
      "text/html": [
       "<table class=\"simpletable\">\n",
       "<caption>OLS Regression Results</caption>\n",
       "<tr>\n",
       "  <th>Dep. Variable:</th>      <td>Sleep_quality</td>  <th>  R-squared:         </th> <td>   0.016</td>\n",
       "</tr>\n",
       "<tr>\n",
       "  <th>Model:</th>                   <td>OLS</td>       <th>  Adj. R-squared:    </th> <td>   0.009</td>\n",
       "</tr>\n",
       "<tr>\n",
       "  <th>Method:</th>             <td>Least Squares</td>  <th>  F-statistic:       </th> <td>   2.147</td>\n",
       "</tr>\n",
       "<tr>\n",
       "  <th>Date:</th>             <td>Thu, 18 Apr 2019</td> <th>  Prob (F-statistic):</th>  <td> 0.145</td> \n",
       "</tr>\n",
       "<tr>\n",
       "  <th>Time:</th>                 <td>06:40:50</td>     <th>  Log-Likelihood:    </th> <td> -525.51</td>\n",
       "</tr>\n",
       "<tr>\n",
       "  <th>No. Observations:</th>      <td>   131</td>      <th>  AIC:               </th> <td>   1055.</td>\n",
       "</tr>\n",
       "<tr>\n",
       "  <th>Df Residuals:</th>          <td>   129</td>      <th>  BIC:               </th> <td>   1061.</td>\n",
       "</tr>\n",
       "<tr>\n",
       "  <th>Df Model:</th>              <td>     1</td>      <th>                     </th>     <td> </td>   \n",
       "</tr>\n",
       "<tr>\n",
       "  <th>Covariance Type:</th>      <td>nonrobust</td>    <th>                     </th>     <td> </td>   \n",
       "</tr>\n",
       "</table>\n",
       "<table class=\"simpletable\">\n",
       "<tr>\n",
       "         <td></td>           <th>coef</th>     <th>std err</th>      <th>t</th>      <th>P>|t|</th>  <th>[0.025</th>    <th>0.975]</th>  \n",
       "</tr>\n",
       "<tr>\n",
       "  <th>Intercept</th>      <td>   78.3084</td> <td>    3.391</td> <td>   23.096</td> <td> 0.000</td> <td>   71.600</td> <td>   85.017</td>\n",
       "</tr>\n",
       "<tr>\n",
       "  <th>Activity_steps</th> <td>   -0.0005</td> <td>    0.000</td> <td>   -1.465</td> <td> 0.145</td> <td>   -0.001</td> <td>    0.000</td>\n",
       "</tr>\n",
       "</table>\n",
       "<table class=\"simpletable\">\n",
       "<tr>\n",
       "  <th>Omnibus:</th>       <td> 2.126</td> <th>  Durbin-Watson:     </th> <td>   1.472</td>\n",
       "</tr>\n",
       "<tr>\n",
       "  <th>Prob(Omnibus):</th> <td> 0.345</td> <th>  Jarque-Bera (JB):  </th> <td>   1.684</td>\n",
       "</tr>\n",
       "<tr>\n",
       "  <th>Skew:</th>          <td>-0.260</td> <th>  Prob(JB):          </th> <td>   0.431</td>\n",
       "</tr>\n",
       "<tr>\n",
       "  <th>Kurtosis:</th>      <td> 3.195</td> <th>  Cond. No.          </th> <td>2.85e+04</td>\n",
       "</tr>\n",
       "</table><br/><br/>Warnings:<br/>[1] Standard Errors assume that the covariance matrix of the errors is correctly specified.<br/>[2] The condition number is large, 2.85e+04. This might indicate that there are<br/>strong multicollinearity or other numerical problems."
      ],
      "text/plain": [
       "<class 'statsmodels.iolib.summary.Summary'>\n",
       "\"\"\"\n",
       "                            OLS Regression Results                            \n",
       "==============================================================================\n",
       "Dep. Variable:          Sleep_quality   R-squared:                       0.016\n",
       "Model:                            OLS   Adj. R-squared:                  0.009\n",
       "Method:                 Least Squares   F-statistic:                     2.147\n",
       "Date:                Thu, 18 Apr 2019   Prob (F-statistic):              0.145\n",
       "Time:                        06:40:50   Log-Likelihood:                -525.51\n",
       "No. Observations:                 131   AIC:                             1055.\n",
       "Df Residuals:                     129   BIC:                             1061.\n",
       "Df Model:                           1                                         \n",
       "Covariance Type:            nonrobust                                         \n",
       "==================================================================================\n",
       "                     coef    std err          t      P>|t|      [0.025      0.975]\n",
       "----------------------------------------------------------------------------------\n",
       "Intercept         78.3084      3.391     23.096      0.000      71.600      85.017\n",
       "Activity_steps    -0.0005      0.000     -1.465      0.145      -0.001       0.000\n",
       "==============================================================================\n",
       "Omnibus:                        2.126   Durbin-Watson:                   1.472\n",
       "Prob(Omnibus):                  0.345   Jarque-Bera (JB):                1.684\n",
       "Skew:                          -0.260   Prob(JB):                        0.431\n",
       "Kurtosis:                       3.195   Cond. No.                     2.85e+04\n",
       "==============================================================================\n",
       "\n",
       "Warnings:\n",
       "[1] Standard Errors assume that the covariance matrix of the errors is correctly specified.\n",
       "[2] The condition number is large, 2.85e+04. This might indicate that there are\n",
       "strong multicollinearity or other numerical problems.\n",
       "\"\"\""
      ]
     },
     "execution_count": 10,
     "metadata": {},
     "output_type": "execute_result"
    }
   ],
   "source": [
    "# constructing linear model \n",
    "\n",
    "lr_model = ols(formula='Sleep_quality~Activity_steps', data=data).fit()\n",
    "lr_model.summary()\n"
   ]
  },
  {
   "cell_type": "markdown",
   "metadata": {},
   "source": [
    "## Model assessment"
   ]
  },
  {
   "cell_type": "markdown",
   "metadata": {},
   "source": [
    "### Required assumptions to obtain reliable estimators:\n",
    "* Linear in parameters (assumption)\n",
    "* Random sampling (assumption + the way data was collected)\n",
    "* Zero conditional mean (assumption; the value of the explanatory variable must contain no information about the mean of the unobserved factors)\n",
    "* Sample variation in the explanatory variable (assumption; the values of the explanatory variables are not all the same (otherwise it would be impossible to study how different values of the explanatory variable lead to different values of the dependent variable))\n",
    "* Homoscedasticity  \n",
    "* Normally distributed residuals  "
   ]
  },
  {
   "cell_type": "code",
   "execution_count": 11,
   "metadata": {},
   "outputs": [
    {
     "data": {
      "image/png": "[encoded data removed]",
      "text/plain": [
       "<Figure size 432x288 with 1 Axes>"
      ]
     },
     "metadata": {
      "needs_background": "light"
     },
     "output_type": "display_data"
    }
   ],
   "source": [
    "# residuals plot for quality vs duration\n",
    "\n",
    "sns.residplot(data['Activity_steps'], data['Sleep_quality'], lowess=True, color=\"g\");"
   ]
  },
  {
   "cell_type": "code",
   "execution_count": 13,
   "metadata": {},
   "outputs": [
    {
     "data": {
      "image/png": "[encoded data removed]",
      "text/plain": [
       "<Figure size 432x288 with 1 Axes>"
      ]
     },
     "metadata": {
      "needs_background": "light"
     },
     "output_type": "display_data"
    }
   ],
   "source": [
    "f2 = 'Sleep_quality~Activity_steps'\n",
    "model2 = ols(formula=f2, data=data).fit()\n",
    "\n",
    "resid2 = model2.resid\n",
    "\n",
    "fig2 = sm.graphics.qqplot(resid2, dist=stats.norm, line='45', fit=True,   )\n",
    "#fig.show()"
   ]
  },
  {
   "cell_type": "markdown",
   "metadata": {},
   "source": [
    "### Assessing normality of residuals with via Jarque-Bera Test"
   ]
  },
  {
   "cell_type": "code",
   "execution_count": 14,
   "metadata": {},
   "outputs": [
    {
     "data": {
      "text/plain": [
       "[('Jarque-Bera', 1.6836622144060367),\n",
       " ('Prob', 0.4309207384911302),\n",
       " ('Skew', -0.26004622094957075),\n",
       " ('Kurtosis', 3.194835960400607)]"
      ]
     },
     "execution_count": 14,
     "metadata": {},
     "output_type": "execute_result"
    }
   ],
   "source": [
    "name = ['Jarque-Bera','Prob','Skew', 'Kurtosis']\n",
    "test = sms.jarque_bera(model2.resid)\n",
    "list(zip(name, test))"
   ]
  },
  {
   "cell_type": "markdown",
   "metadata": {},
   "source": [
    "### Assessing Hetereoscadasticity  via (GOLDFELD-QUANDT test)"
   ]
  },
  {
   "cell_type": "code",
   "execution_count": 15,
   "metadata": {},
   "outputs": [
    {
     "data": {
      "text/plain": [
       "[('F statistic', 1.415301000465405), ('p-value', 0.08436361085910044)]"
      ]
     },
     "execution_count": 15,
     "metadata": {},
     "output_type": "execute_result"
    }
   ],
   "source": [
    "# Run Goldfeld Quandt test\n",
    "name2 = ['F statistic', 'p-value']\n",
    "test2 = sms.het_goldfeldquandt(model2.resid, model2.model.exog)\n",
    "list(zip(name2, test2))\n",
    "\n",
    "# the null hypothesis assumes homoskedasticity "
   ]
  },
  {
   "cell_type": "markdown",
   "metadata": {},
   "source": [
    "## Data transformation "
   ]
  },
  {
   "cell_type": "markdown",
   "metadata": {},
   "source": [
    "### Log"
   ]
  },
  {
   "cell_type": "code",
   "execution_count": 17,
   "metadata": {},
   "outputs": [
    {
     "data": {
      "text/html": [
       "<div>\n",
       "<style scoped>\n",
       "    .dataframe tbody tr th:only-of-type {\n",
       "        vertical-align: middle;\n",
       "    }\n",
       "\n",
       "    .dataframe tbody tr th {\n",
       "        vertical-align: top;\n",
       "    }\n",
       "\n",
       "    .dataframe thead th {\n",
       "        text-align: right;\n",
       "    }\n",
       "</style>\n",
       "<table border=\"1\" class=\"dataframe\">\n",
       "  <thead>\n",
       "    <tr style=\"text-align: right;\">\n",
       "      <th></th>\n",
       "      <th>Sleep_quality</th>\n",
       "      <th>Activity_steps</th>\n",
       "    </tr>\n",
       "  </thead>\n",
       "  <tbody>\n",
       "    <tr>\n",
       "      <th>0</th>\n",
       "      <td>70</td>\n",
       "      <td>10583</td>\n",
       "    </tr>\n",
       "    <tr>\n",
       "      <th>1</th>\n",
       "      <td>73</td>\n",
       "      <td>16053</td>\n",
       "    </tr>\n",
       "    <tr>\n",
       "      <th>2</th>\n",
       "      <td>80</td>\n",
       "      <td>8794</td>\n",
       "    </tr>\n",
       "    <tr>\n",
       "      <th>3</th>\n",
       "      <td>75</td>\n",
       "      <td>2622</td>\n",
       "    </tr>\n",
       "    <tr>\n",
       "      <th>4</th>\n",
       "      <td>88</td>\n",
       "      <td>11744</td>\n",
       "    </tr>\n",
       "  </tbody>\n",
       "</table>\n",
       "</div>"
      ],
      "text/plain": [
       "   Sleep_quality  Activity_steps\n",
       "0             70           10583\n",
       "1             73           16053\n",
       "2             80            8794\n",
       "3             75            2622\n",
       "4             88           11744"
      ]
     },
     "execution_count": 17,
     "metadata": {},
     "output_type": "execute_result"
    }
   ],
   "source": [
    "# logging the steps\n",
    "sub_logged2 = data[['Sleep_quality', 'Activity_steps']]\n",
    "sub_logged2.head()"
   ]
  },
  {
   "cell_type": "code",
   "execution_count": 19,
   "metadata": {},
   "outputs": [
    {
     "name": "stderr",
     "output_type": "stream",
     "text": [
      "/anaconda3/lib/python3.7/site-packages/ipykernel_launcher.py:1: SettingWithCopyWarning: \n",
      "A value is trying to be set on a copy of a slice from a DataFrame.\n",
      "Try using .loc[row_indexer,col_indexer] = value instead\n",
      "\n",
      "See the caveats in the documentation: http://pandas.pydata.org/pandas-docs/stable/indexing.html#indexing-view-versus-copy\n",
      "  \"\"\"Entry point for launching an IPython kernel.\n",
      "/anaconda3/lib/python3.7/site-packages/ipykernel_launcher.py:2: SettingWithCopyWarning: \n",
      "A value is trying to be set on a copy of a slice from a DataFrame.\n",
      "Try using .loc[row_indexer,col_indexer] = value instead\n",
      "\n",
      "See the caveats in the documentation: http://pandas.pydata.org/pandas-docs/stable/indexing.html#indexing-view-versus-copy\n",
      "  \n"
     ]
    },
    {
     "data": {
      "text/html": [
       "<div>\n",
       "<style scoped>\n",
       "    .dataframe tbody tr th:only-of-type {\n",
       "        vertical-align: middle;\n",
       "    }\n",
       "\n",
       "    .dataframe tbody tr th {\n",
       "        vertical-align: top;\n",
       "    }\n",
       "\n",
       "    .dataframe thead th {\n",
       "        text-align: right;\n",
       "    }\n",
       "</style>\n",
       "<table border=\"1\" class=\"dataframe\">\n",
       "  <thead>\n",
       "    <tr style=\"text-align: right;\">\n",
       "      <th></th>\n",
       "      <th>Sleep_quality</th>\n",
       "      <th>Activity_steps</th>\n",
       "      <th>Sleep_quality_log</th>\n",
       "      <th>Activity_steps_log</th>\n",
       "    </tr>\n",
       "  </thead>\n",
       "  <tbody>\n",
       "    <tr>\n",
       "      <th>0</th>\n",
       "      <td>70</td>\n",
       "      <td>10583</td>\n",
       "      <td>4.248495</td>\n",
       "      <td>9.267004</td>\n",
       "    </tr>\n",
       "    <tr>\n",
       "      <th>1</th>\n",
       "      <td>73</td>\n",
       "      <td>16053</td>\n",
       "      <td>4.290459</td>\n",
       "      <td>9.683651</td>\n",
       "    </tr>\n",
       "    <tr>\n",
       "      <th>2</th>\n",
       "      <td>80</td>\n",
       "      <td>8794</td>\n",
       "      <td>4.382027</td>\n",
       "      <td>9.081825</td>\n",
       "    </tr>\n",
       "    <tr>\n",
       "      <th>3</th>\n",
       "      <td>75</td>\n",
       "      <td>2622</td>\n",
       "      <td>4.317488</td>\n",
       "      <td>7.871693</td>\n",
       "    </tr>\n",
       "    <tr>\n",
       "      <th>4</th>\n",
       "      <td>88</td>\n",
       "      <td>11744</td>\n",
       "      <td>4.477337</td>\n",
       "      <td>9.371098</td>\n",
       "    </tr>\n",
       "  </tbody>\n",
       "</table>\n",
       "</div>"
      ],
      "text/plain": [
       "   Sleep_quality  Activity_steps  Sleep_quality_log  Activity_steps_log\n",
       "0             70           10583           4.248495            9.267004\n",
       "1             73           16053           4.290459            9.683651\n",
       "2             80            8794           4.382027            9.081825\n",
       "3             75            2622           4.317488            7.871693\n",
       "4             88           11744           4.477337            9.371098"
      ]
     },
     "execution_count": 19,
     "metadata": {},
     "output_type": "execute_result"
    }
   ],
   "source": [
    "sub_logged2['Sleep_quality_log'] = np.log(data['Sleep_quality'])\n",
    "sub_logged2['Activity_steps_log'] = np.log(data['Activity_steps'])\n",
    "sub_logged2.head()"
   ]
  },
  {
   "cell_type": "code",
   "execution_count": 20,
   "metadata": {},
   "outputs": [
    {
     "data": {
      "text/html": [
       "<table class=\"simpletable\">\n",
       "<caption>OLS Regression Results</caption>\n",
       "<tr>\n",
       "  <th>Dep. Variable:</th>    <td>Sleep_quality_log</td> <th>  R-squared:         </th> <td>   0.019</td>\n",
       "</tr>\n",
       "<tr>\n",
       "  <th>Model:</th>                   <td>OLS</td>        <th>  Adj. R-squared:    </th> <td>   0.012</td>\n",
       "</tr>\n",
       "<tr>\n",
       "  <th>Method:</th>             <td>Least Squares</td>   <th>  F-statistic:       </th> <td>   2.540</td>\n",
       "</tr>\n",
       "<tr>\n",
       "  <th>Date:</th>             <td>Thu, 18 Apr 2019</td>  <th>  Prob (F-statistic):</th>  <td> 0.113</td> \n",
       "</tr>\n",
       "<tr>\n",
       "  <th>Time:</th>                 <td>06:44:12</td>      <th>  Log-Likelihood:    </th> <td>  27.007</td>\n",
       "</tr>\n",
       "<tr>\n",
       "  <th>No. Observations:</th>      <td>   131</td>       <th>  AIC:               </th> <td>  -50.01</td>\n",
       "</tr>\n",
       "<tr>\n",
       "  <th>Df Residuals:</th>          <td>   129</td>       <th>  BIC:               </th> <td>  -44.26</td>\n",
       "</tr>\n",
       "<tr>\n",
       "  <th>Df Model:</th>              <td>     1</td>       <th>                     </th>     <td> </td>   \n",
       "</tr>\n",
       "<tr>\n",
       "  <th>Covariance Type:</th>      <td>nonrobust</td>     <th>                     </th>     <td> </td>   \n",
       "</tr>\n",
       "</table>\n",
       "<table class=\"simpletable\">\n",
       "<tr>\n",
       "           <td></td>             <th>coef</th>     <th>std err</th>      <th>t</th>      <th>P>|t|</th>  <th>[0.025</th>    <th>0.975]</th>  \n",
       "</tr>\n",
       "<tr>\n",
       "  <th>Intercept</th>          <td>    4.8338</td> <td>    0.347</td> <td>   13.914</td> <td> 0.000</td> <td>    4.146</td> <td>    5.521</td>\n",
       "</tr>\n",
       "<tr>\n",
       "  <th>Activity_steps_log</th> <td>   -0.0611</td> <td>    0.038</td> <td>   -1.594</td> <td> 0.113</td> <td>   -0.137</td> <td>    0.015</td>\n",
       "</tr>\n",
       "</table>\n",
       "<table class=\"simpletable\">\n",
       "<tr>\n",
       "  <th>Omnibus:</th>       <td>25.718</td> <th>  Durbin-Watson:     </th> <td>   1.576</td>\n",
       "</tr>\n",
       "<tr>\n",
       "  <th>Prob(Omnibus):</th> <td> 0.000</td> <th>  Jarque-Bera (JB):  </th> <td>  39.208</td>\n",
       "</tr>\n",
       "<tr>\n",
       "  <th>Skew:</th>          <td>-0.971</td> <th>  Prob(JB):          </th> <td>3.06e-09</td>\n",
       "</tr>\n",
       "<tr>\n",
       "  <th>Kurtosis:</th>      <td> 4.847</td> <th>  Cond. No.          </th> <td>    184.</td>\n",
       "</tr>\n",
       "</table><br/><br/>Warnings:<br/>[1] Standard Errors assume that the covariance matrix of the errors is correctly specified."
      ],
      "text/plain": [
       "<class 'statsmodels.iolib.summary.Summary'>\n",
       "\"\"\"\n",
       "                            OLS Regression Results                            \n",
       "==============================================================================\n",
       "Dep. Variable:      Sleep_quality_log   R-squared:                       0.019\n",
       "Model:                            OLS   Adj. R-squared:                  0.012\n",
       "Method:                 Least Squares   F-statistic:                     2.540\n",
       "Date:                Thu, 18 Apr 2019   Prob (F-statistic):              0.113\n",
       "Time:                        06:44:12   Log-Likelihood:                 27.007\n",
       "No. Observations:                 131   AIC:                            -50.01\n",
       "Df Residuals:                     129   BIC:                            -44.26\n",
       "Df Model:                           1                                         \n",
       "Covariance Type:            nonrobust                                         \n",
       "======================================================================================\n",
       "                         coef    std err          t      P>|t|      [0.025      0.975]\n",
       "--------------------------------------------------------------------------------------\n",
       "Intercept              4.8338      0.347     13.914      0.000       4.146       5.521\n",
       "Activity_steps_log    -0.0611      0.038     -1.594      0.113      -0.137       0.015\n",
       "==============================================================================\n",
       "Omnibus:                       25.718   Durbin-Watson:                   1.576\n",
       "Prob(Omnibus):                  0.000   Jarque-Bera (JB):               39.208\n",
       "Skew:                          -0.971   Prob(JB):                     3.06e-09\n",
       "Kurtosis:                       4.847   Cond. No.                         184.\n",
       "==============================================================================\n",
       "\n",
       "Warnings:\n",
       "[1] Standard Errors assume that the covariance matrix of the errors is correctly specified.\n",
       "\"\"\""
      ]
     },
     "execution_count": 20,
     "metadata": {},
     "output_type": "execute_result"
    }
   ],
   "source": [
    "# logged model\n",
    "\n",
    "log_model2 = ols(formula='Sleep_quality_log~Activity_steps_log', data=sub_logged2).fit()\n",
    "log_model2.summary()"
   ]
  },
  {
   "cell_type": "code",
   "execution_count": 21,
   "metadata": {
    "scrolled": true
   },
   "outputs": [
    {
     "data": {
      "image/png": "[encoded data removed]",
      "text/plain": [
       "<Figure size 432x288 with 1 Axes>"
      ]
     },
     "metadata": {
      "needs_background": "light"
     },
     "output_type": "display_data"
    }
   ],
   "source": [
    "# a quick resplot\n",
    "\n",
    "sns.residplot(sub_logged2['Activity_steps_log'], sub_logged2['Sleep_quality_log'], lowess=True, color=\"g\");"
   ]
  },
  {
   "cell_type": "markdown",
   "metadata": {},
   "source": [
    "## Sadly, my intuition has not been confirmed via the results of this simple regression. This model indicated that neither steps or steps_log are associated with"
   ]
  }
 ],
 "metadata": {
  "kernelspec": {
   "display_name": "Python 3",
   "language": "python",
   "name": "python3"
  },
  "language_info": {
   "codemirror_mode": {
    "name": "ipython",
    "version": 3
   },
   "file_extension": ".py",
   "mimetype": "text/x-python",
   "name": "python",
   "nbconvert_exporter": "python",
   "pygments_lexer": "ipython3",
   "version": "3.7.1"
  }
 },
 "nbformat": 4,
 "nbformat_minor": 2
}
